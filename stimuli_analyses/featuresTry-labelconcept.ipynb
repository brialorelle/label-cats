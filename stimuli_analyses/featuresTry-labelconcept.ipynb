{
 "cells": [
  {
   "cell_type": "code",
   "execution_count": 1,
   "metadata": {
    "collapsed": true
   },
   "outputs": [],
   "source": [
    "\n",
    "import os\n",
    "import urllib, cStringIO\n",
    "\n",
    "import pymongo as pm\n",
    "\n",
    "import matplotlib\n",
    "from matplotlib import pylab, mlab, pyplot\n",
    "%matplotlib inline\n",
    "from IPython.core.pylabtools import figsize, getfigs\n",
    "plt = pyplot\n",
    "import seaborn as sns\n",
    "sns.set_context('poster')\n",
    "sns.set_style('white')\n",
    "\n",
    "import numpy as np\n",
    "from __future__ import division\n",
    "import scipy.stats as stats\n",
    "\n",
    "import pandas as pd\n",
    "import json\n",
    "import re\n",
    "\n",
    "from PIL import Image\n",
    "import base64"
   ]
  },
  {
   "cell_type": "markdown",
   "metadata": {},
   "source": [
    "### vgg feature analysis "
   ]
  },
  {
   "cell_type": "code",
   "execution_count": 5,
   "metadata": {},
   "outputs": [],
   "source": [
    "import torch\n",
    "import torchvision.models as models\n",
    "import torch.nn as nn\n",
    "import torchvision.transforms as transforms\n",
    "import torch.nn.functional as F\n",
    "from torch.autograd import Variable\n",
    "\n",
    "import scipy.stats as stats\n",
    "from scipy.stats import norm\n",
    "import sklearn\n",
    "from sklearn.model_selection import train_test_split, cross_val_score\n",
    "from sklearn import svm\n",
    "from sklearn import linear_model, datasets, neighbors\n",
    "\n",
    "from sklearn.cluster import AffinityPropagation\n",
    "from sklearn import metrics\n",
    "\n",
    "from glob import glob\n",
    "import os\n",
    "\n",
    "import embedding_labelconcept as emb\n",
    "reload(emb)\n",
    "from embedding_labelconcept import *"
   ]
  },
  {
   "cell_type": "code",
   "execution_count": 6,
   "metadata": {
    "collapsed": true
   },
   "outputs": [],
   "source": [
    "# retrieve sketch paths\n",
    "def list_files(path, ext='jpg'):\n",
    "    result = [y for x in os.walk(path) for y in glob(os.path.join(x[0], '*.%s' % ext))]\n",
    "    return result\n",
    "\n",
    "# extract metadata\n",
    "path_to_images = '/home/bria/labelconcept/selectedImages'\n",
    "image_paths = sorted(list_files(path_to_images))"
   ]
  },
  {
   "cell_type": "code",
   "execution_count": 7,
   "metadata": {},
   "outputs": [
    {
     "name": "stdout",
     "output_type": "stream",
     "text": [
      "Number of image paths = 32\n"
     ]
    }
   ],
   "source": [
    "## number of images\n",
    "print 'Number of image paths = {}'.format(len(image_paths))"
   ]
  },
  {
   "cell_type": "code",
   "execution_count": null,
   "metadata": {},
   "outputs": [],
   "source": []
  },
  {
   "cell_type": "markdown",
   "metadata": {},
   "source": [
    "## extract features"
   ]
  },
  {
   "cell_type": "markdown",
   "metadata": {},
   "source": [
    "**Dec 28 2017 (updated Jan 14 2018):** <br>\n",
    " - From command line, extract features using `extract_features.py`. The default arguments are for the kid's drawings. <br>\n",
    " - To extract kid's drawings, just run: `python extract_features.py` <br>\n",
    " - To extract (mini verison of) adult drawings, run: `python extract_features.py --data='/data2/jefan/quickDraw/png_mini' --layer_ind=6 --cohort='adult'`"
   ]
  },
  {
   "cell_type": "code",
   "execution_count": 79,
   "metadata": {
    "collapsed": true
   },
   "outputs": [],
   "source": [
    "# z-score normalization to \"center\" the sketch embeddings\n",
    "def normalize(X):\n",
    "    X = X - X.mean(0)\n",
    "    X = X / np.maximum(X.std(0), 1e-5)\n",
    "    return X\n",
    "\n",
    "def get_class_means(X, labels):    \n",
    "    # load in and normalize features \n",
    "    _mu = np.zeros((len(np.unique(labels)), np.shape(X)[1]))        \n",
    "    X = normalize(X)\n",
    "    for vi, v in enumerate(np.unique(np.asarray(labels))):\n",
    "        Xv = X[labels == v]\n",
    "        nv = float(Xv.shape[0])\n",
    "        if nv > 0:\n",
    "            _mu[vi] = Xv.mean(0)\n",
    "    return _mu\n",
    "\n",
    "def normalize_RDM(MAT):\n",
    "    X = MAT - MAT.mean(0).mean(0)\n",
    "    X = X / np.maximum(MAT.std(0).std(0), 1e-5)\n",
    "    return X\n",
    "\n",
    "def plot_rdm_by_class(Features,X,layer_num):\n",
    "    layers = ['P1','P2','P3','P4','P5','FC6','FC7']        \n",
    "    sns.set_style('white')\n",
    "    fig = plt.figure(figsize=(6,6))\n",
    "    labels = X.category.values\n",
    "    means = get_class_means(Features, labels)\n",
    "    CORRMAT = np.corrcoef(means)\n",
    "    plt.matshow(CORRMAT)\n",
    "    plt.colorbar()\n",
    "    if not os.path.exists('./plots'):\n",
    "        os.makedirs('./plots')\n",
    "    plt.savefig('./plots/RDM_by_view_{}.pdf'.format(layers[layer_num]))\n",
    "    \n",
    "def load_features(layer_num):\n",
    "    layers = ['P1','P2','P3','P4','P5','FC6','FC7']            \n",
    "    F = np.load('/home/bria/labelconcept/python/features/FEATURES_{}.npy'.format(layers[layer_num]))\n",
    "    M = pd.read_csv('/home/bria/labelconcept/python/features/METADATA.csv') \n",
    "    return F, M\n",
    "\n",
    "\n",
    "def get_and_plot_RDM(M,F):\n",
    "    labels = M.category.values\n",
    "    labelsPlot = np.unique(M.category.values) ## CHECK THAT THIS IS RIGHT?\n",
    "    means = get_class_means(F, labels)\n",
    "    sns.set_style('white')\n",
    "    CORRMAT = np.corrcoef(means)\n",
    "    sns.set_context('paper')\n",
    "    fig = plt.figure(figsize=(30,30))\n",
    "    plt.matshow(1-CORRMAT, vmin=0, vmax=2)\n",
    "    plt.xticks(range(len(labelsPlot)), labelsPlot, rotation=90);\n",
    "    plt.yticks(range(len(labelsPlot)), labelsPlot); \n",
    "    plt.colorbar()\n",
    "    for tick in pylab.gca().xaxis.iter_ticks():\n",
    "        tick[0].label2On = True\n",
    "        tick[0].label1On = False\n",
    "        tick[0].label2.set_rotation('vertical')\n",
    "        tick[0].tick1On = False\n",
    "        tick[0].tick2On = False\n",
    "    for tick in pylab.gca().yaxis.iter_ticks():\n",
    "        tick[0].tick1On = False\n",
    "        tick[0].tick2On = False  \n",
    "    RDM = CORRMAT\n",
    "    plt.gcf().subplots_adjust(left=0.5) \n",
    "#     plt.tight_layout()    \n",
    "#     plt.savefig('./plots/RDM_{}.pdf'.format(cohort))\n",
    "    return RDM\n",
    "\n",
    "def get_RDM(M,F,sort_inds):\n",
    "    ## sorted adult RDMs\n",
    "    labels = M.label.values\n",
    "    means = get_class_means(F, labels)\n",
    "    ordered_means = means[sort_inds,:]    \n",
    "    RDM = np.corrcoef(ordered_means)\n",
    "    return RDM"
   ]
  },
  {
   "cell_type": "code",
   "execution_count": 83,
   "metadata": {},
   "outputs": [],
   "source": [
    "## Load in image features for a given layer\n",
    "F, M = load_features(1)\n",
    "M = M.reset_index(drop=True)"
   ]
  },
  {
   "cell_type": "code",
   "execution_count": 91,
   "metadata": {},
   "outputs": [
    {
     "data": {
      "text/plain": [
       "<matplotlib.figure.Figure at 0x7f9cc4025690>"
      ]
     },
     "metadata": {},
     "output_type": "display_data"
    },
    {
     "data": {
      "image/png": "[encoded data removed]",
      "text/plain": [
       "<matplotlib.figure.Figure at 0x7f9cc44dc710>"
      ]
     },
     "metadata": {},
     "output_type": "display_data"
    }
   ],
   "source": [
    "## Plot RDM\n",
    "RDM = get_and_plot_RDM(M,F)\n"
   ]
  },
  {
   "cell_type": "code",
   "execution_count": 90,
   "metadata": {},
   "outputs": [
    {
     "data": {
      "text/plain": [
       "array([[ 1.        , -0.53949991, -0.11374894,  0.01905941],\n",
       "       [-0.53949991,  1.        , -0.40767782, -0.58622662],\n",
       "       [-0.11374894, -0.40767782,  1.        , -0.22098586],\n",
       "       [ 0.01905941, -0.58622662, -0.22098586,  1.        ]])"
      ]
     },
     "execution_count": 90,
     "metadata": {},
     "output_type": "execute_result"
    }
   ],
   "source": [
    "RDM"
   ]
  },
  {
   "cell_type": "code",
   "execution_count": null,
   "metadata": {},
   "outputs": [],
   "source": []
  },
  {
   "cell_type": "code",
   "execution_count": null,
   "metadata": {},
   "outputs": [],
   "source": []
  },
  {
   "cell_type": "code",
   "execution_count": 109,
   "metadata": {
    "collapsed": true
   },
   "outputs": [],
   "source": [
    "### Correlations between features in FC7 each class (e.g., object category)"
   ]
  },
  {
   "cell_type": "code",
   "execution_count": 76,
   "metadata": {},
   "outputs": [],
   "source": [
    "# make general function\n",
    "# def corr_cohort_classes(cohort1,cohort2,uniqueLabels):\n",
    "#     if  np.shape(cohort1)==np.shape(cohort2): ## make sure same shape\n",
    "#         classCor=np.zeros(np.shape(uniqueLabels)[0]) # open variable\n",
    "#         for vi, v in enumerate(np.asarray(uniqueLabels)):\n",
    "#             cohort1Vec = cohort1[uniqueLabels == v,:]\n",
    "#             cohort2Vec = cohort2[uniqueLabels == v,:]\n",
    "#             cohort1Vec=np.reshape(cohort1Vec,np.shape(cohort1Vec)[1],np.shape(cohort1Vec)[0]) # resahpe for corr\n",
    "#             cohort2Vec=np.reshape(cohort2Vec,np.shape(cohort2Vec)[1],np.shape(cohort2Vec)[0])# resahpe for corr\n",
    "#             classCor[vi]=stats.pearsonr(cohort1Vec,cohort2Vec)[0]\n",
    "#         return classCor\n",
    "    \n",
    "# uniqueLabels=np.unique(KM.label.values)\n",
    "# means_adult = get_class_means(AF, AM.label.values)\n",
    "# means_kid = get_class_means(KF, KM.label.values)\n",
    "# classCor=corr_cohort_classes(means_adult,means_kid,np.unique(KM.label.values))\n",
    "# sortInd=np.argsort(classCor)\n",
    "# print uniqueLabels[sortInd]\n",
    "# print classCor[sortInd]\n",
    "\n",
    "## print fc7 cross-cohort correlations\n",
    "\n",
    "# dim = KRDM.shape[0]\n",
    "# cor = stats.spearmanr(np.ravel(KRDM[np.triu_indices(dim,k=1)]),np.ravel(ARDM[np.triu_indices(dim,k=1)]))[0]\n",
    "# print 'Correlation between adult and overall kid RDM: {}'.format(cor)"
   ]
  },
  {
   "cell_type": "markdown",
   "metadata": {},
   "source": [
    "##### generate and save out RDMs as separate npy files"
   ]
  },
  {
   "cell_type": "code",
   "execution_count": null,
   "metadata": {},
   "outputs": [
    {
     "name": "stdout",
     "output_type": "stream",
     "text": [
      "Loading in adult features for layer 0...\n"
     ]
    }
   ],
   "source": [
    "# ## subsampling on or off?\n",
    "# subsample_on = 1\n",
    "\n",
    "# ## load in adult features\n",
    "# really_run = 1\n",
    "# if really_run:\n",
    "#     for layer_num in np.arange(7):\n",
    "#         print 'Loading in adult features for layer {}...'.format(layer_num)\n",
    "#         AF, AM = load_features('adult',layer_num)\n",
    "#         AF, AM = remove_practice_trials(AF, AM)\n",
    "#         AM = AM.reset_index(drop=True)\n",
    "#         AF, AM = adult_preproc(AF, AM, these_labels)\n",
    "#         ## subsample features especially for lower layers\n",
    "#         if subsample_on:\n",
    "#             num_features = AF.shape[1]\n",
    "#             size_subsample = 100000\n",
    "#             if num_features>size_subsample:\n",
    "#                 feat_inds = np.random.RandomState(0).permutation(num_features)[:size_subsample]\n",
    "#                 AF = AF[:,feat_inds]         \n",
    "        \n",
    "#         print 'Shape of adult feature tensor: {}'.format(np.shape(AF))\n",
    "\n",
    "#         ## get RDM\n",
    "#         cohort = 'adult'\n",
    "#         print 'Getting and saving RDM...'\n",
    "#         RDM = get_RDM(AM, AF,sort_inds)\n",
    "#         ## save out RDM as npy\n",
    "#         np.save('./rdm/RDM_{}_{}.npy'.format(cohort,layer_num),ARDM)\n",
    "        \n",
    "#     print 'All done!'"
   ]
  },
  {
   "cell_type": "code",
   "execution_count": null,
   "metadata": {
    "collapsed": true
   },
   "outputs": [],
   "source": [
    "# ## subsampling on or off?\n",
    "# subsample_on = 1\n",
    "\n",
    "# really_run = 1\n",
    "# lb = 0\n",
    "# ub = 7\n",
    "# if really_run:\n",
    "#     ## loop through all kid layers and save out their RDM\n",
    "#     for layer_num in np.arange(lb,ub):\n",
    "#         ## load in kid features\n",
    "#         KF, KM = load_features('kid',layer_num)\n",
    "#         KF, KM = remove_practice_trials(KF, KM)\n",
    "#         KM = KM.reset_index(drop=True)\n",
    "#         KF, KM = preproc_kid(KF, KM, these_labels)\n",
    "#         print 'Shape of kid feature tensor: {}'.format(np.shape(KF))\n",
    "#         ## subsample features especially for lower layers\n",
    "#         if subsample_on:        \n",
    "#             num_features = KF.shape[1]\n",
    "#             size_subsample = 100000\n",
    "#             if num_features>size_subsample:\n",
    "#                 feat_inds = np.random.RandomState(0).permutation(num_features)[:size_subsample]\n",
    "#                 KF = KF[:,feat_inds]           \n",
    "        \n",
    "#         ## get RDM\n",
    "#         print 'Getting and saving RDM...'\n",
    "#         cohort = 'kid'\n",
    "#         KRDM = get_RDM(KM, KF,sort_inds)\n",
    "#         ## save out RDM as npy\n",
    "#         np.save('./rdm/RDM_{}_{}.npy'.format(cohort,layer_num),KRDM)\n",
    "        \n",
    "#         print 'Saved OVERALL KID RDMs for layer {}!'.format(layer_num)        \n",
    "                \n",
    "#     ## loop through all kid layers and save out their RDM\n",
    "#     for layer_num in np.arange(lb,ub):\n",
    "#         ## load in kid features\n",
    "#         KF, KM = load_features('kid',layer_num)\n",
    "#         KF, KM = remove_practice_trials(KF, KM)\n",
    "#         KM = KM.reset_index(drop=True)\n",
    "#         KF, KM = preproc_kid(KF, KM, these_labels)\n",
    "#         ## subsample features especially for lower layers\n",
    "#         if subsample_on:\n",
    "#             num_features = KF.shape[1]\n",
    "#             size_subsample = 100000\n",
    "#             if num_features>size_subsample:\n",
    "#                 feat_inds = np.random.RandomState(0).permutation(num_features)[:size_subsample]\n",
    "#                 KF = KF[:,feat_inds]              \n",
    "        \n",
    "#         ## get RDM for older kids (7,8,9,10)\n",
    "#         ind = KM.index[KM['coarse_age'] == 'older']\n",
    "#         meta = KM.loc[ind]\n",
    "#         feat = KF[ind.tolist()]\n",
    "#         print 'Shape of older kid feature tensor: {}'.format(np.shape(feat))        \n",
    "#         ORDM = get_RDM(meta, feat,sort_inds)\n",
    "#         np.save('./rdm/RDM_{}_{}.npy'.format('older',layer_num),ORDM)            \n",
    "#         print 'Saved OLDER KID RDMs for layer {}!'.format(layer_num)        \n",
    "            \n",
    "#     for layer_num in np.arange(lb,ub):\n",
    "#         ## load in kid features\n",
    "#         KF, KM = load_features('kid',layer_num)\n",
    "#         KF, KM = remove_practice_trials(KF, KM)\n",
    "#         KM = KM.reset_index(drop=True)\n",
    "#         KF, KM = preproc_kid(KF, KM, these_labels)\n",
    "#         ## subsample features especially for lower layers\n",
    "#         if subsample_on:\n",
    "#             num_features = KF.shape[1]\n",
    "#             size_subsample = 50000\n",
    "#             if num_features>size_subsample:\n",
    "#                 feat_inds = np.random.RandomState(0).permutation(num_features)[:size_subsample]\n",
    "#                 KF = KF[:,feat_inds]         \n",
    "                        \n",
    "#         ## get RDM for younger kids (3,4,5,6)            \n",
    "#         ind = KM.index[KM['coarse_age'] == 'younger']\n",
    "#         meta = KM.loc[ind]\n",
    "#         feat = KF[ind.tolist()]\n",
    "#         print 'Shape of younger kid feature tensor: {}'.format(np.shape(feat))                \n",
    "#         YRDM = get_RDM(meta, feat,sort_inds)\n",
    "#         np.save('./rdm/RDM_{}_{}.npy'.format('younger',layer_num),YRDM)             \n",
    "#         print 'Saved YOUNGER KID RDMs for layer {}!'.format(layer_num)\n",
    "                "
   ]
  },
  {
   "cell_type": "code",
   "execution_count": null,
   "metadata": {
    "collapsed": true
   },
   "outputs": [],
   "source": []
  },
  {
   "cell_type": "markdown",
   "metadata": {},
   "source": [
    "##### plot layer-wise cross-cohort similarity"
   ]
  },
  {
   "cell_type": "code",
   "execution_count": null,
   "metadata": {
    "collapsed": true
   },
   "outputs": [],
   "source": [
    "# corOA = []\n",
    "# corYA = []\n",
    "\n",
    "# for layer_num in np.arange(7):\n",
    "#     Y = np.load('./rdm/RDM_younger_{}.npy'.format(layer_num))\n",
    "#     O = np.load('./rdm/RDM_older_{}.npy'.format(layer_num))\n",
    "#     A = np.load('./rdm/RDM_adult_{}.npy'.format(layer_num))\n",
    "\n",
    "#     dim = O.shape[0]\n",
    "#     rOA = stats.spearmanr(np.ravel(O[np.triu_indices(dim,k=1)]),np.ravel(A[np.triu_indices(dim,k=1)]))[0]\n",
    "#     rYA = stats.spearmanr(np.ravel(Y[np.triu_indices(dim,k=1)]),np.ravel(A[np.triu_indices(dim,k=1)]))[0]\n",
    "\n",
    "#     corOA.append(rOA)\n",
    "#     corYA.append(rYA)\n",
    "\n",
    "# import seaborn as sns\n",
    "# sns.set_context('talk')\n",
    "# sns.set_style('white')\n",
    "# plt.figure(figsize=(6,6))\n",
    "# plt.plot(np.arange(1,8),corYA,label='younger vs. adult',color=(0.6,0.6,0.6))\n",
    "# plt.plot(np.arange(1,8),corOA,label='older vs. adult',color=(0.2,0.2,0.2))\n",
    "# plt.xlabel('model layer')\n",
    "# plt.ylabel('between-cohort similarity')\n",
    "# plt.legend()\n",
    "# # plt.savefig('./plots/btw_cohort_similarity.pdf')"
   ]
  },
  {
   "cell_type": "markdown",
   "metadata": {
    "collapsed": true
   },
   "source": []
  },
  {
   "cell_type": "code",
   "execution_count": null,
   "metadata": {
    "collapsed": true
   },
   "outputs": [],
   "source": []
  }
 ],
 "metadata": {
  "kernelspec": {
   "display_name": "Python 2",
   "language": "python",
   "name": "python2"
  },
  "language_info": {
   "codemirror_mode": {
    "name": "ipython",
    "version": 2
   },
   "file_extension": ".py",
   "mimetype": "text/x-python",
   "name": "python",
   "nbconvert_exporter": "python",
   "pygments_lexer": "ipython2",
   "version": "2.7.12"
  }
 },
 "nbformat": 4,
 "nbformat_minor": 1
}
