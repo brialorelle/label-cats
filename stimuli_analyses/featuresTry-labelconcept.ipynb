{
 "cells": [
  {
   "cell_type": "code",
   "execution_count": 109,
   "metadata": {
    "collapsed": true
   },
   "outputs": [],
   "source": [
    "\n",
    "import os\n",
    "import urllib, cStringIO\n",
    "\n",
    "import pymongo as pm\n",
    "\n",
    "import matplotlib\n",
    "from matplotlib import pylab, mlab, pyplot\n",
    "%matplotlib inline\n",
    "from IPython.core.pylabtools import figsize, getfigs\n",
    "plt = pyplot\n",
    "import seaborn as sns\n",
    "sns.set_context('poster')\n",
    "sns.set_style('white')\n",
    "\n",
    "import numpy as np\n",
    "from __future__ import division\n",
    "import scipy.stats as stats\n",
    "\n",
    "import pandas as pd\n",
    "import json\n",
    "import re\n",
    "\n",
    "from PIL import Image\n",
    "import base64"
   ]
  },
  {
   "cell_type": "markdown",
   "metadata": {},
   "source": [
    "### vgg feature analysis "
   ]
  },
  {
   "cell_type": "code",
   "execution_count": 110,
   "metadata": {
    "collapsed": true
   },
   "outputs": [],
   "source": [
    "import torch\n",
    "import torchvision.models as models\n",
    "import torch.nn as nn\n",
    "import torchvision.transforms as transforms\n",
    "import torch.nn.functional as F\n",
    "from torch.autograd import Variable\n",
    "\n",
    "import scipy.stats as stats\n",
    "from scipy.stats import norm\n",
    "import sklearn\n",
    "from sklearn.model_selection import train_test_split, cross_val_score\n",
    "from sklearn import svm\n",
    "from sklearn import linear_model, datasets, neighbors\n",
    "\n",
    "from sklearn.cluster import AffinityPropagation\n",
    "from sklearn import metrics\n",
    "\n",
    "from glob import glob\n",
    "import os\n",
    "\n",
    "import embedding_labelconcept as emb\n",
    "reload(emb)\n",
    "from embedding_labelconcept import *"
   ]
  },
  {
   "cell_type": "code",
   "execution_count": 111,
   "metadata": {
    "collapsed": true
   },
   "outputs": [],
   "source": [
    "# retrieve sketch paths\n",
    "def list_files(path, ext='jpg'):\n",
    "    result = [y for x in os.walk(path) for y in glob(os.path.join(x[0], '*.%s' % ext))]\n",
    "    return result\n",
    "\n",
    "# extract metadata\n",
    "path_to_images = '/home/bria/labelconcept/allImages'\n",
    "image_paths = sorted(list_files(path_to_images))"
   ]
  },
  {
   "cell_type": "code",
   "execution_count": 112,
   "metadata": {},
   "outputs": [
    {
     "name": "stdout",
     "output_type": "stream",
     "text": [
      "Number of image paths = 221\n"
     ]
    }
   ],
   "source": [
    "## number of images\n",
    "print 'Number of image paths = {}'.format(len(image_paths))"
   ]
  },
  {
   "cell_type": "code",
   "execution_count": null,
   "metadata": {
    "collapsed": true
   },
   "outputs": [],
   "source": []
  },
  {
   "cell_type": "markdown",
   "metadata": {},
   "source": [
    "## extract features"
   ]
  },
  {
   "cell_type": "markdown",
   "metadata": {},
   "source": [
    "**Dec 28 2017 (updated Jan 14 2018):** <br>\n",
    " - From command line, extract features using `extract_features.py`. The default arguments are for the kid's drawings. <br>\n",
    " - To extract kid's drawings, just run: `python extract_features.py` <br>\n",
    " - To extract (mini verison of) adult drawings, run: `python extract_features.py --data='/data2/jefan/quickDraw/png_mini' --layer_ind=6 --cohort='adult'`"
   ]
  },
  {
   "cell_type": "code",
   "execution_count": 113,
   "metadata": {
    "collapsed": true
   },
   "outputs": [],
   "source": [
    "# z-score normalization to \"center\" the sketch embeddings\n",
    "def normalize(X):\n",
    "    X = X - X.mean(0)\n",
    "    X = X / np.maximum(X.std(0), 1e-5)\n",
    "    return X\n",
    "\n",
    "def get_class_means(X, labels):    \n",
    "    # load in and normalize features \n",
    "    _mu = np.zeros((len(np.unique(labels)), np.shape(X)[1]))        \n",
    "    X = normalize(X)\n",
    "    for vi, v in enumerate(np.unique(np.asarray(labels))):\n",
    "        Xv = X[labels == v]\n",
    "        nv = float(Xv.shape[0])\n",
    "        if nv > 0:\n",
    "            _mu[vi] = Xv.mean(0)\n",
    "    return _mu\n",
    "\n",
    "def normalize_RDM(MAT):\n",
    "    X = MAT - MAT.mean(0).mean(0)\n",
    "    X = X / np.maximum(MAT.std(0).std(0), 1e-5)\n",
    "    return X\n",
    "\n",
    "def plot_rdm_by_class(Features,X,layer_num):\n",
    "    layers = ['P1','P2','P3','P4','P5','FC6','FC7']        \n",
    "    sns.set_style('white')\n",
    "    fig = plt.figure(figsize=(6,6))\n",
    "    labels = X.category.values\n",
    "    means = get_class_means(Features, labels)\n",
    "    CORRMAT = np.corrcoef(means)\n",
    "    plt.matshow(CORRMAT)\n",
    "    plt.colorbar()\n",
    "    if not os.path.exists('./plots'):\n",
    "        os.makedirs('./plots')\n",
    "    plt.savefig('./plots/RDM_by_view_{}.pdf'.format(layers[layer_num]))\n",
    "    \n",
    "def load_features(layer_num):\n",
    "    layers = ['P1','P2','P3','P4','P5','FC6','FC7']            \n",
    "    F = np.load('/home/bria/labelconcept/python/features/FEATURES_{}.npy'.format(layers[layer_num]))\n",
    "    M = pd.read_csv('/home/bria/labelconcept/python/features/METADATA.csv') \n",
    "    return F, M\n",
    "\n",
    "\n",
    "def get_and_plot_RDM(M,F):\n",
    "    labels = M.category.values\n",
    "    labelsPlot = np.unique(M.category.values) ## CHECK THAT THIS IS RIGHT?\n",
    "    means = get_class_means(F, labels)\n",
    "    sns.set_style('white')\n",
    "    CORRMAT = np.corrcoef(means)\n",
    "    sns.set_context('paper')\n",
    "    fig = plt.figure(figsize=(30,30))\n",
    "    RDM = 1-CORRMAT\n",
    "    plt.matshow(RDM, vmin=0, vmax=2)\n",
    "    plt.xticks(range(len(labelsPlot)), labelsPlot, rotation=90);\n",
    "    plt.yticks(range(len(labelsPlot)), labelsPlot); \n",
    "    plt.colorbar()\n",
    "    for tick in pylab.gca().xaxis.iter_ticks():\n",
    "        tick[0].label2On = True\n",
    "        tick[0].label1On = False\n",
    "        tick[0].label2.set_rotation('vertical')\n",
    "        tick[0].tick1On = False\n",
    "        tick[0].tick2On = False\n",
    "    for tick in pylab.gca().yaxis.iter_ticks():\n",
    "        tick[0].tick1On = False\n",
    "        tick[0].tick2On = False  \n",
    "    plt.gcf().subplots_adjust(left=0.5) \n",
    "#     plt.tight_layout()    \n",
    "#     plt.savefig('./plots/RDM_{}.pdf'.format(cohort))\n",
    "    return RDM\n",
    "\n",
    "def get_RDM(M,F,sort_inds):\n",
    "    ## sorted adult RDMs\n",
    "    labels = M.label.values\n",
    "    means = get_class_means(F, labels)\n",
    "    ordered_means = means[sort_inds,:]    \n",
    "    RDM = np.corrcoef(ordered_means)\n",
    "    return RDM"
   ]
  },
  {
   "cell_type": "code",
   "execution_count": null,
   "metadata": {
    "collapsed": true
   },
   "outputs": [],
   "source": []
  },
  {
   "cell_type": "code",
   "execution_count": null,
   "metadata": {},
   "outputs": [],
   "source": []
  },
  {
   "cell_type": "code",
   "execution_count": 114,
   "metadata": {
    "collapsed": true
   },
   "outputs": [],
   "source": [
    "## Load in image features for a given layer\n",
    "F, M = load_features(6)\n",
    "M = M.reset_index(drop=True)"
   ]
  },
  {
   "cell_type": "code",
   "execution_count": 115,
   "metadata": {},
   "outputs": [
    {
     "data": {
      "text/plain": [
       "<matplotlib.figure.Figure at 0x7f459b1eab90>"
      ]
     },
     "metadata": {},
     "output_type": "display_data"
    },
    {
     "data": {
      "image/png": "[encoded data removed]",
      "text/plain": [
       "<matplotlib.figure.Figure at 0x7f459b20bc10>"
      ]
     },
     "metadata": {},
     "output_type": "display_data"
    }
   ],
   "source": [
    "## Plot RDM\n",
    "RDM = get_and_plot_RDM(M,F)\n"
   ]
  },
  {
   "cell_type": "code",
   "execution_count": 105,
   "metadata": {},
   "outputs": [
    {
     "data": {
      "text/plain": [
       "array([0])"
      ]
     },
     "execution_count": 105,
     "metadata": {},
     "output_type": "execute_result"
    }
   ],
   "source": [
    "ref_category_name = 'bikeBell'\n",
    "labelsPlot = np.unique(M.category.values) # unique categories\n",
    "labelsPlot = np.asarray(labelsPlot)\n",
    "arr_index = np.where(labelsPlot == ref_category_name)\n",
    "ref_category = arr_index[0]\n",
    "ref_category"
   ]
  },
  {
   "cell_type": "code",
   "execution_count": 123,
   "metadata": {},
   "outputs": [
    {
     "data": {
      "text/plain": [
       "array([ 1.26024289,  1.12863737,  1.22318816,  1.14747611,  0.81601622,\n",
       "        1.20570932,  1.00109697,  0.94727423,  0.98043338,  0.88347222,\n",
       "        0.9957858 ,  1.20897739,  1.26182475,  1.01778785,  0.80221622,\n",
       "        1.19343668,  1.16759054,  1.14176639,  1.01681557,  0.79822712,\n",
       "        0.9130442 ,  0.79664303,  1.09891434,  1.01259543,  1.0083243 ,\n",
       "        1.17282049,  0.84757995,  1.15207616,  1.25777271,  0.92212387,\n",
       "        0.98014324,  1.13134402,  1.04544116,  0.95886646,  1.05962612,\n",
       "        1.02550757,  1.20432511,  1.06460317,  1.05655295,  1.13570929,\n",
       "        0.99146172,  0.91870406,  1.17689029,  0.76013064,  1.17741604,\n",
       "        1.20912467,  1.00632203,  1.05849477,  1.1261453 ,  1.07304234,\n",
       "        1.05825723,  1.01272092,  0.89940432,  1.08568989,  1.05757104,\n",
       "        1.18541253,  0.92274946,  1.19858722,  1.103651  ,  1.24233334,\n",
       "        1.20819715,  1.04789177,  0.89501218,  1.1204343 ,  0.85096762,\n",
       "        1.10753474,  0.82845931,  0.73351023,  1.12431408,  1.15582225,\n",
       "        1.02618176,  1.04025471,  1.03721214,  1.16738002,  0.99898007,\n",
       "        1.16033575,  1.13970906,  0.9731579 ,  1.10747919,  1.14972694,\n",
       "        1.20018735,  0.91677968,  1.03349325,  1.12699505,  1.22151337,\n",
       "        1.1866036 ,  0.99455589,  1.11791788,  0.78094749,  1.20364566,\n",
       "        1.25131828,  1.26510798,  0.93330441,  1.28270536,  0.55140707,\n",
       "        1.11839297,  1.18515732,  0.97735858,  1.16153444,  1.0053822 ,\n",
       "        1.19030716,  1.18636665,  1.30277503,  1.08354821,  1.08257283,\n",
       "        0.91326665,  1.02030271,  1.18023387,  0.98280785,  0.43264877,\n",
       "        1.09472637,  1.18932476,  1.08255437,  0.71379912,  1.02306989,\n",
       "        1.10043809,  1.13927204,  0.91682844,  1.20645881,  1.11330311,\n",
       "        1.12567334,  1.14691285,  1.04631206,  0.90293075,  1.26472215,\n",
       "        0.51650399,  0.51975406,  0.8437489 ,  1.03997627,  0.84227012,\n",
       "        1.24624957,  1.23058335,  1.27844734,  1.21249505,  0.70361092,\n",
       "        1.11055003,  1.37946389,  1.24847356,  0.88006527,  1.32382288,\n",
       "        0.77894265,  1.09578174,  1.17731921,  0.91822688,  1.07577504,\n",
       "        0.65437171,  0.88356496,  1.00005126,  0.99257533,  1.18661957,\n",
       "        1.23475505,  1.32521681,  1.15346572,  0.49565544,  0.90099422,\n",
       "        1.13225783,  0.57859774,  1.22166159,  1.21476898,  1.16531765,\n",
       "        1.18656077,  0.81926006,  1.03002457,  0.90520769,  1.23430439,\n",
       "        1.02125478,  1.16298059,  1.07440773,  0.92587387,  1.22478558,\n",
       "        0.98297027,  1.05616701,  1.04506153,  0.97637167,  0.91824724,\n",
       "        0.99782494,  1.16130016,  1.01291659,  1.10969104,  1.00723432,\n",
       "        1.17074124,  1.17076737,  0.7682394 ,  1.22692564,  0.86335085,\n",
       "        1.12054996,  1.24471944,  1.0322051 ,  1.19717155,  1.05963553])"
      ]
     },
     "execution_count": 123,
     "metadata": {},
     "output_type": "execute_result"
    }
   ],
   "source": []
  },
  {
   "cell_type": "code",
   "execution_count": 100,
   "metadata": {},
   "outputs": [],
   "source": []
  },
  {
   "cell_type": "code",
   "execution_count": 99,
   "metadata": {},
   "outputs": [
    {
     "data": {
      "text/plain": [
       "array([0])"
      ]
     },
     "execution_count": 99,
     "metadata": {},
     "output_type": "execute_result"
    }
   ],
   "source": []
  },
  {
   "cell_type": "code",
   "execution_count": 106,
   "metadata": {},
   "outputs": [],
   "source": [
    "\n",
    "dissimValues = RDM[ref_category,:]\n",
    "\n",
    "## check ref category index + 1 dissimilarity is always 0 (or 1, depending on dissim vs. sim)\n",
    "RDM[ref_category+1,ref_category+1]\n",
    "\n",
    "## get dissim values for this set\n",
    "dissimValues = RDM[ref_category,:]"
   ]
  },
  {
   "cell_type": "code",
   "execution_count": 107,
   "metadata": {},
   "outputs": [],
   "source": [
    "## get some dissimilarity values relative to a given reference category index\n",
    "dissimValues = RDM[ref_category,:]\n",
    "dissimValues = np.delete(dissimValues,ref_category) # delete the identity values\n",
    "labelsPlot = np.delete(labelsPlot,ref_category) # delete the identity category (ref category)\n",
    "\n",
    "## sort by dissimilarity\n",
    "ind =  np.argsort(dissimValues)\n",
    "dissimValues = dissimValues[ind]\n",
    "labelsPlot = labelsPlot [ind]"
   ]
  },
  {
   "cell_type": "code",
   "execution_count": 108,
   "metadata": {},
   "outputs": [
    {
     "data": {
      "text/plain": [
       "([<matplotlib.axis.XTick at 0x7f459b26bd90>,\n",
       "  <matplotlib.axis.XTick at 0x7f459b26b610>,\n",
       "  <matplotlib.axis.XTick at 0x7f459b20b9d0>],\n",
       " <a list of 3 Text xticklabel objects>)"
      ]
     },
     "execution_count": 108,
     "metadata": {},
     "output_type": "execute_result"
    },
    {
     "data": {
      "image/png": "[encoded data removed]",
      "text/plain": [
       "<matplotlib.figure.Figure at 0x7f459b3def50>"
      ]
     },
     "metadata": {},
     "output_type": "display_data"
    }
   ],
   "source": [
    "## plot these values\n",
    "plt.figure(figsize=(6,6))\n",
    "plt.plot(np.arange(0,3),dissimValues, label='dissim values',color=(0.6,0.6,0.6))\n",
    "plt.xticks(np.arange(0,3), labelsPlot, rotation='vertical')"
   ]
  },
  {
   "cell_type": "code",
   "execution_count": 82,
   "metadata": {},
   "outputs": [
    {
     "data": {
      "text/plain": [
       "array([ 1.27471035,  1.3947001 ,  0.        ,  1.11276242])"
      ]
     },
     "execution_count": 82,
     "metadata": {},
     "output_type": "execute_result"
    }
   ],
   "source": []
  },
  {
   "cell_type": "code",
   "execution_count": 109,
   "metadata": {
    "collapsed": true
   },
   "outputs": [],
   "source": [
    "### Correlations between features in FC7 each class (e.g., object category)"
   ]
  },
  {
   "cell_type": "code",
   "execution_count": 76,
   "metadata": {
    "collapsed": true
   },
   "outputs": [],
   "source": [
    "# make general function\n",
    "# def corr_cohort_classes(cohort1,cohort2,uniqueLabels):\n",
    "#     if  np.shape(cohort1)==np.shape(cohort2): ## make sure same shape\n",
    "#         classCor=np.zeros(np.shape(uniqueLabels)[0]) # open variable\n",
    "#         for vi, v in enumerate(np.asarray(uniqueLabels)):\n",
    "#             cohort1Vec = cohort1[uniqueLabels == v,:]\n",
    "#             cohort2Vec = cohort2[uniqueLabels == v,:]\n",
    "#             cohort1Vec=np.reshape(cohort1Vec,np.shape(cohort1Vec)[1],np.shape(cohort1Vec)[0]) # resahpe for corr\n",
    "#             cohort2Vec=np.reshape(cohort2Vec,np.shape(cohort2Vec)[1],np.shape(cohort2Vec)[0])# resahpe for corr\n",
    "#             classCor[vi]=stats.pearsonr(cohort1Vec,cohort2Vec)[0]\n",
    "#         return classCor\n",
    "    \n",
    "# uniqueLabels=np.unique(KM.label.values)\n",
    "# means_adult = get_class_means(AF, AM.label.values)\n",
    "# means_kid = get_class_means(KF, KM.label.values)\n",
    "# classCor=corr_cohort_classes(means_adult,means_kid,np.unique(KM.label.values))\n",
    "# sortInd=np.argsort(classCor)\n",
    "# print uniqueLabels[sortInd]\n",
    "# print classCor[sortInd]\n",
    "\n",
    "## print fc7 cross-cohort correlations\n",
    "\n",
    "# dim = KRDM.shape[0]\n",
    "# cor = stats.spearmanr(np.ravel(KRDM[np.triu_indices(dim,k=1)]),np.ravel(ARDM[np.triu_indices(dim,k=1)]))[0]\n",
    "# print 'Correlation between adult and overall kid RDM: {}'.format(cor)"
   ]
  },
  {
   "cell_type": "markdown",
   "metadata": {},
   "source": [
    "##### generate and save out RDMs as separate npy files"
   ]
  },
  {
   "cell_type": "code",
   "execution_count": null,
   "metadata": {},
   "outputs": [
    {
     "name": "stdout",
     "output_type": "stream",
     "text": [
      "Loading in adult features for layer 0...\n"
     ]
    }
   ],
   "source": [
    "# ## subsampling on or off?\n",
    "# subsample_on = 1\n",
    "\n",
    "# ## load in adult features\n",
    "# really_run = 1\n",
    "# if really_run:\n",
    "#     for layer_num in np.arange(7):\n",
    "#         print 'Loading in adult features for layer {}...'.format(layer_num)\n",
    "#         AF, AM = load_features('adult',layer_num)\n",
    "#         AF, AM = remove_practice_trials(AF, AM)\n",
    "#         AM = AM.reset_index(drop=True)\n",
    "#         AF, AM = adult_preproc(AF, AM, these_labels)\n",
    "#         ## subsample features especially for lower layers\n",
    "#         if subsample_on:\n",
    "#             num_features = AF.shape[1]\n",
    "#             size_subsample = 100000\n",
    "#             if num_features>size_subsample:\n",
    "#                 feat_inds = np.random.RandomState(0).permutation(num_features)[:size_subsample]\n",
    "#                 AF = AF[:,feat_inds]         \n",
    "        \n",
    "#         print 'Shape of adult feature tensor: {}'.format(np.shape(AF))\n",
    "\n",
    "#         ## get RDM\n",
    "#         cohort = 'adult'\n",
    "#         print 'Getting and saving RDM...'\n",
    "#         RDM = get_RDM(AM, AF,sort_inds)\n",
    "#         ## save out RDM as npy\n",
    "#         np.save('./rdm/RDM_{}_{}.npy'.format(cohort,layer_num),ARDM)\n",
    "        \n",
    "#     print 'All done!'"
   ]
  },
  {
   "cell_type": "code",
   "execution_count": null,
   "metadata": {
    "collapsed": true
   },
   "outputs": [],
   "source": [
    "# ## subsampling on or off?\n",
    "# subsample_on = 1\n",
    "\n",
    "# really_run = 1\n",
    "# lb = 0\n",
    "# ub = 7\n",
    "# if really_run:\n",
    "#     ## loop through all kid layers and save out their RDM\n",
    "#     for layer_num in np.arange(lb,ub):\n",
    "#         ## load in kid features\n",
    "#         KF, KM = load_features('kid',layer_num)\n",
    "#         KF, KM = remove_practice_trials(KF, KM)\n",
    "#         KM = KM.reset_index(drop=True)\n",
    "#         KF, KM = preproc_kid(KF, KM, these_labels)\n",
    "#         print 'Shape of kid feature tensor: {}'.format(np.shape(KF))\n",
    "#         ## subsample features especially for lower layers\n",
    "#         if subsample_on:        \n",
    "#             num_features = KF.shape[1]\n",
    "#             size_subsample = 100000\n",
    "#             if num_features>size_subsample:\n",
    "#                 feat_inds = np.random.RandomState(0).permutation(num_features)[:size_subsample]\n",
    "#                 KF = KF[:,feat_inds]           \n",
    "        \n",
    "#         ## get RDM\n",
    "#         print 'Getting and saving RDM...'\n",
    "#         cohort = 'kid'\n",
    "#         KRDM = get_RDM(KM, KF,sort_inds)\n",
    "#         ## save out RDM as npy\n",
    "#         np.save('./rdm/RDM_{}_{}.npy'.format(cohort,layer_num),KRDM)\n",
    "        \n",
    "#         print 'Saved OVERALL KID RDMs for layer {}!'.format(layer_num)        \n",
    "                \n",
    "#     ## loop through all kid layers and save out their RDM\n",
    "#     for layer_num in np.arange(lb,ub):\n",
    "#         ## load in kid features\n",
    "#         KF, KM = load_features('kid',layer_num)\n",
    "#         KF, KM = remove_practice_trials(KF, KM)\n",
    "#         KM = KM.reset_index(drop=True)\n",
    "#         KF, KM = preproc_kid(KF, KM, these_labels)\n",
    "#         ## subsample features especially for lower layers\n",
    "#         if subsample_on:\n",
    "#             num_features = KF.shape[1]\n",
    "#             size_subsample = 100000\n",
    "#             if num_features>size_subsample:\n",
    "#                 feat_inds = np.random.RandomState(0).permutation(num_features)[:size_subsample]\n",
    "#                 KF = KF[:,feat_inds]              \n",
    "        \n",
    "#         ## get RDM for older kids (7,8,9,10)\n",
    "#         ind = KM.index[KM['coarse_age'] == 'older']\n",
    "#         meta = KM.loc[ind]\n",
    "#         feat = KF[ind.tolist()]\n",
    "#         print 'Shape of older kid feature tensor: {}'.format(np.shape(feat))        \n",
    "#         ORDM = get_RDM(meta, feat,sort_inds)\n",
    "#         np.save('./rdm/RDM_{}_{}.npy'.format('older',layer_num),ORDM)            \n",
    "#         print 'Saved OLDER KID RDMs for layer {}!'.format(layer_num)        \n",
    "            \n",
    "#     for layer_num in np.arange(lb,ub):\n",
    "#         ## load in kid features\n",
    "#         KF, KM = load_features('kid',layer_num)\n",
    "#         KF, KM = remove_practice_trials(KF, KM)\n",
    "#         KM = KM.reset_index(drop=True)\n",
    "#         KF, KM = preproc_kid(KF, KM, these_labels)\n",
    "#         ## subsample features especially for lower layers\n",
    "#         if subsample_on:\n",
    "#             num_features = KF.shape[1]\n",
    "#             size_subsample = 50000\n",
    "#             if num_features>size_subsample:\n",
    "#                 feat_inds = np.random.RandomState(0).permutation(num_features)[:size_subsample]\n",
    "#                 KF = KF[:,feat_inds]         \n",
    "                        \n",
    "#         ## get RDM for younger kids (3,4,5,6)            \n",
    "#         ind = KM.index[KM['coarse_age'] == 'younger']\n",
    "#         meta = KM.loc[ind]\n",
    "#         feat = KF[ind.tolist()]\n",
    "#         print 'Shape of younger kid feature tensor: {}'.format(np.shape(feat))                \n",
    "#         YRDM = get_RDM(meta, feat,sort_inds)\n",
    "#         np.save('./rdm/RDM_{}_{}.npy'.format('younger',layer_num),YRDM)             \n",
    "#         print 'Saved YOUNGER KID RDMs for layer {}!'.format(layer_num)\n",
    "                "
   ]
  },
  {
   "cell_type": "code",
   "execution_count": null,
   "metadata": {
    "collapsed": true
   },
   "outputs": [],
   "source": []
  },
  {
   "cell_type": "markdown",
   "metadata": {},
   "source": [
    "##### plot layer-wise cross-cohort similarity"
   ]
  },
  {
   "cell_type": "code",
   "execution_count": null,
   "metadata": {
    "collapsed": true
   },
   "outputs": [],
   "source": [
    "# corOA = []\n",
    "# corYA = []\n",
    "\n",
    "# for layer_num in np.arange(7):\n",
    "#     Y = np.load('./rdm/RDM_younger_{}.npy'.format(layer_num))\n",
    "#     O = np.load('./rdm/RDM_older_{}.npy'.format(layer_num))\n",
    "#     A = np.load('./rdm/RDM_adult_{}.npy'.format(layer_num))\n",
    "\n",
    "#     dim = O.shape[0]\n",
    "#     rOA = stats.spearmanr(np.ravel(O[np.triu_indices(dim,k=1)]),np.ravel(A[np.triu_indices(dim,k=1)]))[0]\n",
    "#     rYA = stats.spearmanr(np.ravel(Y[np.triu_indices(dim,k=1)]),np.ravel(A[np.triu_indices(dim,k=1)]))[0]\n",
    "\n",
    "#     corOA.append(rOA)\n",
    "#     corYA.append(rYA)\n",
    "\n",
    "# import seaborn as sns\n",
    "# sns.set_context('talk')\n",
    "# sns.set_style('white')\n",
    "# plt.figure(figsize=(6,6))\n",
    "# plt.plot(np.arange(1,8),corYA,label='younger vs. adult',color=(0.6,0.6,0.6))\n",
    "# plt.plot(np.arange(1,8),corOA,label='older vs. adult',color=(0.2,0.2,0.2))\n",
    "# plt.xlabel('model layer')\n",
    "# plt.ylabel('between-cohort similarity')\n",
    "# plt.legend()\n",
    "# # plt.savefig('./plots/btw_cohort_similarity.pdf')"
   ]
  },
  {
   "cell_type": "markdown",
   "metadata": {
    "collapsed": true
   },
   "source": []
  },
  {
   "cell_type": "code",
   "execution_count": null,
   "metadata": {
    "collapsed": true
   },
   "outputs": [],
   "source": []
  }
 ],
 "metadata": {
  "kernelspec": {
   "display_name": "Python 2",
   "language": "python",
   "name": "python2"
  },
  "language_info": {
   "codemirror_mode": {
    "name": "ipython",
    "version": 2
   },
   "file_extension": ".py",
   "mimetype": "text/x-python",
   "name": "python",
   "nbconvert_exporter": "python",
   "pygments_lexer": "ipython2",
   "version": "2.7.12"
  }
 },
 "nbformat": 4,
 "nbformat_minor": 1
}
