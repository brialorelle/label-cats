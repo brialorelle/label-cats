{
 "cells": [
  {
   "cell_type": "code",
<<<<<<< HEAD
   "execution_count": 126,
=======
   "execution_count": 569,
>>>>>>> fac34eb96cad4fe36b6758c181bd70d9c8b5b61e
   "metadata": {
    "collapsed": true
   },
   "outputs": [],
   "source": [
    "## remember to run conn_cocolab from the terminal before running cells in this notebook!\n",
    "import os\n",
    "import urllib, cStringIO\n",
    "\n",
    "import pymongo as pm\n",
    "\n",
    "import matplotlib\n",
    "from matplotlib import pylab, mlab, pyplot\n",
    "%matplotlib inline\n",
    "from IPython.core.pylabtools import figsize, getfigs\n",
    "plt = pyplot\n",
    "import seaborn as sns\n",
    "sns.set_context('poster')\n",
    "sns.set_style('white')\n",
    "\n",
    "import numpy as np\n",
    "from __future__ import division\n",
    "import scipy.stats as stats\n",
    "\n",
    "import pandas as pd\n",
    "import json\n",
    "import re\n",
    "\n",
    "from PIL import Image\n",
    "import base64"
   ]
  },
  {
   "cell_type": "markdown",
   "metadata": {},
   "source": [
    "### vgg feature analysis "
   ]
  },
  {
   "cell_type": "code",
<<<<<<< HEAD
   "execution_count": 64,
=======
   "execution_count": 570,
>>>>>>> fac34eb96cad4fe36b6758c181bd70d9c8b5b61e
   "metadata": {
    "collapsed": true
   },
   "outputs": [],
   "source": [
    "import torch\n",
    "import torchvision.models as models\n",
    "import torch.nn as nn\n",
    "import torchvision.transforms as transforms\n",
    "import torch.nn.functional as F\n",
    "from torch.autograd import Variable\n",
    "\n",
    "import scipy.stats as stats\n",
    "from scipy.stats import norm\n",
    "import sklearn\n",
    "from sklearn.model_selection import train_test_split, cross_val_score\n",
    "from sklearn import svm\n",
    "from sklearn import linear_model, datasets, neighbors\n",
    "\n",
    "from sklearn.cluster import AffinityPropagation\n",
    "from sklearn import metrics\n",
    "\n",
    "from glob import glob\n",
    "import os\n",
    "\n",
    "import embedding as emb\n",
    "reload(emb)\n",
    "from embedding import *"
   ]
  },
  {
   "cell_type": "code",
<<<<<<< HEAD
   "execution_count": 65,
=======
   "execution_count": 571,
>>>>>>> fac34eb96cad4fe36b6758c181bd70d9c8b5b61e
   "metadata": {
    "collapsed": true
   },
   "outputs": [],
   "source": [
    "# retrieve sketch paths\n",
    "def list_files(path, ext='png'):\n",
    "    result = [y for x in os.walk(path) for y in glob(os.path.join(x[0], '*.%s' % ext))]\n",
    "    return result\n",
    "\n",
    "# extract metadata\n",
    "#path_to_sketches = '../sketches'\n",
    "path_to_sketches = '/home/jefan/kiddraw/analysis/museumdraw/sketches'\n",
    "\n",
    "sketch_paths = sorted(list_files(path_to_sketches))"
   ]
  },
  {
   "cell_type": "code",
<<<<<<< HEAD
   "execution_count": 66,
=======
   "execution_count": 572,
>>>>>>> fac34eb96cad4fe36b6758c181bd70d9c8b5b61e
   "metadata": {},
   "outputs": [
    {
     "name": "stdout",
     "output_type": "stream",
     "text": [
      "Number of sketch paths = 395\n"
     ]
    }
   ],
   "source": [
    "## number of sketch paths \n",
    "print 'Number of sketch paths = {}'.format(len(sketch_paths)) ## includes some drawings we want to exclude (e.g. tests)"
   ]
  },
  {
   "cell_type": "code",
   "execution_count": 5,
   "metadata": {},
   "outputs": [
    {
     "data": {
      "text/plain": [
       "['/home/jefan/kiddraw/analysis/museumdraw/sketches/airplane/airplane_sketch_3_E1d_1513115119771.png',\n",
       " '/home/jefan/kiddraw/analysis/museumdraw/sketches/airplane/airplane_sketch_4_E1d_1513364945016.png',\n",
       " '/home/jefan/kiddraw/analysis/museumdraw/sketches/airplane/airplane_sketch_4_E1d_1513369498187.png',\n",
       " '/home/jefan/kiddraw/analysis/museumdraw/sketches/airplane/airplane_sketch_5_E1d_1513204910948.png',\n",
       " '/home/jefan/kiddraw/analysis/museumdraw/sketches/airplane/airplane_sketch_7_E1d_1513725674858.png',\n",
       " '/home/jefan/kiddraw/analysis/museumdraw/sketches/apple/apple_sketch_4_E1d_1513364307492.png',\n",
       " '/home/jefan/kiddraw/analysis/museumdraw/sketches/apple/apple_sketch_4_E1d_1513364945016.png',\n",
       " '/home/jefan/kiddraw/analysis/museumdraw/sketches/apple/apple_sketch_5_E1d_1513201166943.png',\n",
       " '/home/jefan/kiddraw/analysis/museumdraw/sketches/apple/apple_sketch_7_E1d_1513725674858.png',\n",
       " '/home/jefan/kiddraw/analysis/museumdraw/sketches/banana/banana_sketch_10_E1c_1510684833991.png',\n",
       " '/home/jefan/kiddraw/analysis/museumdraw/sketches/banana/banana_sketch_10_E1c_1511293452162.png',\n",
       " '/home/jefan/kiddraw/analysis/museumdraw/sketches/banana/banana_sketch_4_E1c_1510691847400.png',\n",
       " '/home/jefan/kiddraw/analysis/museumdraw/sketches/banana/banana_sketch_5_E1c_1510253748384.png',\n",
       " '/home/jefan/kiddraw/analysis/museumdraw/sketches/banana/banana_sketch_5_E1c_1510786719020.png',\n",
       " '/home/jefan/kiddraw/analysis/museumdraw/sketches/banana/banana_sketch_5_E1c_1511301440421.png',\n",
       " '/home/jefan/kiddraw/analysis/museumdraw/sketches/banana/banana_sketch_6_E1c_1510782034963.png',\n",
       " '/home/jefan/kiddraw/analysis/museumdraw/sketches/banana/banana_sketch_6_E1c_1511292022297.png',\n",
       " '/home/jefan/kiddraw/analysis/museumdraw/sketches/banana/banana_sketch_6_E1c_1511292286803.png',\n",
       " '/home/jefan/kiddraw/analysis/museumdraw/sketches/banana/banana_sketch_6_E1c_1511293092153.png',\n",
       " '/home/jefan/kiddraw/analysis/museumdraw/sketches/banana/banana_sketch_7_E1c_1511301009480.png',\n",
       " '/home/jefan/kiddraw/analysis/museumdraw/sketches/banana/banana_sketch_8_E1c_1510254933095.png',\n",
       " '/home/jefan/kiddraw/analysis/museumdraw/sketches/banana/banana_sketch_8_E1c_1510787010922.png',\n",
       " '/home/jefan/kiddraw/analysis/museumdraw/sketches/banana/banana_sketch_8_E1c_1510870628731.png',\n",
       " '/home/jefan/kiddraw/analysis/museumdraw/sketches/banana/banana_sketch_8_E1c_1511292658766.png',\n",
       " '/home/jefan/kiddraw/analysis/museumdraw/sketches/banana/banana_sketch_8_E1c_1511300355318.png',\n",
       " '/home/jefan/kiddraw/analysis/museumdraw/sketches/banana/banana_sketch_9_E1c_1510686242527.png',\n",
       " '/home/jefan/kiddraw/analysis/museumdraw/sketches/banana/banana_sketch__E1c_1511806224001.png',\n",
       " '/home/jefan/kiddraw/analysis/museumdraw/sketches/bear/bear_sketch_3_E1d_1513115119771.png',\n",
       " '/home/jefan/kiddraw/analysis/museumdraw/sketches/bear/bear_sketch_3_E1d_1513116523884.png',\n",
       " '/home/jefan/kiddraw/analysis/museumdraw/sketches/bear/bear_sketch_4_E1d_1513204550632.png',\n",
       " '/home/jefan/kiddraw/analysis/museumdraw/sketches/bear/bear_sketch_4_E1d_1513364307492.png',\n",
       " '/home/jefan/kiddraw/analysis/museumdraw/sketches/bear/bear_sketch_4_E1d_1513364945016.png',\n",
       " '/home/jefan/kiddraw/analysis/museumdraw/sketches/bear/bear_sketch_5_E1d_1513116902655.png',\n",
       " '/home/jefan/kiddraw/analysis/museumdraw/sketches/bear/bear_sketch_7_E1d_1513724694943.png',\n",
       " '/home/jefan/kiddraw/analysis/museumdraw/sketches/bear/bear_sketch_7_E1d_1513725674858.png',\n",
       " '/home/jefan/kiddraw/analysis/museumdraw/sketches/bed/bed_sketch_4_E1d_1513364307492.png',\n",
       " '/home/jefan/kiddraw/analysis/museumdraw/sketches/bed/bed_sketch_5_E1d_1513367044649.png',\n",
       " '/home/jefan/kiddraw/analysis/museumdraw/sketches/bed/bed_sketch_7_E1d_1512688408708.png',\n",
       " '/home/jefan/kiddraw/analysis/museumdraw/sketches/bed/bed_sketch_7_E1d_1513725674858.png',\n",
       " '/home/jefan/kiddraw/analysis/museumdraw/sketches/bike/bike_sketch_5_E1d_1513116902655.png',\n",
       " '/home/jefan/kiddraw/analysis/museumdraw/sketches/bike/bike_sketch_5_E1d_1513204910948.png',\n",
       " '/home/jefan/kiddraw/analysis/museumdraw/sketches/bike/bike_sketch_7_E1d_1512688408708.png',\n",
       " '/home/jefan/kiddraw/analysis/museumdraw/sketches/bike/bike_sketch_7_E1d_1513724694943.png',\n",
       " '/home/jefan/kiddraw/analysis/museumdraw/sketches/bike/bike_sketch_7_E1d_1513725674858.png',\n",
       " '/home/jefan/kiddraw/analysis/museumdraw/sketches/bird/bird_sketch_10_E1d_1513368898350.png',\n",
       " '/home/jefan/kiddraw/analysis/museumdraw/sketches/bird/bird_sketch_4_E1d_1513364307492.png',\n",
       " '/home/jefan/kiddraw/analysis/museumdraw/sketches/bird/bird_sketch_4_E1d_1513364945016.png',\n",
       " '/home/jefan/kiddraw/analysis/museumdraw/sketches/bird/bird_sketch_5_E1d_1513116902655.png',\n",
       " '/home/jefan/kiddraw/analysis/museumdraw/sketches/bird/bird_sketch_5_E1d_1513201166943.png',\n",
       " '/home/jefan/kiddraw/analysis/museumdraw/sketches/bird/bird_sketch_5_E1d_1513367044649.png',\n",
       " '/home/jefan/kiddraw/analysis/museumdraw/sketches/bird/bird_sketch_7_E1d_1513724694943.png',\n",
       " '/home/jefan/kiddraw/analysis/museumdraw/sketches/bird/bird_sketch_7_E1d_1513725674858.png',\n",
       " '/home/jefan/kiddraw/analysis/museumdraw/sketches/boat/boat_sketch_10_E1c_1510684833991.png',\n",
       " '/home/jefan/kiddraw/analysis/museumdraw/sketches/boat/boat_sketch_10_E1c_1511293452162.png',\n",
       " '/home/jefan/kiddraw/analysis/museumdraw/sketches/boat/boat_sketch_10_E1c_1511301807087.png',\n",
       " '/home/jefan/kiddraw/analysis/museumdraw/sketches/boat/boat_sketch_4_E1c_1510263067113.png',\n",
       " '/home/jefan/kiddraw/analysis/museumdraw/sketches/boat/boat_sketch_5_E1c_1510253748384.png',\n",
       " '/home/jefan/kiddraw/analysis/museumdraw/sketches/boat/boat_sketch_5_E1c_1510258311547.png',\n",
       " '/home/jefan/kiddraw/analysis/museumdraw/sketches/boat/boat_sketch_5_E1c_1510786719020.png',\n",
       " '/home/jefan/kiddraw/analysis/museumdraw/sketches/boat/boat_sketch_6_E1c_1510695588717.png',\n",
       " '/home/jefan/kiddraw/analysis/museumdraw/sketches/boat/boat_sketch_6_E1c_1510700570912.png',\n",
       " '/home/jefan/kiddraw/analysis/museumdraw/sketches/boat/boat_sketch_6_E1c_1510783818788.png',\n",
       " '/home/jefan/kiddraw/analysis/museumdraw/sketches/boat/boat_sketch_6_E1c_1511292286803.png',\n",
       " '/home/jefan/kiddraw/analysis/museumdraw/sketches/boat/boat_sketch_7_E1c_1511301009480.png',\n",
       " '/home/jefan/kiddraw/analysis/museumdraw/sketches/boat/boat_sketch_8_E1c_1510787010922.png',\n",
       " '/home/jefan/kiddraw/analysis/museumdraw/sketches/boat/boat_sketch_8_E1c_1510870628731.png',\n",
       " '/home/jefan/kiddraw/analysis/museumdraw/sketches/boat/boat_sketch_8_E1c_1511292658766.png',\n",
       " '/home/jefan/kiddraw/analysis/museumdraw/sketches/boat/boat_sketch_8_E1c_1511293924452.png',\n",
       " '/home/jefan/kiddraw/analysis/museumdraw/sketches/boat/boat_sketch_8_E1c_1511300355318.png',\n",
       " '/home/jefan/kiddraw/analysis/museumdraw/sketches/boat/boat_sketch_9_E1c_1510686242527.png',\n",
       " '/home/jefan/kiddraw/analysis/museumdraw/sketches/boat/boat_sketch__E1c_1510855958411.png',\n",
       " '/home/jefan/kiddraw/analysis/museumdraw/sketches/boat/boat_sketch__E1c_1510894558208.png',\n",
       " '/home/jefan/kiddraw/analysis/museumdraw/sketches/bus/bus_sketch_10_E1d_1513368898350.png',\n",
       " '/home/jefan/kiddraw/analysis/museumdraw/sketches/bus/bus_sketch_3_E1d_1513116523884.png',\n",
       " '/home/jefan/kiddraw/analysis/museumdraw/sketches/bus/bus_sketch_4_E1d_1513364307492.png',\n",
       " '/home/jefan/kiddraw/analysis/museumdraw/sketches/bus/bus_sketch_4_E1d_1513369498187.png',\n",
       " '/home/jefan/kiddraw/analysis/museumdraw/sketches/bus/bus_sketch_5_E1d_1513116902655.png',\n",
       " '/home/jefan/kiddraw/analysis/museumdraw/sketches/bus/bus_sketch_5_E1d_1513201166943.png',\n",
       " '/home/jefan/kiddraw/analysis/museumdraw/sketches/bus/bus_sketch_7_E1d_1513725674858.png',\n",
       " '/home/jefan/kiddraw/analysis/museumdraw/sketches/car/car_sketch_10_E1c_1510684833991.png',\n",
       " '/home/jefan/kiddraw/analysis/museumdraw/sketches/car/car_sketch_10_E1c_1510783638074.png',\n",
       " '/home/jefan/kiddraw/analysis/museumdraw/sketches/car/car_sketch_4_E1c_1510263067113.png',\n",
       " '/home/jefan/kiddraw/analysis/museumdraw/sketches/car/car_sketch_5_E1c_1510786719020.png',\n",
       " '/home/jefan/kiddraw/analysis/museumdraw/sketches/car/car_sketch_5_E1c_1510870384576.png',\n",
       " '/home/jefan/kiddraw/analysis/museumdraw/sketches/car/car_sketch_5_E1c_1511301440421.png',\n",
       " '/home/jefan/kiddraw/analysis/museumdraw/sketches/car/car_sketch_6_E1c_1510253415559.png',\n",
       " '/home/jefan/kiddraw/analysis/museumdraw/sketches/car/car_sketch_6_E1c_1510690510319.png',\n",
       " '/home/jefan/kiddraw/analysis/museumdraw/sketches/car/car_sketch_6_E1c_1510695588717.png',\n",
       " '/home/jefan/kiddraw/analysis/museumdraw/sketches/car/car_sketch_6_E1c_1510782034963.png',\n",
       " '/home/jefan/kiddraw/analysis/museumdraw/sketches/car/car_sketch_6_E1c_1511292022297.png',\n",
       " '/home/jefan/kiddraw/analysis/museumdraw/sketches/car/car_sketch_6_E1c_1511293092153.png',\n",
       " '/home/jefan/kiddraw/analysis/museumdraw/sketches/car/car_sketch_7_E1c_1510783353272.png',\n",
       " '/home/jefan/kiddraw/analysis/museumdraw/sketches/car/car_sketch_7_E1c_1511301009480.png',\n",
       " '/home/jefan/kiddraw/analysis/museumdraw/sketches/car/car_sketch_8_E1c_1510254933095.png',\n",
       " '/home/jefan/kiddraw/analysis/museumdraw/sketches/car/car_sketch_8_E1c_1510787010922.png',\n",
       " '/home/jefan/kiddraw/analysis/museumdraw/sketches/car/car_sketch_8_E1c_1511293754661.png',\n",
       " '/home/jefan/kiddraw/analysis/museumdraw/sketches/car/car_sketch_8_E1c_1511293924452.png',\n",
       " '/home/jefan/kiddraw/analysis/museumdraw/sketches/car/car_sketch__E1c_1511806224001.png',\n",
       " '/home/jefan/kiddraw/analysis/museumdraw/sketches/carrot/carrot_sketch_10_E1c_1510255462419.png',\n",
       " '/home/jefan/kiddraw/analysis/museumdraw/sketches/carrot/carrot_sketch_10_E1c_1510684833991.png',\n",
       " '/home/jefan/kiddraw/analysis/museumdraw/sketches/carrot/carrot_sketch_10_E1c_1511293452162.png',\n",
       " '/home/jefan/kiddraw/analysis/museumdraw/sketches/carrot/carrot_sketch_10_E1c_1511301807087.png',\n",
       " '/home/jefan/kiddraw/analysis/museumdraw/sketches/carrot/carrot_sketch_4_E1c_1510263067113.png',\n",
       " '/home/jefan/kiddraw/analysis/museumdraw/sketches/carrot/carrot_sketch_4_E1c_1510268275436.png',\n",
       " '/home/jefan/kiddraw/analysis/museumdraw/sketches/carrot/carrot_sketch_5_E1c_1510786719020.png',\n",
       " '/home/jefan/kiddraw/analysis/museumdraw/sketches/carrot/carrot_sketch_5_E1c_1511301440421.png',\n",
       " '/home/jefan/kiddraw/analysis/museumdraw/sketches/carrot/carrot_sketch_6_E1c_1510695588717.png',\n",
       " '/home/jefan/kiddraw/analysis/museumdraw/sketches/carrot/carrot_sketch_7_E1c_1510263944688.png',\n",
       " '/home/jefan/kiddraw/analysis/museumdraw/sketches/carrot/carrot_sketch_7_E1c_1510870100423.png',\n",
       " '/home/jefan/kiddraw/analysis/museumdraw/sketches/carrot/carrot_sketch_7_E1c_1511301634355.png',\n",
       " '/home/jefan/kiddraw/analysis/museumdraw/sketches/carrot/carrot_sketch_8_E1c_1510254933095.png',\n",
       " '/home/jefan/kiddraw/analysis/museumdraw/sketches/carrot/carrot_sketch_8_E1c_1511293754661.png',\n",
       " '/home/jefan/kiddraw/analysis/museumdraw/sketches/carrot/carrot_sketch_8_E1c_1511300850043.png',\n",
       " '/home/jefan/kiddraw/analysis/museumdraw/sketches/carrot/carrot_sketch_9_E1c_1510686242527.png',\n",
       " '/home/jefan/kiddraw/analysis/museumdraw/sketches/carrot/carrot_sketch_9_E1c_1510689458884.png',\n",
       " '/home/jefan/kiddraw/analysis/museumdraw/sketches/cat/cat_sketch_10_E1c_1510684833991.png',\n",
       " '/home/jefan/kiddraw/analysis/museumdraw/sketches/cat/cat_sketch_10_E1c_1510783638074.png',\n",
       " '/home/jefan/kiddraw/analysis/museumdraw/sketches/cat/cat_sketch_10_E1c_1511293452162.png',\n",
       " '/home/jefan/kiddraw/analysis/museumdraw/sketches/cat/cat_sketch_5_E1c_1510786719020.png',\n",
       " '/home/jefan/kiddraw/analysis/museumdraw/sketches/cat/cat_sketch_6_E1c_1510700570912.png',\n",
       " '/home/jefan/kiddraw/analysis/museumdraw/sketches/cat/cat_sketch_7_E1c_1510263944688.png',\n",
       " '/home/jefan/kiddraw/analysis/museumdraw/sketches/cat/cat_sketch_7_E1c_1510870100423.png',\n",
       " '/home/jefan/kiddraw/analysis/museumdraw/sketches/cat/cat_sketch_7_E1c_1511301634355.png',\n",
       " '/home/jefan/kiddraw/analysis/museumdraw/sketches/cat/cat_sketch_8_E1c_1510254933095.png',\n",
       " '/home/jefan/kiddraw/analysis/museumdraw/sketches/cat/cat_sketch_8_E1c_1510690264523.png',\n",
       " '/home/jefan/kiddraw/analysis/museumdraw/sketches/cat/cat_sketch_8_E1c_1510787010922.png',\n",
       " '/home/jefan/kiddraw/analysis/museumdraw/sketches/cat/cat_sketch_8_E1c_1510870628731.png',\n",
       " '/home/jefan/kiddraw/analysis/museumdraw/sketches/cat/cat_sketch_8_E1c_1511292658766.png',\n",
       " '/home/jefan/kiddraw/analysis/museumdraw/sketches/cat/cat_sketch_8_E1c_1511293924452.png',\n",
       " '/home/jefan/kiddraw/analysis/museumdraw/sketches/cat/cat_sketch_8_E1c_1511300355318.png',\n",
       " '/home/jefan/kiddraw/analysis/museumdraw/sketches/cat/cat_sketch_8_E1c_1511300850043.png',\n",
       " '/home/jefan/kiddraw/analysis/museumdraw/sketches/cat/cat_sketch__E1c_1511806224001.png',\n",
       " '/home/jefan/kiddraw/analysis/museumdraw/sketches/chair/chair_sketch_10_E1c_1510684833991.png',\n",
       " '/home/jefan/kiddraw/analysis/museumdraw/sketches/chair/chair_sketch_10_E1c_1511293452162.png',\n",
       " '/home/jefan/kiddraw/analysis/museumdraw/sketches/chair/chair_sketch_10_E1c_1511301807087.png',\n",
       " '/home/jefan/kiddraw/analysis/museumdraw/sketches/chair/chair_sketch_4_E1c_1510252568116.png',\n",
       " '/home/jefan/kiddraw/analysis/museumdraw/sketches/chair/chair_sketch_4_E1c_1510268275436.png',\n",
       " '/home/jefan/kiddraw/analysis/museumdraw/sketches/chair/chair_sketch_5_E1c_1510253748384.png',\n",
       " '/home/jefan/kiddraw/analysis/museumdraw/sketches/chair/chair_sketch_5_E1c_1510786719020.png',\n",
       " '/home/jefan/kiddraw/analysis/museumdraw/sketches/chair/chair_sketch_5_E1c_1510870384576.png',\n",
       " '/home/jefan/kiddraw/analysis/museumdraw/sketches/chair/chair_sketch_5_E1c_1511301440421.png',\n",
       " '/home/jefan/kiddraw/analysis/museumdraw/sketches/chair/chair_sketch_6_E1c_1510690510319.png',\n",
       " '/home/jefan/kiddraw/analysis/museumdraw/sketches/chair/chair_sketch_6_E1c_1510783818788.png',\n",
       " '/home/jefan/kiddraw/analysis/museumdraw/sketches/chair/chair_sketch_6_E1c_1511292286803.png',\n",
       " '/home/jefan/kiddraw/analysis/museumdraw/sketches/chair/chair_sketch_6_E1c_1511293092153.png',\n",
       " '/home/jefan/kiddraw/analysis/museumdraw/sketches/chair/chair_sketch_7_E1c_1510783353272.png',\n",
       " '/home/jefan/kiddraw/analysis/museumdraw/sketches/chair/chair_sketch_7_E1c_1510870100423.png',\n",
       " '/home/jefan/kiddraw/analysis/museumdraw/sketches/chair/chair_sketch_8_E1c_1510254933095.png',\n",
       " '/home/jefan/kiddraw/analysis/museumdraw/sketches/chair/chair_sketch_8_E1c_1510690264523.png',\n",
       " '/home/jefan/kiddraw/analysis/museumdraw/sketches/chair/chair_sketch_8_E1c_1510787010922.png',\n",
       " '/home/jefan/kiddraw/analysis/museumdraw/sketches/chair/chair_sketch_8_E1c_1510870628731.png',\n",
       " '/home/jefan/kiddraw/analysis/museumdraw/sketches/chair/chair_sketch_8_E1c_1511293924452.png',\n",
       " '/home/jefan/kiddraw/analysis/museumdraw/sketches/cookie/cookie_sketch_4_E1d_1513204550632.png',\n",
       " '/home/jefan/kiddraw/analysis/museumdraw/sketches/cookie/cookie_sketch_4_E1d_1513364945016.png',\n",
       " '/home/jefan/kiddraw/analysis/museumdraw/sketches/cookie/cookie_sketch_5_E1d_1513204910948.png',\n",
       " '/home/jefan/kiddraw/analysis/museumdraw/sketches/cookie/cookie_sketch_6_E1d_1512688483655.png',\n",
       " '/home/jefan/kiddraw/analysis/museumdraw/sketches/cookie/cookie_sketch_7_E1d_1513725674858.png',\n",
       " '/home/jefan/kiddraw/analysis/museumdraw/sketches/couch/couch_sketch_10_E1c_1510684833991.png',\n",
       " '/home/jefan/kiddraw/analysis/museumdraw/sketches/couch/couch_sketch_10_E1c_1511301807087.png',\n",
       " '/home/jefan/kiddraw/analysis/museumdraw/sketches/couch/couch_sketch_4_E1c_1510268275436.png',\n",
       " '/home/jefan/kiddraw/analysis/museumdraw/sketches/couch/couch_sketch_5_E1c_1510256904834.png',\n",
       " '/home/jefan/kiddraw/analysis/museumdraw/sketches/couch/couch_sketch_5_E1c_1510258311547.png',\n",
       " '/home/jefan/kiddraw/analysis/museumdraw/sketches/couch/couch_sketch_5_E1c_1510786719020.png',\n",
       " '/home/jefan/kiddraw/analysis/museumdraw/sketches/couch/couch_sketch_6_E1c_1510695588717.png',\n",
       " '/home/jefan/kiddraw/analysis/museumdraw/sketches/couch/couch_sketch_6_E1c_1510783818788.png',\n",
       " '/home/jefan/kiddraw/analysis/museumdraw/sketches/couch/couch_sketch_6_E1c_1511292022297.png',\n",
       " '/home/jefan/kiddraw/analysis/museumdraw/sketches/couch/couch_sketch_6_E1c_1511293092153.png',\n",
       " '/home/jefan/kiddraw/analysis/museumdraw/sketches/couch/couch_sketch_7_E1c_1511301634355.png',\n",
       " '/home/jefan/kiddraw/analysis/museumdraw/sketches/couch/couch_sketch_8_E1c_1510254933095.png',\n",
       " '/home/jefan/kiddraw/analysis/museumdraw/sketches/couch/couch_sketch_8_E1c_1510787010922.png',\n",
       " '/home/jefan/kiddraw/analysis/museumdraw/sketches/couch/couch_sketch_8_E1c_1510870628731.png',\n",
       " '/home/jefan/kiddraw/analysis/museumdraw/sketches/couch/couch_sketch_8_E1c_1511293754661.png',\n",
       " '/home/jefan/kiddraw/analysis/museumdraw/sketches/couch/couch_sketch_8_E1c_1511300355318.png',\n",
       " '/home/jefan/kiddraw/analysis/museumdraw/sketches/cup/cup_sketch_10_E1c_1510255462419.png',\n",
       " '/home/jefan/kiddraw/analysis/museumdraw/sketches/cup/cup_sketch_10_E1c_1510684833991.png',\n",
       " '/home/jefan/kiddraw/analysis/museumdraw/sketches/cup/cup_sketch_10_E1c_1511293452162.png',\n",
       " '/home/jefan/kiddraw/analysis/museumdraw/sketches/cup/cup_sketch_10_E1c_1511301807087.png',\n",
       " '/home/jefan/kiddraw/analysis/museumdraw/sketches/cup/cup_sketch_4_E1c_1510691847400.png',\n",
       " '/home/jefan/kiddraw/analysis/museumdraw/sketches/cup/cup_sketch_5_E1c_1510258311547.png',\n",
       " '/home/jefan/kiddraw/analysis/museumdraw/sketches/cup/cup_sketch_5_E1c_1510870384576.png',\n",
       " '/home/jefan/kiddraw/analysis/museumdraw/sketches/cup/cup_sketch_6_E1c_1510690510319.png',\n",
       " '/home/jefan/kiddraw/analysis/museumdraw/sketches/cup/cup_sketch_6_E1c_1510695588717.png',\n",
       " '/home/jefan/kiddraw/analysis/museumdraw/sketches/cup/cup_sketch_7_E1c_1511301634355.png',\n",
       " '/home/jefan/kiddraw/analysis/museumdraw/sketches/cup/cup_sketch_8_E1c_1510254933095.png',\n",
       " '/home/jefan/kiddraw/analysis/museumdraw/sketches/cup/cup_sketch_8_E1c_1510690264523.png',\n",
       " '/home/jefan/kiddraw/analysis/museumdraw/sketches/cup/cup_sketch_8_E1c_1510787010922.png',\n",
       " '/home/jefan/kiddraw/analysis/museumdraw/sketches/cup/cup_sketch_8_E1c_1510870628731.png',\n",
       " '/home/jefan/kiddraw/analysis/museumdraw/sketches/cup/cup_sketch_8_E1c_1511293924452.png',\n",
       " '/home/jefan/kiddraw/analysis/museumdraw/sketches/cup/cup_sketch_8_E1c_1511300355318.png',\n",
       " '/home/jefan/kiddraw/analysis/museumdraw/sketches/cup/cup_sketch_9_E1c_1510689458884.png',\n",
       " '/home/jefan/kiddraw/analysis/museumdraw/sketches/dog/dog_sketch_4_E1d_1513369498187.png',\n",
       " '/home/jefan/kiddraw/analysis/museumdraw/sketches/dog/dog_sketch_5_E1d_1513204910948.png',\n",
       " '/home/jefan/kiddraw/analysis/museumdraw/sketches/dog/dog_sketch_7_E1d_1513724694943.png',\n",
       " '/home/jefan/kiddraw/analysis/museumdraw/sketches/dog/dog_sketch_7_E1d_1513725674858.png',\n",
       " '/home/jefan/kiddraw/analysis/museumdraw/sketches/door/door_sketch_4_E1d_1513364307492.png',\n",
       " '/home/jefan/kiddraw/analysis/museumdraw/sketches/door/door_sketch_7_E1d_1513725674858.png',\n",
       " '/home/jefan/kiddraw/analysis/museumdraw/sketches/duck/duck_sketch_4_E1d_1513204550632.png',\n",
       " '/home/jefan/kiddraw/analysis/museumdraw/sketches/duck/duck_sketch_7_E1d_1513725674858.png',\n",
       " '/home/jefan/kiddraw/analysis/museumdraw/sketches/fish/fish_sketch_3_E1d_1513115119771.png',\n",
       " '/home/jefan/kiddraw/analysis/museumdraw/sketches/fish/fish_sketch_4_E1d_1513364945016.png',\n",
       " '/home/jefan/kiddraw/analysis/museumdraw/sketches/fish/fish_sketch_4_E1d_1513369498187.png',\n",
       " '/home/jefan/kiddraw/analysis/museumdraw/sketches/fish/fish_sketch_5_E1d_1513116902655.png',\n",
       " '/home/jefan/kiddraw/analysis/museumdraw/sketches/fish/fish_sketch_5_E1d_1513204910948.png',\n",
       " '/home/jefan/kiddraw/analysis/museumdraw/sketches/fish/fish_sketch_5_E1d_1513367044649.png',\n",
       " '/home/jefan/kiddraw/analysis/museumdraw/sketches/fish/fish_sketch_7_E1d_1513724694943.png',\n",
       " '/home/jefan/kiddraw/analysis/museumdraw/sketches/fish/fish_sketch_7_E1d_1513725674858.png',\n",
       " '/home/jefan/kiddraw/analysis/museumdraw/sketches/flower/flower_sketch_10_E1c_1510684833991.png',\n",
       " '/home/jefan/kiddraw/analysis/museumdraw/sketches/flower/flower_sketch_10_E1c_1510783638074.png',\n",
       " '/home/jefan/kiddraw/analysis/museumdraw/sketches/flower/flower_sketch_10_E1c_1511293452162.png',\n",
       " '/home/jefan/kiddraw/analysis/museumdraw/sketches/flower/flower_sketch_4_E1c_1510691847400.png',\n",
       " '/home/jefan/kiddraw/analysis/museumdraw/sketches/flower/flower_sketch_5_E1c_1510253748384.png',\n",
       " '/home/jefan/kiddraw/analysis/museumdraw/sketches/flower/flower_sketch_5_E1c_1510786719020.png',\n",
       " '/home/jefan/kiddraw/analysis/museumdraw/sketches/flower/flower_sketch_6_E1c_1510700570912.png',\n",
       " '/home/jefan/kiddraw/analysis/museumdraw/sketches/flower/flower_sketch_7_E1c_1510783353272.png',\n",
       " '/home/jefan/kiddraw/analysis/museumdraw/sketches/flower/flower_sketch_7_E1c_1510870100423.png',\n",
       " '/home/jefan/kiddraw/analysis/museumdraw/sketches/flower/flower_sketch_7_E1c_1511301009480.png',\n",
       " '/home/jefan/kiddraw/analysis/museumdraw/sketches/flower/flower_sketch_8_E1c_1510254933095.png',\n",
       " '/home/jefan/kiddraw/analysis/museumdraw/sketches/flower/flower_sketch_8_E1c_1510262448790.png',\n",
       " '/home/jefan/kiddraw/analysis/museumdraw/sketches/flower/flower_sketch_8_E1c_1510787010922.png',\n",
       " '/home/jefan/kiddraw/analysis/museumdraw/sketches/flower/flower_sketch_8_E1c_1510870628731.png',\n",
       " '/home/jefan/kiddraw/analysis/museumdraw/sketches/flower/flower_sketch_8_E1c_1511292658766.png',\n",
       " '/home/jefan/kiddraw/analysis/museumdraw/sketches/flower/flower_sketch_8_E1c_1511293754661.png',\n",
       " '/home/jefan/kiddraw/analysis/museumdraw/sketches/flower/flower_sketch_8_E1c_1511293924452.png',\n",
       " '/home/jefan/kiddraw/analysis/museumdraw/sketches/flower/flower_sketch_8_E1c_1511300355318.png',\n",
       " '/home/jefan/kiddraw/analysis/museumdraw/sketches/flower/flower_sketch_8_E1c_1511300850043.png',\n",
       " '/home/jefan/kiddraw/analysis/museumdraw/sketches/flower/flower_sketch_9_E1c_1510689458884.png',\n",
       " '/home/jefan/kiddraw/analysis/museumdraw/sketches/foot/foot_sketch_10_E1c_1510684833991.png',\n",
       " '/home/jefan/kiddraw/analysis/museumdraw/sketches/foot/foot_sketch_10_E1c_1510783638074.png',\n",
       " '/home/jefan/kiddraw/analysis/museumdraw/sketches/foot/foot_sketch_4_E1c_1510252568116.png',\n",
       " '/home/jefan/kiddraw/analysis/museumdraw/sketches/foot/foot_sketch_4_E1c_1510691847400.png',\n",
       " '/home/jefan/kiddraw/analysis/museumdraw/sketches/foot/foot_sketch_5_E1c_1510256904834.png',\n",
       " '/home/jefan/kiddraw/analysis/museumdraw/sketches/foot/foot_sketch_5_E1c_1510258311547.png',\n",
       " '/home/jefan/kiddraw/analysis/museumdraw/sketches/foot/foot_sketch_5_E1c_1510786719020.png',\n",
       " '/home/jefan/kiddraw/analysis/museumdraw/sketches/foot/foot_sketch_5_E1c_1511301440421.png',\n",
       " '/home/jefan/kiddraw/analysis/museumdraw/sketches/foot/foot_sketch_6_E1c_1510782034963.png',\n",
       " '/home/jefan/kiddraw/analysis/museumdraw/sketches/foot/foot_sketch_6_E1c_1511292022297.png',\n",
       " '/home/jefan/kiddraw/analysis/museumdraw/sketches/foot/foot_sketch_6_E1c_1511292286803.png',\n",
       " '/home/jefan/kiddraw/analysis/museumdraw/sketches/foot/foot_sketch_8_E1c_1510254933095.png',\n",
       " '/home/jefan/kiddraw/analysis/museumdraw/sketches/foot/foot_sketch_8_E1c_1510262448790.png',\n",
       " '/home/jefan/kiddraw/analysis/museumdraw/sketches/foot/foot_sketch_8_E1c_1510690264523.png',\n",
       " '/home/jefan/kiddraw/analysis/museumdraw/sketches/foot/foot_sketch_8_E1c_1510787010922.png',\n",
       " '/home/jefan/kiddraw/analysis/museumdraw/sketches/foot/foot_sketch_8_E1c_1511293754661.png',\n",
       " '/home/jefan/kiddraw/analysis/museumdraw/sketches/fork/fork_sketch_10_E1d_1513368898350.png',\n",
       " '/home/jefan/kiddraw/analysis/museumdraw/sketches/fork/fork_sketch_4_E1d_1513364945016.png',\n",
       " '/home/jefan/kiddraw/analysis/museumdraw/sketches/fork/fork_sketch_5_E1d_1513367044649.png',\n",
       " '/home/jefan/kiddraw/analysis/museumdraw/sketches/fork/fork_sketch_7_E1d_1513725674858.png',\n",
       " '/home/jefan/kiddraw/analysis/museumdraw/sketches/frog/frog_sketch_10_E1c_1510255462419.png',\n",
       " '/home/jefan/kiddraw/analysis/museumdraw/sketches/frog/frog_sketch_10_E1c_1510684833991.png',\n",
       " '/home/jefan/kiddraw/analysis/museumdraw/sketches/frog/frog_sketch_10_E1c_1511293452162.png',\n",
       " '/home/jefan/kiddraw/analysis/museumdraw/sketches/frog/frog_sketch_5_E1c_1510256904834.png',\n",
       " '/home/jefan/kiddraw/analysis/museumdraw/sketches/frog/frog_sketch_5_E1c_1510258311547.png',\n",
       " '/home/jefan/kiddraw/analysis/museumdraw/sketches/frog/frog_sketch_6_E1c_1510700570912.png',\n",
       " '/home/jefan/kiddraw/analysis/museumdraw/sketches/frog/frog_sketch_6_E1c_1510782034963.png',\n",
       " '/home/jefan/kiddraw/analysis/museumdraw/sketches/frog/frog_sketch_6_E1c_1511293092153.png',\n",
       " '/home/jefan/kiddraw/analysis/museumdraw/sketches/frog/frog_sketch_7_E1c_1510263944688.png',\n",
       " '/home/jefan/kiddraw/analysis/museumdraw/sketches/frog/frog_sketch_8_E1c_1510262448790.png',\n",
       " '/home/jefan/kiddraw/analysis/museumdraw/sketches/frog/frog_sketch_8_E1c_1510690264523.png',\n",
       " '/home/jefan/kiddraw/analysis/museumdraw/sketches/frog/frog_sketch_8_E1c_1510787010922.png',\n",
       " '/home/jefan/kiddraw/analysis/museumdraw/sketches/frog/frog_sketch_8_E1c_1510870628731.png',\n",
       " '/home/jefan/kiddraw/analysis/museumdraw/sketches/frog/frog_sketch_8_E1c_1511293754661.png',\n",
       " '/home/jefan/kiddraw/analysis/museumdraw/sketches/frog/frog_sketch_8_E1c_1511293924452.png',\n",
       " '/home/jefan/kiddraw/analysis/museumdraw/sketches/frog/frog_sketch__E1c_1511806224001.png',\n",
       " '/home/jefan/kiddraw/analysis/museumdraw/sketches/hat/hat_sketch_10_E1d_1513368898350.png',\n",
       " '/home/jefan/kiddraw/analysis/museumdraw/sketches/hat/hat_sketch_4_E1d_1513204550632.png',\n",
       " '/home/jefan/kiddraw/analysis/museumdraw/sketches/hat/hat_sketch_4_E1d_1513364307492.png',\n",
       " '/home/jefan/kiddraw/analysis/museumdraw/sketches/hat/hat_sketch_4_E1d_1513365381928.png',\n",
       " '/home/jefan/kiddraw/analysis/museumdraw/sketches/hat/hat_sketch_6_E1d_1512688483655.png',\n",
       " '/home/jefan/kiddraw/analysis/museumdraw/sketches/hat/hat_sketch_7_E1d_1513725674858.png',\n",
       " '/home/jefan/kiddraw/analysis/museumdraw/sketches/horse/horse_sketch_7_E1d_1513725674858.png',\n",
       " '/home/jefan/kiddraw/analysis/museumdraw/sketches/ice cream/ice cream_sketch_10_E1c_1510684833991.png',\n",
       " '/home/jefan/kiddraw/analysis/museumdraw/sketches/ice cream/ice cream_sketch_10_E1c_1510783638074.png',\n",
       " '/home/jefan/kiddraw/analysis/museumdraw/sketches/ice cream/ice cream_sketch_4_E1c_1510691847400.png',\n",
       " '/home/jefan/kiddraw/analysis/museumdraw/sketches/ice cream/ice cream_sketch_5_E1c_1510253748384.png',\n",
       " '/home/jefan/kiddraw/analysis/museumdraw/sketches/ice cream/ice cream_sketch_5_E1c_1510870384576.png',\n",
       " '/home/jefan/kiddraw/analysis/museumdraw/sketches/ice cream/ice cream_sketch_5_E1c_1511301440421.png',\n",
       " '/home/jefan/kiddraw/analysis/museumdraw/sketches/ice cream/ice cream_sketch_6_E1c_1510690510319.png',\n",
       " '/home/jefan/kiddraw/analysis/museumdraw/sketches/ice cream/ice cream_sketch_6_E1c_1510700570912.png',\n",
       " '/home/jefan/kiddraw/analysis/museumdraw/sketches/ice cream/ice cream_sketch_6_E1c_1511292286803.png',\n",
       " '/home/jefan/kiddraw/analysis/museumdraw/sketches/ice cream/ice cream_sketch_7_E1c_1510870100423.png',\n",
       " '/home/jefan/kiddraw/analysis/museumdraw/sketches/ice cream/ice cream_sketch_7_E1c_1511301634355.png',\n",
       " '/home/jefan/kiddraw/analysis/museumdraw/sketches/ice cream/ice cream_sketch_8_E1c_1510254933095.png',\n",
       " '/home/jefan/kiddraw/analysis/museumdraw/sketches/ice cream/ice cream_sketch_8_E1c_1510262448790.png',\n",
       " '/home/jefan/kiddraw/analysis/museumdraw/sketches/ice cream/ice cream_sketch_8_E1c_1510787010922.png',\n",
       " '/home/jefan/kiddraw/analysis/museumdraw/sketches/ice cream/ice cream_sketch_8_E1c_1511293754661.png',\n",
       " '/home/jefan/kiddraw/analysis/museumdraw/sketches/ice cream/ice cream_sketch_8_E1c_1511300355318.png',\n",
       " '/home/jefan/kiddraw/analysis/museumdraw/sketches/ice cream/ice cream_sketch_8_E1c_1511300850043.png',\n",
       " '/home/jefan/kiddraw/analysis/museumdraw/sketches/keys/keys_sketch_10_E1d_1513368898350.png',\n",
       " '/home/jefan/kiddraw/analysis/museumdraw/sketches/keys/keys_sketch_4_E1d_1513204550632.png',\n",
       " '/home/jefan/kiddraw/analysis/museumdraw/sketches/keys/keys_sketch_4_E1d_1513364307492.png',\n",
       " '/home/jefan/kiddraw/analysis/museumdraw/sketches/keys/keys_sketch_7_E1d_1513724694943.png',\n",
       " '/home/jefan/kiddraw/analysis/museumdraw/sketches/keys/keys_sketch_7_E1d_1513725674858.png',\n",
       " '/home/jefan/kiddraw/analysis/museumdraw/sketches/mushroom/mushroom_sketch_7_E1d_1513725674858.png',\n",
       " '/home/jefan/kiddraw/analysis/museumdraw/sketches/phone/phone_sketch_10_E1c_1510684833991.png',\n",
       " '/home/jefan/kiddraw/analysis/museumdraw/sketches/phone/phone_sketch_10_E1c_1510783638074.png',\n",
       " '/home/jefan/kiddraw/analysis/museumdraw/sketches/phone/phone_sketch_10_E1c_1511293452162.png',\n",
       " '/home/jefan/kiddraw/analysis/museumdraw/sketches/phone/phone_sketch_4_E1c_1510252568116.png',\n",
       " '/home/jefan/kiddraw/analysis/museumdraw/sketches/phone/phone_sketch_5_E1c_1511301440421.png',\n",
       " '/home/jefan/kiddraw/analysis/museumdraw/sketches/phone/phone_sketch_6_E1c_1510690510319.png',\n",
       " '/home/jefan/kiddraw/analysis/museumdraw/sketches/phone/phone_sketch_6_E1c_1510782034963.png',\n",
       " '/home/jefan/kiddraw/analysis/museumdraw/sketches/phone/phone_sketch_6_E1c_1510783818788.png',\n",
       " '/home/jefan/kiddraw/analysis/museumdraw/sketches/phone/phone_sketch_7_E1c_1510263944688.png',\n",
       " '/home/jefan/kiddraw/analysis/museumdraw/sketches/phone/phone_sketch_7_E1c_1510783353272.png',\n",
       " '/home/jefan/kiddraw/analysis/museumdraw/sketches/phone/phone_sketch_7_E1c_1510870100423.png',\n",
       " '/home/jefan/kiddraw/analysis/museumdraw/sketches/phone/phone_sketch_7_E1c_1511301009480.png',\n",
       " '/home/jefan/kiddraw/analysis/museumdraw/sketches/phone/phone_sketch_7_E1c_1511301634355.png',\n",
       " '/home/jefan/kiddraw/analysis/museumdraw/sketches/phone/phone_sketch_8_E1c_1510254933095.png',\n",
       " '/home/jefan/kiddraw/analysis/museumdraw/sketches/phone/phone_sketch_8_E1c_1510690264523.png',\n",
       " '/home/jefan/kiddraw/analysis/museumdraw/sketches/phone/phone_sketch_8_E1c_1510870628731.png',\n",
       " '/home/jefan/kiddraw/analysis/museumdraw/sketches/phone/phone_sketch_8_E1c_1511293924452.png',\n",
       " '/home/jefan/kiddraw/analysis/museumdraw/sketches/phone/phone_sketch_8_E1c_1511300850043.png',\n",
       " '/home/jefan/kiddraw/analysis/museumdraw/sketches/piano/piano_sketch_4_E1d_1513364307492.png',\n",
       " '/home/jefan/kiddraw/analysis/museumdraw/sketches/piano/piano_sketch_5_E1d_1513116902655.png',\n",
       " '/home/jefan/kiddraw/analysis/museumdraw/sketches/piano/piano_sketch_5_E1d_1513367044649.png',\n",
       " '/home/jefan/kiddraw/analysis/museumdraw/sketches/piano/piano_sketch_6_E1d_1512688483655.png',\n",
       " '/home/jefan/kiddraw/analysis/museumdraw/sketches/piano/piano_sketch_7_E1d_1513725674858.png',\n",
       " '/home/jefan/kiddraw/analysis/museumdraw/sketches/rabbit/rabbit_sketch_10_E1c_1510684833991.png',\n",
       " '/home/jefan/kiddraw/analysis/museumdraw/sketches/rabbit/rabbit_sketch_10_E1c_1511293452162.png',\n",
       " '/home/jefan/kiddraw/analysis/museumdraw/sketches/rabbit/rabbit_sketch_4_E1c_1510263067113.png',\n",
       " '/home/jefan/kiddraw/analysis/museumdraw/sketches/rabbit/rabbit_sketch_4_E1c_1510691847400.png',\n",
       " '/home/jefan/kiddraw/analysis/museumdraw/sketches/rabbit/rabbit_sketch_5_E1c_1510256904834.png',\n",
       " '/home/jefan/kiddraw/analysis/museumdraw/sketches/rabbit/rabbit_sketch_5_E1c_1510786719020.png',\n",
       " '/home/jefan/kiddraw/analysis/museumdraw/sketches/rabbit/rabbit_sketch_6_E1c_1510253415559.png',\n",
       " '/home/jefan/kiddraw/analysis/museumdraw/sketches/rabbit/rabbit_sketch_6_E1c_1510783818788.png',\n",
       " '/home/jefan/kiddraw/analysis/museumdraw/sketches/rabbit/rabbit_sketch_6_E1c_1511292022297.png',\n",
       " '/home/jefan/kiddraw/analysis/museumdraw/sketches/rabbit/rabbit_sketch_6_E1c_1511292286803.png',\n",
       " '/home/jefan/kiddraw/analysis/museumdraw/sketches/rabbit/rabbit_sketch_6_E1c_1511293092153.png',\n",
       " '/home/jefan/kiddraw/analysis/museumdraw/sketches/rabbit/rabbit_sketch_7_E1c_1510870100423.png',\n",
       " '/home/jefan/kiddraw/analysis/museumdraw/sketches/rabbit/rabbit_sketch_7_E1c_1511301009480.png',\n",
       " '/home/jefan/kiddraw/analysis/museumdraw/sketches/rabbit/rabbit_sketch_8_E1c_1510254933095.png',\n",
       " '/home/jefan/kiddraw/analysis/museumdraw/sketches/rabbit/rabbit_sketch_8_E1c_1510690264523.png',\n",
       " '/home/jefan/kiddraw/analysis/museumdraw/sketches/rabbit/rabbit_sketch_8_E1c_1510787010922.png',\n",
       " '/home/jefan/kiddraw/analysis/museumdraw/sketches/rabbit/rabbit_sketch_8_E1c_1510870628731.png',\n",
       " '/home/jefan/kiddraw/analysis/museumdraw/sketches/rabbit/rabbit_sketch_8_E1c_1511293924452.png',\n",
       " '/home/jefan/kiddraw/analysis/museumdraw/sketches/rabbit/rabbit_sketch_8_E1c_1511300355318.png',\n",
       " '/home/jefan/kiddraw/analysis/museumdraw/sketches/rabbit/rabbit_sketch_8_E1c_1511300850043.png',\n",
       " '/home/jefan/kiddraw/analysis/museumdraw/sketches/rabbit/rabbit_sketch_9_E1c_1510686242527.png',\n",
       " '/home/jefan/kiddraw/analysis/museumdraw/sketches/rabbit/rabbit_sketch__E1c_1510894558208.png',\n",
       " '/home/jefan/kiddraw/analysis/museumdraw/sketches/shark/shark_sketch_10_E1d_1513368898350.png',\n",
       " '/home/jefan/kiddraw/analysis/museumdraw/sketches/shark/shark_sketch_5_E1d_1513116902655.png',\n",
       " '/home/jefan/kiddraw/analysis/museumdraw/sketches/shark/shark_sketch_5_E1d_1513367044649.png',\n",
       " '/home/jefan/kiddraw/analysis/museumdraw/sketches/shark/shark_sketch_7_E1d_1513725674858.png',\n",
       " '/home/jefan/kiddraw/analysis/museumdraw/sketches/shark/shark_sketch__E1d_1512536288731.png',\n",
       " '/home/jefan/kiddraw/analysis/museumdraw/sketches/sheep/sheep_sketch_10_E1d_1513368898350.png',\n",
       " '/home/jefan/kiddraw/analysis/museumdraw/sketches/sheep/sheep_sketch_5_E1d_1513116902655.png',\n",
       " '/home/jefan/kiddraw/analysis/museumdraw/sketches/sheep/sheep_sketch_5_E1d_1513204910948.png',\n",
       " '/home/jefan/kiddraw/analysis/museumdraw/sketches/sheep/sheep_sketch_5_E1d_1513367044649.png',\n",
       " '/home/jefan/kiddraw/analysis/museumdraw/sketches/sheep/sheep_sketch_7_E1d_1513725674858.png',\n",
       " '/home/jefan/kiddraw/analysis/museumdraw/sketches/shoe/shoe_sketch_10_E1c_1510255462419.png',\n",
       " '/home/jefan/kiddraw/analysis/museumdraw/sketches/shoe/shoe_sketch_10_E1c_1510684833991.png',\n",
       " '/home/jefan/kiddraw/analysis/museumdraw/sketches/shoe/shoe_sketch_10_E1c_1511293452162.png',\n",
       " '/home/jefan/kiddraw/analysis/museumdraw/sketches/shoe/shoe_sketch_10_E1c_1511301807087.png',\n",
       " '/home/jefan/kiddraw/analysis/museumdraw/sketches/shoe/shoe_sketch_5_E1c_1510256904834.png',\n",
       " '/home/jefan/kiddraw/analysis/museumdraw/sketches/shoe/shoe_sketch_5_E1c_1510786719020.png',\n",
       " '/home/jefan/kiddraw/analysis/museumdraw/sketches/shoe/shoe_sketch_5_E1c_1510870384576.png',\n",
       " '/home/jefan/kiddraw/analysis/museumdraw/sketches/shoe/shoe_sketch_6_E1c_1510695588717.png',\n",
       " '/home/jefan/kiddraw/analysis/museumdraw/sketches/shoe/shoe_sketch_6_E1c_1510700570912.png',\n",
       " '/home/jefan/kiddraw/analysis/museumdraw/sketches/shoe/shoe_sketch_6_E1c_1511292022297.png',\n",
       " '/home/jefan/kiddraw/analysis/museumdraw/sketches/shoe/shoe_sketch_6_E1c_1511292286803.png',\n",
       " '/home/jefan/kiddraw/analysis/museumdraw/sketches/shoe/shoe_sketch_7_E1c_1510263944688.png',\n",
       " '/home/jefan/kiddraw/analysis/museumdraw/sketches/shoe/shoe_sketch_7_E1c_1511301634355.png',\n",
       " '/home/jefan/kiddraw/analysis/museumdraw/sketches/shoe/shoe_sketch_8_E1c_1510254933095.png',\n",
       " '/home/jefan/kiddraw/analysis/museumdraw/sketches/shoe/shoe_sketch_8_E1c_1510262448790.png',\n",
       " '/home/jefan/kiddraw/analysis/museumdraw/sketches/shoe/shoe_sketch_8_E1c_1510787010922.png',\n",
       " '/home/jefan/kiddraw/analysis/museumdraw/sketches/shoe/shoe_sketch_8_E1c_1510870628731.png',\n",
       " '/home/jefan/kiddraw/analysis/museumdraw/sketches/shoe/shoe_sketch_8_E1c_1511300355318.png',\n",
       " '/home/jefan/kiddraw/analysis/museumdraw/sketches/spider/spider_sketch_7_E1d_1513725674858.png',\n",
       " '/home/jefan/kiddraw/analysis/museumdraw/sketches/table/table_sketch_10_E1d_1513368898350.png',\n",
       " '/home/jefan/kiddraw/analysis/museumdraw/sketches/table/table_sketch_3_E1d_1513115119771.png',\n",
       " '/home/jefan/kiddraw/analysis/museumdraw/sketches/table/table_sketch_4_E1d_1513364307492.png',\n",
       " '/home/jefan/kiddraw/analysis/museumdraw/sketches/table/table_sketch_5_E1d_1513116902655.png',\n",
       " '/home/jefan/kiddraw/analysis/museumdraw/sketches/table/table_sketch_6_E1d_1512688483655.png',\n",
       " '/home/jefan/kiddraw/analysis/museumdraw/sketches/table/table_sketch_7_E1d_1513725674858.png',\n",
       " '/home/jefan/kiddraw/analysis/museumdraw/sketches/train/train_sketch_10_E1c_1510684833991.png',\n",
       " '/home/jefan/kiddraw/analysis/museumdraw/sketches/train/train_sketch_10_E1c_1511293452162.png',\n",
       " '/home/jefan/kiddraw/analysis/museumdraw/sketches/train/train_sketch_10_E1c_1511301807087.png',\n",
       " '/home/jefan/kiddraw/analysis/museumdraw/sketches/train/train_sketch_4_E1c_1510268275436.png',\n",
       " '/home/jefan/kiddraw/analysis/museumdraw/sketches/train/train_sketch_5_E1c_1510253748384.png',\n",
       " '/home/jefan/kiddraw/analysis/museumdraw/sketches/train/train_sketch_5_E1c_1510258311547.png',\n",
       " '/home/jefan/kiddraw/analysis/museumdraw/sketches/train/train_sketch_5_E1c_1510786719020.png',\n",
       " '/home/jefan/kiddraw/analysis/museumdraw/sketches/train/train_sketch_5_E1c_1510870384576.png',\n",
       " '/home/jefan/kiddraw/analysis/museumdraw/sketches/train/train_sketch_6_E1c_1510253415559.png',\n",
       " '/home/jefan/kiddraw/analysis/museumdraw/sketches/train/train_sketch_6_E1c_1510690510319.png',\n",
       " '/home/jefan/kiddraw/analysis/museumdraw/sketches/train/train_sketch_6_E1c_1510700570912.png',\n",
       " '/home/jefan/kiddraw/analysis/museumdraw/sketches/train/train_sketch_6_E1c_1510782034963.png',\n",
       " '/home/jefan/kiddraw/analysis/museumdraw/sketches/train/train_sketch_6_E1c_1510783818788.png',\n",
       " '/home/jefan/kiddraw/analysis/museumdraw/sketches/train/train_sketch_6_E1c_1511292022297.png',\n",
       " '/home/jefan/kiddraw/analysis/museumdraw/sketches/train/train_sketch_6_E1c_1511292286803.png',\n",
       " '/home/jefan/kiddraw/analysis/museumdraw/sketches/train/train_sketch_6_E1c_1511293092153.png',\n",
       " '/home/jefan/kiddraw/analysis/museumdraw/sketches/train/train_sketch_7_E1c_1510263944688.png',\n",
       " '/home/jefan/kiddraw/analysis/museumdraw/sketches/train/train_sketch_7_E1c_1510783353272.png',\n",
       " '/home/jefan/kiddraw/analysis/museumdraw/sketches/train/train_sketch_7_E1c_1510870100423.png',\n",
       " '/home/jefan/kiddraw/analysis/museumdraw/sketches/train/train_sketch_8_E1c_1510787010922.png',\n",
       " '/home/jefan/kiddraw/analysis/museumdraw/sketches/train/train_sketch_8_E1c_1510870628731.png',\n",
       " '/home/jefan/kiddraw/analysis/museumdraw/sketches/train/train_sketch_8_E1c_1511300355318.png',\n",
       " '/home/jefan/kiddraw/analysis/museumdraw/sketches/train/train_sketch_9_E1c_1510689458884.png']"
      ]
     },
     "execution_count": 5,
     "metadata": {},
     "output_type": "execute_result"
    }
   ],
   "source": [
    "sketch_paths"
   ]
  },
  {
   "cell_type": "markdown",
   "metadata": {},
   "source": [
    "## extract features"
   ]
  },
  {
   "cell_type": "markdown",
   "metadata": {},
   "source": [
    "**Dec 28 2017 (updated Jan 14 2018):** <br>\n",
    " - From command line, extract features using `extract_features.py`. The default arguments are for the kid's drawings. <br>\n",
    " - To extract kid's drawings, just run: `python extract_features.py` <br>\n",
    " - To extract (mini verison of) adult drawings, run: `python extract_features.py --data='/data2/jefan/quickDraw/png_mini' --layer_ind=6 --cohort='adult'`"
   ]
  },
  {
   "cell_type": "code",
<<<<<<< HEAD
   "execution_count": 67,
=======
   "execution_count": 573,
>>>>>>> fac34eb96cad4fe36b6758c181bd70d9c8b5b61e
   "metadata": {
    "collapsed": true
   },
   "outputs": [],
   "source": [
    "# z-score normalization to \"center\" the sketch embeddings\n",
    "def normalize(X):\n",
    "    X = X - X.mean(0)\n",
    "    X = X / np.maximum(X.std(0), 1e-5)\n",
    "    return X\n",
    "\n",
    "def get_class_means(X, labels):    \n",
    "    # load in and normalize features \n",
    "    _mu = np.zeros((len(np.unique(labels)), np.shape(X)[1]))        \n",
    "    X = normalize(X)\n",
    "    for vi, v in enumerate(np.unique(np.asarray(labels))):\n",
    "        Xv = X[labels == v]\n",
    "        nv = float(Xv.shape[0])\n",
    "        if nv > 0:\n",
    "            _mu[vi] = Xv.mean(0)\n",
    "    return _mu\n",
    "\n",
    "def normalize_RDM(MAT):\n",
    "    X = MAT - MAT.mean(0).mean(0)\n",
    "    X = X / np.maximum(MAT.std(0).std(0), 1e-5)\n",
    "    return X\n",
    "\n",
    "def plot_rdm_by_class(Features,X,layer_num):\n",
    "    layers = ['P1','P2','P3','P4','P5','FC6','FC7']        \n",
    "    sns.set_style('white')\n",
    "    fig = plt.figure(figsize=(6,6))\n",
    "    labels = X.label.values\n",
    "    means = get_class_means(Features, labels)\n",
    "    CORRMAT = np.corrcoef(means)\n",
    "    plt.matshow(CORRMAT)\n",
    "    plt.colorbar()\n",
    "    if not os.path.exists('./plots'):\n",
    "        os.makedirs('./plots')\n",
    "    plt.savefig('./plots/RDM_by_view_{}.pdf'.format(layers[layer_num]))\n",
    "    \n",
    "def load_features(cohort, layer_num):\n",
    "    layers = ['P1','P2','P3','P4','P5','FC6','FC7']            \n",
    "    F = np.load('/home/jefan/kiddraw/analysis/museumdraw/python/features/FEATURES_{}_{}.npy'.format(layers[layer_num],cohort))\n",
    "    M = pd.read_csv('/home/jefan/kiddraw/analysis/museumdraw/python/features/METADATA_{}.csv'.format(cohort)) \n",
    "    M = M[['label','age','session']]\n",
    "    return F, M\n",
    "\n",
    "def remove_practice_trials(KF,KM):\n",
    "    '''\n",
    "    remove \"circle\" and \"triangle\" trials from dataset\n",
    "    '''\n",
    "    practice_objects = ['circle','triangle']\n",
    "    _KF = KF[~KM['label'].isin(practice_objects),:]\n",
    "    _KM = KM[~KM['label'].isin(practice_objects)]\n",
    "    return _KF, _KM"
   ]
  },
  {
   "cell_type": "code",
   "execution_count": null,
   "metadata": {
    "collapsed": true
   },
   "outputs": [],
   "source": []
  },
  {
   "cell_type": "code",
<<<<<<< HEAD
   "execution_count": 68,
=======
   "execution_count": 574,
>>>>>>> fac34eb96cad4fe36b6758c181bd70d9c8b5b61e
   "metadata": {},
   "outputs": [
    {
     "name": "stdout",
     "output_type": "stream",
     "text": [
      "(374, 4096)\n"
     ]
    }
   ],
   "source": [
    "## load in kid features\n",
    "KF, KM = load_features('kid',6)\n",
    "KF, KM = remove_practice_trials(KF, KM)\n",
    "KM = KM.reset_index(drop=True)\n",
    "\n",
    "print np.shape(KF)"
   ]
  },
  {
   "cell_type": "code",
   "execution_count": null,
   "metadata": {
    "collapsed": true
   },
   "outputs": [],
   "source": []
  },
  {
   "cell_type": "markdown",
   "metadata": {},
   "source": [
    "### quick classification test"
   ]
  },
  {
   "cell_type": "code",
   "execution_count": null,
   "metadata": {
    "collapsed": true
   },
   "outputs": [],
   "source": []
  },
  {
   "cell_type": "code",
<<<<<<< HEAD
   "execution_count": 69,
=======
   "execution_count": 580,
>>>>>>> fac34eb96cad4fe36b6758c181bd70d9c8b5b61e
   "metadata": {},
   "outputs": [
    {
     "name": "stdout",
     "output_type": "stream",
     "text": [
      "We have 35 labels that are common to both younger and older kid cohorts.\n",
      "We have 15 classes with sufficient data.\n"
     ]
    }
   ],
   "source": [
    "## add additional column that coarse grains age\n",
    "def coarse_grain_age(row):\n",
    "    if row['age'] > 6:\n",
    "        val = 'older'\n",
    "    elif row['age'] <= 6:\n",
    "        val = 'younger'\n",
    "    return val\n",
    "\n",
    "KM['coarse_age'] = KM.apply(coarse_grain_age, axis=1)\n",
    "\n",
    "## subset labels that have at least some drawings of them from each age category\n",
    "younger_labels = KM[KM['coarse_age'] == 'younger']['label'].values\n",
    "older_labels = KM[KM['coarse_age'] == 'older']['label'].values\n",
    "## list of labels that are in both younger and older age categories\n",
    "common_labels = list(np.intersect1d(younger_labels,older_labels))\n",
    "\n",
    "print 'We have {} labels that are common to both younger and older kid cohorts.'.format(len(common_labels))\n",
    "\n",
    "def subset_labels(F,M, labels):\n",
    "    '''\n",
    "    if labels == common_labels, then only include labels that are common to younger and older cohort\n",
    "    if labels == sufficient_data_labels, then subset by list of labels in which we have 'sufficient data', i.e., have >=thresh drawings/class\n",
    "    '''\n",
    "    _F = F[M['label'].isin(labels),:]\n",
    "    _M = M[M['label'].isin(labels)]\n",
    "    return _F, _M\n",
    "\n",
    "## get list of labels in which we have 'sufficient data', i.e., have >=5 drawings/class\n",
    "thresh = 3\n",
    "sufficient_data_labels = [] \n",
    "for cl in common_labels:\n",
    "    num_young_sketches = len(np.where(KM[KM.label==cl]['coarse_age'].values=='younger')[0])\n",
    "    num_older_sketches = len(np.where(KM[KM.label==cl]['coarse_age'].values=='older')[0])\n",
    "    if (num_young_sketches>=thresh) & (num_older_sketches>=thresh):\n",
    "        sufficient_data_labels.append(cl)        \n",
    "        \n",
    "print 'We have {} classes with sufficient data.'.format(len(sufficient_data_labels))\n"
   ]
  },
  {
   "cell_type": "code",
<<<<<<< HEAD
   "execution_count": 70,
=======
   "execution_count": 581,
>>>>>>> fac34eb96cad4fe36b6758c181bd70d9c8b5b61e
   "metadata": {},
   "outputs": [
    {
     "name": "stdout",
     "output_type": "stream",
     "text": [
      "We have 157 drawings in the older cohort\n",
      "We have 113 drawings in the younger cohort\n"
     ]
    }
   ],
   "source": [
    "## subset to only use the labels with either COMMON LABELS or SUFFICIENT DATA (see cell above)\n",
    "KF, KM = subset_labels(KF, KM, sufficient_data_labels)\n",
    "KM = KM.reset_index(drop=True)\n",
    "\n",
    "## output final number of drawings\n",
    "older=KM[KM['coarse_age'] == 'older']\n",
    "younger=KM[KM['coarse_age'] == 'younger']\n",
    "\n",
    "print 'We have {} drawings in the older cohort'.format(np.shape(older)[0])\n",
    "print 'We have {} drawings in the younger cohort'.format(np.shape(younger)[0])\n"
   ]
  },
  {
   "cell_type": "code",
<<<<<<< HEAD
   "execution_count": 71,
=======
   "execution_count": 582,
>>>>>>> fac34eb96cad4fe36b6758c181bd70d9c8b5b61e
   "metadata": {
    "collapsed": true
   },
   "outputs": [],
   "source": [
    "## Load sets for older vs. younger children\n",
    "ind = KM.index[KM['coarse_age'] == 'older']\n",
    "KM_older = KM.loc[ind]\n",
    "KF_older = KF[ind.tolist()]\n",
    "\n",
    "ind2 = KM.index[KM['coarse_age'] == 'younger']\n",
    "KM_younger = KM.loc[ind2]\n",
    "KF_younger = KF[ind2.tolist()]"
   ]
  },
  {
   "cell_type": "markdown",
   "metadata": {},
   "source": [
    "#### Analysis 1:  Classification tests"
   ]
  },
  {
   "cell_type": "code",
<<<<<<< HEAD
   "execution_count": 21,
=======
   "execution_count": 583,
>>>>>>> fac34eb96cad4fe36b6758c181bd70d9c8b5b61e
   "metadata": {},
   "outputs": [
    {
     "name": "stdout",
     "output_type": "stream",
     "text": [
      "0.426470588235\n",
      "All children accuracy: 0.46 (SD = 0.03)\n"
     ]
    }
   ],
   "source": [
    "####  Classification test -- all children\n",
    "FEAT = KF\n",
    "LABELS = KM.label.values\n",
    "AGES = KM.age.values\n",
    "\n",
    "# single train/test split\n",
    "X_train, X_test, y_train, y_test = train_test_split(\n",
    "    FEAT, LABELS, test_size=0.25, random_state=0)\n",
    "# clf = svm.SVC(kernel='linear', C=1).fit(X_train, y_train) # ? not used, leaving for future use\n",
    "clf = linear_model.LogisticRegression(penalty='l2',C=1).fit(X_train, y_train)\n",
    "print clf.score(X_test, y_test)\n",
    "\n",
    "run_this = 1\n",
    "if run_this:\n",
    "    # cross-validated\n",
    "    clf = linear_model.LogisticRegression(penalty='l2')\n",
    "    scores = cross_val_score(clf, FEAT, LABELS, cv=3)\n",
    "    print(\"All children accuracy: %0.2f (SD = %0.2f)\" % (scores.mean(), scores.std())) # not sure why multiplying by 2, reporting just SD for now\n",
    "    \n"
   ]
  },
  {
   "cell_type": "code",
   "execution_count": 584,
   "metadata": {},
   "outputs": [
    {
     "name": "stdout",
     "output_type": "stream",
     "text": [
      "0.4\n",
      "Older children: accuracy: 0.45 (SD = 0.04)\n"
     ]
    }
   ],
   "source": [
    "####  Classification test -- older children\n",
    "FEAT = KF_older\n",
    "LABELS = KM_older.label.values\n",
    "AGES = KM_older.age.values\n",
    "\n",
    "# single train/test split\n",
    "X_train, X_test, y_train, y_test = train_test_split(\n",
    "    FEAT, LABELS, test_size=0.25, random_state=0)\n",
    "clf = linear_model.LogisticRegression(penalty='l2',C=1).fit(X_train, y_train)\n",
    "print clf.score(X_test, y_test)\n",
    "\n",
    "run_this = 1\n",
    "if run_this:\n",
    "    # cross-validated\n",
    "    clf = linear_model.LogisticRegression(penalty='l2')\n",
    "    scores = cross_val_score(clf, FEAT, LABELS, cv=3)\n",
    "    print(\"Older children: accuracy: %0.2f (SD = %0.2f)\" % (scores.mean(), scores.std())) # not sure why multiplying by 2, reporting just SD for now\n",
    "    \n"
   ]
  },
  {
   "cell_type": "code",
<<<<<<< HEAD
   "execution_count": 22,
   "metadata": {},
   "outputs": [
    {
     "ename": "NameError",
     "evalue": "name 'KF_younger' is not defined",
     "output_type": "error",
     "traceback": [
      "\u001b[0;31m---------------------------------------------------------------------------\u001b[0m",
      "\u001b[0;31mNameError\u001b[0m                                 Traceback (most recent call last)",
      "\u001b[0;32m<ipython-input-22-acb392380faf>\u001b[0m in \u001b[0;36m<module>\u001b[0;34m()\u001b[0m\n\u001b[1;32m      1\u001b[0m \u001b[0;31m#### Quick classification test -- younger children\u001b[0m\u001b[0;34m\u001b[0m\u001b[0;34m\u001b[0m\u001b[0m\n\u001b[0;32m----> 2\u001b[0;31m \u001b[0mFEAT\u001b[0m \u001b[0;34m=\u001b[0m \u001b[0mKF_younger\u001b[0m\u001b[0;34m\u001b[0m\u001b[0m\n\u001b[0m\u001b[1;32m      3\u001b[0m \u001b[0mLABELS\u001b[0m \u001b[0;34m=\u001b[0m \u001b[0mKM_younger\u001b[0m\u001b[0;34m.\u001b[0m\u001b[0mlabel\u001b[0m\u001b[0;34m.\u001b[0m\u001b[0mvalues\u001b[0m\u001b[0;34m\u001b[0m\u001b[0m\n\u001b[1;32m      4\u001b[0m \u001b[0mAGES\u001b[0m \u001b[0;34m=\u001b[0m \u001b[0mKM_younger\u001b[0m\u001b[0;34m.\u001b[0m\u001b[0mage\u001b[0m\u001b[0;34m.\u001b[0m\u001b[0mvalues\u001b[0m\u001b[0;34m\u001b[0m\u001b[0m\n\u001b[1;32m      5\u001b[0m \u001b[0;34m\u001b[0m\u001b[0m\n",
      "\u001b[0;31mNameError\u001b[0m: name 'KF_younger' is not defined"
=======
   "execution_count": 585,
   "metadata": {},
   "outputs": [
    {
     "name": "stdout",
     "output_type": "stream",
     "text": [
      "0.344827586207\n",
      "Younger children: accuracy: 0.25 (SD = 0.04)\n"
>>>>>>> fac34eb96cad4fe36b6758c181bd70d9c8b5b61e
     ]
    }
   ],
   "source": [
    "#### Quick classification test -- younger children\n",
    "FEAT = KF_younger\n",
    "LABELS = KM_younger.label.values\n",
    "AGES = KM_younger.age.values\n",
    "\n",
    "# single train/test split\n",
    "X_train, X_test, y_train, y_test = train_test_split(\n",
    "    FEAT, LABELS, test_size=0.25, random_state=0)\n",
    "clf = linear_model.LogisticRegression(penalty='l2',C=1).fit(X_train, y_train)\n",
    "print clf.score(X_test, y_test)\n",
    "\n",
    "run_this = 1\n",
    "if run_this:\n",
    "    # cross-validated\n",
    "    clf = linear_model.LogisticRegression(penalty='l2')\n",
    "    scores = cross_val_score(clf, FEAT, LABELS, cv=3)\n",
    "    print(\"Younger children: accuracy: %0.2f (SD = %0.2f)\" % (scores.mean(), scores.std())) # not sure why multiplying by 2, reporting just SD for now\n",
    "    \n"
   ]
  },
  {
   "cell_type": "code",
   "execution_count": null,
   "metadata": {
    "collapsed": true
   },
   "outputs": [],
   "source": [
    "## Classification tests -- older vs. younger"
   ]
  },
  {
   "cell_type": "code",
   "execution_count": 29,
   "metadata": {
    "collapsed": true
   },
   "outputs": [],
   "source": [
    "# ## see how recognizability changes with age?\n",
    "# scores = []\n",
    "# num_samples = []\n",
    "# age_range = np.arange(4,11)\n",
    "\n",
    "# # width of moving window in # of trials    \n",
    "# window_size = 4\n",
    "# lb = int(min(KM.age.values))\n",
    "# ub = int(max(KM.age.values))\n",
    "# num_windows = ub-lb-window_size+2 ##     \n",
    "\n",
    "# for n in np.arange(num_windows):\n",
    "#     start = lb + n\n",
    "#     end = lb + n + window_size\n",
    "#     ind = KM.index[(KM['age'] >= start) & (KM['age'] < end)]\n",
    "#     meta = KM.loc[ind]\n",
    "#     subFeat = KF[ind.tolist()]\n",
    "\n",
    "#     FEAT = subFeat\n",
    "#     LABELS = meta.label.values\n",
    "\n",
    "#     # single train/test split\n",
    "#     X_train, X_test, y_train, y_test = train_test_split(\n",
    "#         FEAT, LABELS, test_size=0.25, random_state=3)\n",
    "#     clf = svm.SVC(kernel='linear', C=1).fit(X_train, y_train)\n",
    "# #     clf = linear_model.LogisticRegression(penalty='l2',C=1).fit(X_train, y_train)\n",
    "#     print '{}-{}y'.format(start, end-1), len(LABELS),clf.score(X_test, y_test)\n",
    "#     num_samples.append(len(LABELS))\n",
    "#     scores.append(clf.score(X_test, y_test))\n",
    "    "
   ]
  },
  {
   "cell_type": "markdown",
   "metadata": {
    "collapsed": true
   },
   "source": [
    "### Extract adult drawing features"
   ]
  },
  {
   "cell_type": "code",
<<<<<<< HEAD
   "execution_count": 72,
=======
   "execution_count": 611,
>>>>>>> fac34eb96cad4fe36b6758c181bd70d9c8b5b61e
   "metadata": {
    "collapsed": true
   },
   "outputs": [],
   "source": [
    "## load in adult features\n",
    "AF, AM = load_features('adult',6)\n",
    "AF, AM = remove_practice_trials(AF, AM)\n",
    "AM = AM.reset_index(drop=True)\n",
    "numSampled=10 # how many exemplars per class\n",
    "numClasses=np.shape(np.unique(AM.label.values))[0]\n",
    "\n",
    "## which label set are we using? common_labels or sufficient_data_labels\n",
    "these_labels = sufficient_data_labels\n",
    "\n",
    "## set up lookup table to cover discrepancies in category label assignments\n",
    "lookup = dict(zip(these_labels,these_labels))\n",
    "if 'bike' in lookup.keys():\n",
    "    lookup['bike'] = 'bicycle'\n",
    "    \n",
    "## subset adult feature matrix and metadata matrix by appropriate labelset\n",
    "AF, AM = subset_labels(AF, AM, [lookup[i] for i in these_labels])\n",
    "AM = AM.reset_index(drop=True)  "
   ]
  },
  {
   "cell_type": "code",
   "execution_count": null,
   "metadata": {
    "collapsed": true
   },
   "outputs": [],
   "source": []
  },
  {
   "cell_type": "code",
   "execution_count": null,
   "metadata": {
    "collapsed": true
   },
   "outputs": [],
   "source": [
    "## not finished -- want to get subsample to get comparable classification\n",
    "\n",
    "# categoryFeaturesOut=np.zeros((numSampled*numClasses,np.shape(AF)[1])) \n",
    "# np.shape(categoryFeaturesOut[0:10,:])\n",
    "# def get_adult_subsample(AF,AM):\n",
    "#     uniqueLabels=np.unique(AM.label.values)\n",
    "#     labels=AM.label.values\n",
    "#     categoryFeaturesOut=np.zeros((numSampled*numClasses,np.shape(AF)[1])) \n",
    "#     print np.shape(categoryFeaturesOut)\n",
    "#     for vi, v in enumerate(np.asarray(uniqueLabels)):\n",
    "#         categoryFeatures # clear to be sure\n",
    "#         catIndexStart=(vi)*numSampled\n",
    "#         catIndexEnd=catIndexStart+numSampled\n",
    "#         print catIndexStart\n",
    "#         print catIndexEnd\n",
    "#         randImageInd=np.random.randint(500,size=numSampled)\n",
    "#         categoryFeatures=AF[labels == v,:]\n",
    "#         categoryFeaturesSelected=categoryFeatures[randImageInd,:]\n",
    "        \n",
    "#         np.shape(categoryFeatures)\n",
    "#         return categoryFeatures\n",
    "#         del categoryFeatures category       \n",
    "\n",
    "# categoryFeatures=get_adult_subsample(AF,AM)\n",
    "# categoryFeatures\n"
   ]
  },
  {
   "cell_type": "code",
   "execution_count": 109,
   "metadata": {
    "collapsed": true
   },
   "outputs": [],
   "source": [
    "### Correlations between features in FC7 each class (e.g., object category)"
   ]
  },
  {
   "cell_type": "code",
<<<<<<< HEAD
   "execution_count": 13,
   "metadata": {},
   "outputs": [
    {
     "data": {
      "text/plain": [
       "array(['airplane', 'apple', 'banana', 'bear', 'bed', 'bike', 'bird',\n",
       "       'boat', 'bus', 'car', 'carrot', 'cat', 'chair', 'cookie', 'couch',\n",
       "       'cup', 'dog', 'door', 'duck', 'fish', 'flower', 'foot', 'fork',\n",
       "       'frog', 'hat', 'horse', 'ice cream', 'keys', 'mushroom', 'phone',\n",
       "       'piano', 'rabbit', 'shark', 'sheep', 'shoe', 'spider', 'table',\n",
       "       'train'], dtype=object)"
      ]
     },
     "execution_count": 13,
     "metadata": {},
     "output_type": "execute_result"
    }
   ],
   "source": [
    "uniqueLabels"
   ]
  },
  {
   "cell_type": "code",
   "execution_count": 18,
=======
   "execution_count": 587,
>>>>>>> fac34eb96cad4fe36b6758c181bd70d9c8b5b61e
   "metadata": {},
   "outputs": [
    {
     "name": "stdout",
     "output_type": "stream",
     "text": [
<<<<<<< HEAD
      "['boat' 'shoe' 'cup' 'couch' 'car' 'train' 'foot' 'carrot' 'frog'\n",
      " 'ice cream' 'phone' 'rabbit' 'banana' 'flower' 'chair']\n",
      "[ 0.13970255  0.15683375  0.3246342   0.35445353  0.36649117  0.429285\n",
      "  0.53500724  0.55131682  0.58515773  0.64067939  0.64728249  0.65233894\n",
      "  0.68671555  0.71680714  0.749251  ]\n"
=======
      "['boat' 'shoe' 'cup' 'car' 'couch' 'train' 'frog' 'foot' 'carrot' 'rabbit'\n",
      " 'ice cream' 'phone' 'banana' 'flower' 'chair']\n",
      "[ 0.09165147  0.16026777  0.30934528  0.31321119  0.34329901  0.43240504\n",
      "  0.51011855  0.51139082  0.55248657  0.63200355  0.64307664  0.64705823\n",
      "  0.67628643  0.73015292  0.73327501]\n"
>>>>>>> fac34eb96cad4fe36b6758c181bd70d9c8b5b61e
     ]
    }
   ],
   "source": [
    "# make general function\n",
    "def corr_cohort_classes(cohort1,cohort2,uniqueLabels):\n",
    "    if  np.shape(cohort1)==np.shape(cohort2): ## make sure same shape\n",
    "        classCor=np.zeros(np.shape(uniqueLabels)[0]) # open variable\n",
    "        for vi, v in enumerate(np.asarray(uniqueLabels)):\n",
    "            cohort1Vec = cohort1[uniqueLabels == v,:]\n",
    "            cohort2Vec = cohort2[uniqueLabels == v,:]\n",
    "            cohort1Vec=np.reshape(cohort1Vec,np.shape(cohort1Vec)[1],np.shape(cohort1Vec)[0]) # resahpe for corr\n",
    "            cohort2Vec=np.reshape(cohort2Vec,np.shape(cohort2Vec)[1],np.shape(cohort2Vec)[0])# resahpe for corr\n",
    "            classCor[vi]=stats.pearsonr(cohort1Vec,cohort2Vec)[0]\n",
    "        return classCor\n",
    "    \n",
    "uniqueLabels=np.unique(KM.label.values)\n",
    "means_adult = get_class_means(AF, AM.label.values)\n",
    "means_kid = get_class_means(KF, KM.label.values)\n",
    "classCor=corr_cohort_classes(means_adult,means_kid,np.unique(KM.label.values))\n",
    "sortInd=np.argsort(classCor)\n",
    "print uniqueLabels[sortInd]\n",
    "print classCor[sortInd]"
   ]
  },
  {
   "cell_type": "code",
<<<<<<< HEAD
   "execution_count": 19,
=======
   "execution_count": 588,
>>>>>>> fac34eb96cad4fe36b6758c181bd70d9c8b5b61e
   "metadata": {
    "collapsed": true
   },
   "outputs": [],
   "source": [
    "means_older = get_class_means(KF_older, KM_older.label.values)\n",
    "means_younger = get_class_means(KF_younger, KM_younger.label.values)\n"
   ]
  },
  {
   "cell_type": "code",
<<<<<<< HEAD
   "execution_count": 20,
=======
   "execution_count": 589,
>>>>>>> fac34eb96cad4fe36b6758c181bd70d9c8b5b61e
   "metadata": {
    "collapsed": true
   },
   "outputs": [],
   "source": [
    "classCor_Younger=corr_cohort_classes(means_adult,means_younger,np.unique(KM.label.values))\n",
    "sortIndYounger=np.argsort(classCor_Younger)\n",
    "\n",
    "classCor_Older=corr_cohort_classes(means_adult,means_older,np.unique(KM.label.values))\n",
    "sortIndOlder=np.argsort(classCor_Older)\n",
    "\n",
    "df = pd.DataFrame({\n",
    "    'Labels-Older':  uniqueLabels[sortIndOlder],\n",
    "    'Correlations-Older': classCor_Older[sortIndOlder],\n",
    "    'Labels-Younger': uniqueLabels[sortIndYounger],\n",
    "    'Correlations-Younger': classCor_Younger[sortIndYounger],\n",
    "    'Labels-AllKids':uniqueLabels[sortInd],\n",
    "    'Correlations-AllKids':classCor[sortInd],\n",
    "})\n",
    "df.to_csv('FeatureCorrelationsByClass.csv') # save for me to load into R!"
   ]
  },
  {
   "cell_type": "code",
   "execution_count": null,
   "metadata": {
    "collapsed": true
   },
   "outputs": [],
   "source": []
  },
  {
   "cell_type": "markdown",
   "metadata": {
    "collapsed": true
   },
   "source": [
    "### Representational Similarity Analyses"
   ]
  },
  {
   "cell_type": "code",
<<<<<<< HEAD
   "execution_count": 144,
=======
   "execution_count": 625,
>>>>>>> fac34eb96cad4fe36b6758c181bd70d9c8b5b61e
   "metadata": {},
   "outputs": [
    {
     "name": "stdout",
     "output_type": "stream",
     "text": [
      "Clusters\n",
      "['carrot' 'chair' 'ice cream']\n",
      "['banana' 'car' 'flower' 'frog' 'rabbit' 'train']\n",
      "['boat' 'couch' 'cup' 'foot' 'phone' 'shoe']\n"
     ]
    }
   ],
   "source": [
    "## apply clustering to organize RDM so that we can see some block diagonal structure\n",
    "def flatten(x):\n",
    "    return [item for sublist in x for item in sublist]\n",
    "\n",
    "## retrieve alpha sorted labels from meta\n",
    "_labels = np.unique(AM.label.values)\n",
    "means = get_class_means(AF, AM.label.values)\n",
    "af = AffinityPropagation(damping=0.9).fit(means)\n",
    "labels = af.labels_\n",
    "cluster_centers_indices = af.cluster_centers_indices_\n",
    "n_clusters_ = len(cluster_centers_indices)\n",
    "\n",
    "ordered_objs = []\n",
    "print('Clusters')\n",
    "for k in range(n_clusters_):\n",
    "    class_members = labels == k\n",
    "    print _labels[class_members]\n",
    "    ordered_objs.append(list(_labels[class_members]))\n",
    "    \n",
    "ordered_objs = np.array(flatten(ordered_objs))\n",
    "\n",
    "# define standard order to be used for RDM's across layers\n",
    "standard_order = ordered_objs\n",
    "\n",
    "\n",
    "## index for sorting the alphabetical list of labels INTO the order specified by ordered_objs (clustered)\n",
    "sort_inds = [np.where(_labels==ordered_objs[i])[0][0] for i in np.arange(len(ordered_objs))]\n",
    "## Save out\n",
    "np.savetxt('./output/ordered_objects_labels.csv',ordered_objs,delimiter=\",\", fmt=\"%s\") \n"
   ]
  },
  {
   "cell_type": "code",
   "execution_count": null,
   "metadata": {},
<<<<<<< HEAD
=======
   "outputs": [],
   "source": []
  },
  {
   "cell_type": "code",
   "execution_count": null,
   "metadata": {
    "collapsed": true
   },
   "outputs": [],
   "source": []
  },
  {
   "cell_type": "code",
   "execution_count": null,
   "metadata": {
    "collapsed": true
   },
>>>>>>> fac34eb96cad4fe36b6758c181bd70d9c8b5b61e
   "outputs": [],
   "source": []
  },
  {
   "cell_type": "code",
<<<<<<< HEAD
   "execution_count": 143,
   "metadata": {},
   "outputs": [],
   "source": [
    "\n"
   ]
  },
  {
   "cell_type": "code",
   "execution_count": 170,
=======
   "execution_count": 632,
>>>>>>> fac34eb96cad4fe36b6758c181bd70d9c8b5b61e
   "metadata": {
    "collapsed": true
   },
   "outputs": [],
   "source": [
    "def get_and_plot_RDM(M,F,cohort,sort_inds):\n",
    "    ## sorted adult RDMs\n",
    "    labels = M.label.values\n",
    "    means = get_class_means(F, labels)\n",
    "    ordered_means = means[sort_inds,:]\n",
    "    labels = labels[sort_inds]\n",
    "    sns.set_style('white')\n",
    "    CORRMAT = np.corrcoef(ordered_means)\n",
    "\n",
    "    sns.set_context('paper')\n",
    "    fig = plt.figure(figsize=(20,20))\n",
    "    plt.matshow(1-CORRMAT, vmin=0, vmax=2)\n",
    "    plt.xticks(range(len(ordered_objs)), ordered_objs, rotation=90);\n",
    "    plt.yticks(range(len(ordered_objs)), ordered_objs); \n",
    "    plt.colorbar()\n",
    "    for tick in pylab.gca().xaxis.iter_ticks():\n",
    "        tick[0].label2On = True\n",
    "        tick[0].label1On = False\n",
    "        tick[0].label2.set_rotation('vertical')\n",
    "        tick[0].tick1On = False\n",
    "        tick[0].tick2On = False\n",
    "    for tick in pylab.gca().yaxis.iter_ticks():\n",
    "        tick[0].tick1On = False\n",
    "        tick[0].tick2On = False  \n",
    "    RDM = CORRMAT\n",
<<<<<<< HEAD
    "    plt.tick_params(axis='both', which='major', labelsize=12)\n",
    "    plt.gcf().subplots_adjust(left=1, right=2, bottom=0)\n",
    "    fig.set_size_inches(12.5, 12.5)\n",
    "\n",
    "    plt.savefig('./plots/RDM_{}.pdf'.format(cohort),bbox_inches='tight')\n",
    "    np.savetxt('./output/Corrmat_{}.csv'.format(cohort),CORRMAT,delimiter=\",\")\n",
    "\n",
=======
    "    plt.gcf().subplots_adjust(left=0.5) \n",
    "#     plt.tight_layout()    \n",
    "    plt.savefig('./plots/RDM_{}.pdf'.format(cohort))\n",
>>>>>>> fac34eb96cad4fe36b6758c181bd70d9c8b5b61e
    "    return RDM\n",
    "\n",
    "def get_RDM(M,F,sort_inds):\n",
    "    ## sorted adult RDMs\n",
    "    labels = M.label.values\n",
    "    means = get_class_means(F, labels)\n",
    "    ordered_means = means[sort_inds,:]    \n",
    "    RDM = np.corrcoef(ordered_means)\n",
    "    return RDM\n",
    "\n"
   ]
  },
  {
   "cell_type": "code",
<<<<<<< HEAD
   "execution_count": null,
   "metadata": {},
   "outputs": [],
   "source": []
  },
  {
   "cell_type": "code",
   "execution_count": 172,
=======
   "execution_count": 633,
>>>>>>> fac34eb96cad4fe36b6758c181bd70d9c8b5b61e
   "metadata": {},
   "outputs": [
    {
     "data": {
      "text/plain": [
<<<<<<< HEAD
       "<matplotlib.figure.Figure at 0x7f9485d76b50>"
=======
       "<matplotlib.figure.Figure at 0x7fce611dff90>"
>>>>>>> fac34eb96cad4fe36b6758c181bd70d9c8b5b61e
      ]
     },
     "metadata": {},
     "output_type": "display_data"
    },
    {
     "data": {
<<<<<<< HEAD
      "image/png": "iVBORw0KGgoAAAANSUhEUgAAAS8AAAEdCAYAAABdbOF+AAAABHNCSVQICAgIfAhkiAAAAAlwSFlz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\nEZQkeAkhgpIELyFEUJLgJYQISv8FGCLTnQfh1KgAAAAASUVORK5CYII=\n",
      "text/plain": [
       "<matplotlib.figure.Figure at 0x7f9486358790>"
=======
      "image/png": "iVBORw0KGgoAAAANSUhEUgAAARwAAAEKCAYAAADAe+pmAAAABHNCSVQICAgIfAhkiAAAAAlwSFlz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\nDDI4BEG0GGRwCIJoMcjgEATRYvx/SESuVjufQXwAAAAASUVORK5CYII=\n",
      "text/plain": [
       "<matplotlib.figure.Figure at 0x7fce60c5b450>"
>>>>>>> fac34eb96cad4fe36b6758c181bd70d9c8b5b61e
      ]
     },
     "metadata": {},
     "output_type": "display_data"
    }
   ],
   "source": [
    "## get and plot sorted adult RDM\n",
    "ARDM = get_and_plot_RDM(AM, AF,'adult',sort_inds)\n",
    "\n"
   ]
  },
  {
   "cell_type": "code",
<<<<<<< HEAD
   "execution_count": 173,
=======
   "execution_count": 634,
>>>>>>> fac34eb96cad4fe36b6758c181bd70d9c8b5b61e
   "metadata": {},
   "outputs": [
    {
     "data": {
      "text/plain": [
<<<<<<< HEAD
       "<matplotlib.figure.Figure at 0x7f9485e5e050>"
=======
       "<matplotlib.figure.Figure at 0x7fce61673510>"
>>>>>>> fac34eb96cad4fe36b6758c181bd70d9c8b5b61e
      ]
     },
     "metadata": {},
     "output_type": "display_data"
    },
    {
     "data": {
<<<<<<< HEAD
      "image/png": "iVBORw0KGgoAAAANSUhEUgAAAS8AAAEdCAYAAABdbOF+AAAABHNCSVQICAgIfAhkiAAAAAlwSFlz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\nBKX/ATM63IMmsvbDAAAAAElFTkSuQmCC\n",
      "text/plain": [
       "<matplotlib.figure.Figure at 0x7f94862b2990>"
=======
      "image/png": "iVBORw0KGgoAAAANSUhEUgAAARwAAAEKCAYAAADAe+pmAAAABHNCSVQICAgIfAhkiAAAAAlwSFlz\nAAALEgAACxIB0t1+/AAAIABJREFUeJztnXlYFFfW/7/VNIuCgKK4gaKOgojENRgnk2T0NfOaMYtm\nRJa0MRFFkqAQ16i4ojEGVMSJS9wSBFxGjVmcRF/9TdSoqHFBIohRgwIRUJRVWbrq90dPd2jorqor\nNA3N+fj089i3T11Ob6fvPfcsnCAIAgiCIBoBhbkVIAii5UAGhyCIRoMMDkEQjQYZHIIgGg0yOARB\nNBpkcAiCaDTI4BAE0Wgoza1Ac+bJkyc4deoUioqKoA1n+sc//mFmrQii6UIrnHowefJk3Lp1CwqF\nAlZWVrCysjK3SgTRpKEVTj2ws7PD1KlTza0GQTQbOEpteHq+++47HD58GL179wbHcQCAGTNmmFkr\ngmi60AqnHmzduhWTJ0+Gq6uruVUhiGYBGZx64O7ujjFjxphbDYJoNpDBqQcPHjzAuHHj0KtXLwAA\nx3FYvXq1mbUiiKYL+XDqQU5OTp2xrl27mkETgmge0AqnHnTp0gVnz55FXl6ebowMDkEYh+Jw6sGM\nGTOQkpKCLVu24Pbt2/jpp5/MrRJBNGnI4NSDhw8fIiIiAi4uLoiMjERJSYm5VSKIJg1tqeqBlZUV\nKisr4erqig0bNiA/P1/yGkEQ6mzD3njjDVOqSRBNBnIa14Pq6moolUqUl5fj1KlTeOaZZ9CxY0fR\na6ZPn46ePXviyJEjGDVqFHJzc/Hpp582ksYEYV5oS1UP8vPzsWjRIixatAgjRozAiRMnJK+hbRjR\nkiGDUw/mz5+Pt99+G/n5+VAqlfj2228lr3mabRhBWApkcOqBWq3WBf0BAM/zktds3boVNjY2WL58\nOfr06YONGzeaUkWCaFJYvMG5ceOG3v3bt2832NzDhg3DokWLkJ+fj+joaPz5z3+WvObBgwdISEjA\njh07kJmZiX379jWILoIgYPLkyQ0yF/F05ObmYtGiRZg5cybUanWDvbeWhMUbnOXLl+vdX7t2bYPN\nHRQUhODgYMyYMQP/+Mc/MG3aNMlr3nvvPbRt2xZDhw7Fs88+i2effbZBdOE4Dh4eHjh8+DCysrJw\n9+5d3L17t0Hm1jJ79my9+9HR0Q06PyuPHz/G8ePH8dVXX+lu5kS7xS4oKICVlZWsLXZLw2KPxffv\n34/9+/cjMzMTwcHBEAQBHMehU6dODfY3Zs2ahW3btsHT01P2NV27djVZwmd5eTlOnjyJkydP6sY+\n/vjjes977do1/PLLL0hLS8O//vUvAJrtZHp6er3nrg+TJ0/Giy++2GSy9Z9mi93SsFiD8+abb+LN\nN9/E3r174e/vb5K/4erqii1btsDHx0dXD+e5554TvcaUCZ8ff/wx8vLykJeXh/79++Px48cNMq9C\noYBSqYSTkxOUSiUEQYCtrS1WrVrVIPM/LY6OjggNDTWrDjV5mi12U+PKlSv4+OOPwXEc+vfvj/nz\n5+sey8vLw+zZs1FZWYnp06dj+PDhBsfEsPg4nN9//x2bN2/G3bt34e7ujtDQUHTu3Nmo/MOHD9G2\nbVtZc2/YsKHO2AcffCB6jSkTPjdt2oQbN27g9u3b2L9/P6ZMmYKtW7fWe978/Hy4urrizp07OsOq\nxd3dvd7zs7Ju3TpwHIe0tDTY2Ng0qQJo169fx61bt9CjRw94eXmZVZenoaCgAI6OjrC1tcXMmTMx\ndepU3Qo+Ojoao0ePhpeXF6ZNm4aEhASDY2JY7ApHy0cffYTw8HD0798fqampmDt3Lr788kuj8tpt\nkhzGjBmD7t27g+M4CIKArKwsyWtMmfD5008/ISEhASqVChzHoaqqqkHmPXToEKZMmWLwRK0htmys\naH9FpVaTjU1eXh7OnTuH4uJi3Lx5E//3f/8n+QPUkDx69AilpaWyZB0cHODs7FxnvEOHDrr/W1tb\n69Xpvn79OhYsWACO42Bvb4/S0lKDYw4ODkb/rsUbnIqKCgwePBgAMGTIEFRWVorKs2yTFi9ejC++\n+AKAZmtU874xZsyYUSfSuKFSG2xsbJCXlweO43D//n3Y2Ng0yLxTpkwBoDEuVVVVKCwshIuLC5RK\n6Y9PaWkpSkpKdF0tunTpYlS29uqyuLgYjo6OdeS0jvZ///vfGD16NADNKd33338v/0mZgPfeew/v\nvPOOLJ9ebm4uNm3ahLKyMqxevRoHDhzA+PHjn/pvP3r0CKP+ZySKS+QZHCcnJxw5csSg0QGAjIwM\nFBYW4k9/+pNujOd53XfCwcEBxcXFBsdatMEZMWIEQkJC4OnpiYyMDIwYMUJUvmvXrqisrMTFixd1\nY8YMzpMnT3T/FwRB774xtJHGP//8MyIjI2WdbMll8eLFWLVqFYqLi7Fy5UpERUU12NwAsG/fPhw4\ncABdunRBbm4uxo4dK+ofi4qKQm5urp5TV2xFNGPGDL3VZ1RUFOLi4ozKJycn6wwOx3HYvXu37r45\nYDkQmD9/PqKiorB06VLdiVZ9DE5paSmKS0rx5T8/QccO7UVl8wruY+L7c1FaWmrQ4Dx69AjLly/H\nunXr9MYVij8OtUtLS+Ho6GhwTAyLNjiCIOAvf/kLxo4di5ycHLzzzjto397wm6E9xXrvvfdkz//G\nG29g0qRJ8Pb2Rnp6uqyViikjjYuKihATE2OydjX79+9HUlISFAoF1Go1goKCRA1OdnY2duzYITnv\n0aNHceTIEdy8eRNz5swBoDnxkdoeVFVVoaioCE5OTnj06BEqKirYnlADw3IgYKoTrY7t26Frpw7i\nQoLxv1VdXY3Zs2dj7ty5etsrAPD09MSlS5fg6emJsrIyODg4GBwTw6INDsdxWLduHTZt2mTU0GhZ\ntWoVPvroI7z99tu6JaLWCBnz+QQGBuJvf/sbsrOzERISgnbt2knqtHXrViiVSixfvhynTp2q169a\nbf7zn/9g48aN4Hkenp6eGDhwIF566SWj8h999JHefWtra7i5uWH8+PF6Wxvtl8HHxwepqano27cv\nMjIyMGjQIFF9XF1d8cUXX6BPnz66MUOrxWHDhsHb2xtdunTRGTClUlnnA1+bWbNm4f3334cgCFAo\nFDpj1RDMnj1bL6k2OjoaCxcuFL2G5bTRZCdaPK+5SckY4fvvv8fVq1d1z/3DDz/Et99+i6ioKISE\nhGDOnDmoqKhAeHg4ABgcE8PiT6kiIyPh6Oio55MxZ3fMvLw8HDlyBMXFxTq/RkM6Fn/99VdcuHAB\nBw4cgFKpRFJSklHZ6OhoDBo0CH379sX169dx5swZ+Pn5Yc+ePXq+KK0TuvZHRcwYA+yneDzPIyUl\nxaSlO6qrq/HgwQOjPihtzNH27dt1kdtqtRpff/01EhMTRecuLS1FcnKy7kQ0MDBQ9Be/IU+0srOz\nMXLkSHyfvAldO4nHJeXcy8f/Bk7DsWPH4ObmVq+/y4pFr3AA4IUXXmCSz8jIwNatW1FQUKD7gol9\nqVhhcSyy4ufnh/79++Odd97Brl27JJ3G169f1/1q9+jRA7t27cLSpUvrGCmpo87aPM32FAAiIiKY\nHOpaQ1gTsfdq37592L9/P7p27WrUB1WfmKNZs2bh73//O0aOHIm0tDTMnDkTmzdvNihbWlqKEydO\n4M6dO8jOzoabm5vkdkQW9VzhmBqLNjiCIODMmTNMS93Fixfj008/xYIFCxAdHY0DBw6Iyl+5cgX5\n+fkYOXIk7t27J3oKA8h3LAqCgLlz5zLpvnfvXly8eBHHjh3DwYMH0a5dO73ArdoMHjwYoaGh6N27\nN3799VcMHToUarUaAwYMMCj/448/YtOmTVAqlVCr1Zg6darBLdvTbE8Bdod6TUOYkZGBo0ePisrv\n378fycnJ4DjOqA/Ky8sLXl5eGDt2LFJTU3Hnzh1069ZNVrxRaWkpXn31VQBAz549sWfPHqOyLMaJ\nCYEX9dHoZMyERRscjuPQoUMHpKamwtvbW+dRr+lZr42NjQ26desGQRDQvXt3XLhwwajssmXL0Lp1\na5w9exajRo3CwoULsX37dlGd5DoWtbpfuXIF/fr1k6X77du3cfv2beTm5oLjOHTv3l1Ul4iICBQU\nFOD333/H22+/rfOZzJo1y6B8fHw8EhIS0KpVKzx+/BgqlcqgwdH6hlhXRvVxqPfs2RMnTpwQ9SP4\n+PjgypUrej4orX+q9uu6YsUKPHnyBP369cPevXtx6NAhyVM/Ly8vLFy4EN7e3khLSxNdxbIYJyZ4\nHuDV0jJmwqINDgCkpqYiNTVVd1/qV/Yvf/kLKioqMGbMGLz++uvw9fU1Knvz5k188cUXUKlUADR7\nfSlYViysuufk5OCVV15BZGRkna2GIe7du4dNmzbpfsWlorB79+6N4uJitGrVCsXFxejbt6/o/Kzb\nU1aHelBQkJ5vSSqF5fr167h+/bremHYVVluvjIwMPYP51ltvic4NAAsXLsTVq1dx9+5dBAUFwcfH\nx6gsi3Figq8G1NXSMmbC4g0O66/s1KlTAQABAQEICAgQlW3dujWuXLkCQONsbNOmjeT8LJHGrLq/\n/vrrSE5ORlJSkiyn5bx582RFYWu/2NXV1Xjrrbfg7OyMoqIiyVM51u3pkydP9JyuUnk5Yg5xQ7C8\nnvb29vj666/Rr18/XL16Fa1bt5a8Ji8vD5cvX0ZxcTFu3bqF//znP0ad5CzGiQVB4CFIbJmkHjcl\nFm9wWH9l9+/fj4MHD+otsY3Jr1ixAp9//jlatWqFr7/+GsuWLZPUhyXSmFV3Vr+A3Chs1i+2Fpbt\n6dPof+bMGcTFxel8SuHh4aJGisXJHBMTgz179iAhIQHdunVDbGysqO4A24EAi3FighdkOI3NdzBt\n8QaH9Vd29+7dSEpKgrW1teTcxcXFmDNnjl4uldSvPotjlFV3Vr8AaxT2vXv3sHv3buTn5+sMoFjk\ncO3t6TPPPNOg+sfFxWHr1q1wcHBAaWkpJk+eLGpwWJzMDg4OGDp0KFxdXdG9e3dZq1eWSGOTnVaS\n09i8yP2V1ToPhwwZgps3b+plIBtz1D5NLhWLY5R1hcDiF2CJwtaiDbSLi4vD9OnT8eOPP4rO3759\ne9ja2srantbW/5dffpH8MmoD/gAYjBMSQ8rJzOI0nj17NjiO0zsQ0H52jPnsTFYXiVfLcBpL+xpN\nhcUbHLm/sjWPcNPS0nQfYDFH7dPkUsXGxmLnzp1o1aoVrK2t8c9//rPeumup6RcIDAxE//79jcqy\nRGHXvOa5557Dhg0bMHz4cGzZskVU9scff8S4ceNkzQ0A4eHhSExMxM6dOzF27FgEBQWJykdERCAk\nJET3XkVERIjKsziZWZzG2r9bVFSEU6dO4cyZM3juuefw/PPP15F9GuPEBK1wzMuFCxcwdepUBAQE\nwN/fH2FhYQbltB+uKVOmYMuWLeA4DjzPi255Xn/9db1cqtdff11Sn5kzZ2LChAkYNWoUMjIyRMtl\nyNV97969dVZh2hMZQ1HVWkPaqlUrLF68WFYUtiAIuH//PioqKjBs2DCoVCrY29uLPteHDx/i1Vdf\nhaenJziOkyw2NmPGDEyYMAGbN29GRkYGwsPDRX1WO3bsQGJiou69CgsLE91S2dvb6723YWFhdU7C\ntK8Ni9NY6/RfsGCB3nu7atWqOvprjdOZM2cwbNgwFBYWIj4+Hn5+fkbnZ0KQ4cMxY3KBxdc0rln1\nTqFQoLy8XFT+yZMnelspsap5QUFBWLNmDf73f/8XsbGxkr/IgCZfafTo0ejRowdGjx4tGg0sV3dt\nMN6SJUugVCr1boaYOHEiAODIkSMYOHAgrK2tReWBP2om29raIjw8HPHx8ZIdJ6ysrLB582ZERkYi\nIiIC1dXix7Esrw2geX1qvldlZWWi8rXfW0Py2tembdu2uH//PhISElBYWIg1a9aIzi1X/65du6Jr\n16745ptv4Obmhl27dmHFihU4fPiw5PyyUFfLu5kJi1/hdO/eHWvXrsWgQYNw6dIldOvWrd7y+/fv\nx5tvvqmrPFcTYxXntLI8z2Py5Mm64DOxL7lc3Xv37o0TJ07AyckJp0+f1m0ZOI4zeALWunVrzJw5\nE87OzrLkazJlyhS9IEpDz/fs2bM4e/YssrKydJ0L1Go1CgoKDM75NK8NUPf1kQp0lCOvfW1SUlKg\nVqshCALS09OxbNkyyS2PIf215TVqv06PHz/G+fPnYW9vD1dXV1nH7nLQHIuL+2jMeSxu8cmbgiDg\n2LFjuH37Nnr06IGRI0eKBsXJkc/IyICXlxfOnTtX53pjXRgMyUpdw6J7fn4+Pv300zp+DGMxPnl5\neYiJiZEtb+w5GNI9JycHOTk52LNnDyZMmABAk/3dp08fg3FBT/PaAKZ5b4Gne21Yn8elS5dw4sQJ\nBAUFwdHREbt378bbb78tOr8Y2uTNw/EL0NVV/KQ0J78Qr4SvMEvypsUbHIJoCegMzvqP0LWDhMEp\nKMQr0z+mbHGCIOoJnVIRBNFoUPJm4/LkyROkpaWhQ4cOJiu1SRCmRutk9/HxgZ2dnfwLaYXTuKSl\npSE4ONjcahBEg5CYmIghQ4bIv0DOsTcdizcc2pou2TllqFbL84dHdGTrb+RaLV36oSa91WwdML1n\nsLUjfvIjW8tdtXRAtA4bV7aPCP+YLWw++7J0jlJNHlTZMsk7gO3LZWvNpn9plXTOXU3atpL34j9A\nNRZa50jWda5DEw/8sziDo91GVasFVFfLe2EdBLYPsZPAZnDaS8RF1KaLYysm+cc2bG+jWubrAgC2\ntowGR8322lQIbF9Y8GzvVRuOLbbVTmAzUHY8W+8vF7B9FpjdAlRitGH517/+ZdYi6ATRlBEEtYzA\nP+OP5+XlYdq0afj1119x6dIlveDLyMhI3L9/H5WVlXjy5AkOHTqE+Ph4HD16FE5OThgxYgTeeecd\n0b/dZAwOz/N6+UC172vZv38/GRyCMEY96+E4Oztj586dBmvzrF27FoCmj1haWppufN68eZLF0rSY\n1ODwPI+oqChkZWXBzs4OQ4cOxcmTJ1FRUYGlS5fC29sbKpUK/fv3R35+PoYPH44TJ06gvLwckZGR\nOHnyJI4fPw4bGxusWrUKJ0+eRGZmJlQqFRYuXGiSzgcE0ayp5ymVra0tbG3Ft61Hjx7Vi4qOiYmB\no6Mj5s6dK1l21qQG59ixY3BxccGKFSvA8zwqKioQGhqKrKwsrF+/XldFbdSoURg4cCAOHDgAR0dH\nrFu3DgUFBUhJScHu3btx4cIFbN68GUuXLsVXX33FXHqTIFoMJq5pXFVVhczMTPTr1w+ApopieHg4\nfvvtN8yfP1+yOqRJDc7t27cxcOBAAJrs3EOHDuGbb76ps1XSKl/z/zk5ObqOjf379xetG0MQxH8x\ncYnRc+fO6eWFaXuTe3h4yLrepOUpevbsicuXLwPQbK+SkpKQkJCA5cuX6ytRwwBp/9+1a1ddhf2r\nV6/q+gLJ6UZAEC0W7ZZK6vaUHD16FKNGjdLd1/Z/LywslNW1xKQrnBEjRuD48eMIDg5G69at4evr\ni+DgYAwdOlTy2g4dOsDPzw8BAQGwtrbWdT7s3LkzwsPDERERodcMniAI1PtYvKqqClOmTEFGRgYm\nT56M999/Hz///DPCwsIgCAIuX76MRYsW6eRXr16NzMxMCIKAmTNnSqpnUoOjUCiwcuVKUZma/pja\n5ShDQ0MRGhqqNyanej5BtFgEGQZHZIVjbW2NnTt36o1pt1Acx+Grr77Se0xOp5KaNJljcYIgGgBB\nkHFKRZHGDU5Ex+dkRxAvyf1/THMfbfdnJvl+fy9hkq+6kMEkb+PBlh4Atfw9PNeObe6fN7P5B1zt\nxUu+1uYSx/aRHaMsZZJvZV/FJF+Yz5BYyTC/nVANsKmigSKNCYJoNCh5kyCIxkPGlgotuGuDSqWS\nrOYPaBqTyTl2I4gWjXZLJXUzE81mhbNgwQK9+zU7DRAE8V/Ih6NP7fwqQJOLcf78eQQEBGD8+PHY\nvHmzwZyrHTt2YOPGjcjNzdVV1pfq5U0QLQpBkD6FakmN8LT5Vbt27dK1in3ttdeQnJysO+OfOHEi\ndu3ahZiYGGzbtq3OHB4eHti+fTsZG4KoDW2p9KmdXwVoGrlZW1vr7hvLudJSM/eKIIgaNPGKf42+\nwqmdXwXU9cMYy7nSYswQEUSLh1r96lM7v8oQLDlXBEHUoIn7cBrd4IjlV2nzqqKjo40+Fh4ebjrl\nCKK5Y+LyFPWl2RyLEwQhg3omb5oaizU4rtWc7O4KrLlRowp/YpI/+h3b/L6D8pjkSy+y/WK5jLSX\nLZuVyJaL5DuELW/s+EW23tbPSHWVrEWlwNb1oHNPtufrVsH2fF36yUuQqqioBq4xTa2BGuERBNFo\n8AIEqS0TbakIgmgQmniksej5cnp6Ovbt29dYuhAEUV94HlCrxW9NNfCvb9++km0fWKEcKIIwIU18\nhSNqcFJSUnD69GlERkYiKSkJX331FWxtbbF06VI4Oztj/vz5KCsrQ69evbBkyRK9a2vLf/fdd3o5\nUElJSUhJSQHHcVi5ciU6duyIkJAQVFdXo127dli3bh1+//13zJkzB+3bt0dWVhamTJmCAwcO4PHj\nx9i2bZvROB6CaLE0cYMjK2T3wYMH+P7775GcnIyEhAR4eHhgy5YtCA0NRUJCAuzt7XHp0iVReeCP\nHKj8/Hzk5+cjISEBixcvxpYtW6BUKrF582YkJiaiZ8+eOHv2LACgvLwc69atQ0hICL777jts374d\nL774Ik6dOtXwrwZBNHe0gX9SNzMhy2mcnZ2Nfv366RqrKxQK3Lx5E7GxseA4DmVlZfD19RWVB/7I\ngbp16xZSUlKgUqkAaDo0lJeXY9GiRcjLy8P9+/fh4eGB7t27o1evXlAoFHB1ddX1qXJ1dUVRUVED\nvQQEYUHUM5dKrLf4vHnzcPPmTdjZ2cHf3x+vvvoq8vLyMHv2bFRWVmL69OmSLX9lGRx3d3dcu3ZN\n1++b53n06NEDr732Gnx8fABAr4iWIXngD8PTo0cPPP/884iKigKgaU1x/PhxeHh4IDY2FmvXriVf\nD0E8Dbwgfez9lL3FAU0pme7du+vuf/7555gxYwa8vLwwbdq0hjE47dq1w8svv4yAgACdT2batGmI\niopCSUkJFAoFoqOj4ebmZlS+Jn379kX79u11K5wxY8bgxRdfxKZNm5CWlgYHBwe9J0UQhExM2Fuc\n4zjMnTsXzs7OiIqK0jWrXLBgATiOg729PUpLS+Hg4GB0flGD4+fnBz8/PwBAcHAwgoOD9R4Xa79b\nW752DlRYWBjCwsL0xg4ePFhnnpiYmDq61O5fRRCEBqFaDaFaPBpb6nFjaI3NhQsX8Mknn2D9+vXg\neV63C3FwcEBxcbGowaE6DwRhSQj4Y1tl7PaUPmNtH/EhQ4agoKAAgH6pmNLSUjg6OorOYbGRxr3V\nj9FekGfJWftGseZGseZeZWT1Z5L/9UFbJvnO++T3giqqaMU0d/eh4h+42lRdYvPRDfbNZZIvzJKf\nNwYA8y53YJL/ZFABk3zWGXmvTz5XBchrq6aPCXOptNulW7du6QyLp6cnLl26BE9PT5SVlYmubgAL\nNjgE0SKpp9NYrLf4rFmzUFRUBI7jdHF3ISEhmDNnDioqKmSVjiGDQxCWRD0D/8R6i2/atKmOfKdO\nnfDll1/KVq/BfDgpKSlYu3ZtQ01HEMTTIEj4b/hmEPhHEEQzQZDRedNSDM7Vq1cREhKCyspKrFmz\nBjNnzjSYG+Xi4oKcnBx89tlncHFxMZpDJSWnjWQmCEKDKY/FG4IGPRYXBAFbt25FQEAA9u/fbzQ3\nKi4uDpMmTcIPP/wgmkMlR44giBpIbafkOJVNSIOucLSlLLy8vPDTTz9hwYIFRnOjOnbsiDt37kjm\nUInJEQRRC0GGQbGUvlTXr18HAGRkZMDNzQ0eHh7YtWsX/va3vxnMjRIEAadOnaqXHEEQNdDG4Ujd\nzESDrnCUSiUmT56MyspKrFq1Ch988IFkbtQzzzwjK4dKrhxBtGh4yIjDaRRNDNJgBqdmrpMWublR\n9ZEjCOIPBBlF1CWLrJsQOhYnCEtCrQaqJTwlavOdUlmswfGe0QldHOXlAVVdyGCam7VvFGtulNeN\nq0zyh9q9wCT/a6V4vktN8qzZ3Hzf7GTrW/1u64dM8rnXnZnkXd3Y8uTmFrF9GRW2bK/Pwyd2suSK\nFIqny6WqZ2qDqbFYg0MQLRIyOARBNBaCIEie4JrzhJcMDkFYEtp6OFIyZqLZGhxtvWSCIGpAWyr5\n8DyPqKgoZGVlwc7ODkOHDsXJkydRUVGBpUuXwtvbGyqVCv3790d+fr7u6JwgCA10LM7AsWPH4OLi\nghUrVoDneVRUVCA0NBRZWVlYv349YmNjAQCjRo3CwIEDzawtQTRB1AJQLWFQ1GRwAAC3b9/WGRKF\nQoFDhw7hm2++qbN10va3IghCn6a+wmlSTpCePXvi8uXLADTbq6SkJCQkJGD58uV6cuS7IQgjtKRs\n8foyYsQIHD9+HMHBwWjdujV8fX0RHByMoUOHmls1gmge8JDOlbKEXKqGQKFQYOXKlaIyCQkJjaQN\nQTQ/BEHGlspSylMQBGFmeJk3I+Tl5WHs2LHo37+/XvtuAFi0aBECAgIQGBiIjAxNOlB8fDxee+01\nqFQq7NixQ1K9JrXCaUie/JiOxzbynp6NRxumuUsvsv1CsPaNYs2Ner3wBJN8UJdhsmVLhCqmuWPb\nVDDJd/pHeyZ5vriMSV79O5M4Si+y/QZXFrDtTzo7y8vtUoDtddchw2n8tL3Fp0yZAnd3d/z222+I\njY1FfHw8AGDevHmSPcW10AqHICwIQQ0I1RI3kfxUW1tbODk5GXzM3d0dgKbuVc2Dm5iYGEyaNAnp\n6emS+pHBIQhLop5bKjmsWbMGKpUKAKBSqXDgwAEsWbKkzmmyIUxqcARBwNSpU/HSSy9h9+7dpvxT\nBEHA9BVGd+7ciV69emHIkCEA/ug3LrfGuEkNTn5+Puzt7TF9+vQGb+nCS3UXJIiWiAlXOKdOncKl\nS5fw3nvY47XMAAAa7klEQVTv6cZKS0sBAIWFhVDLKOxlUqfxp59+ipSUFPzwww9YunQpACA6Ohrp\n6elwcHBATEwMvv76a3Tu3Bk9e/aEv78/UlJSEB8fj5deeglOTk5YunQpKisrMXz4cLz33nuYN28e\nWrdujd9++w3bt283pfoE0eyobx88sd7iy5cvh4ODAyZOnIgePXpg2bJlWL16NTIzMyEIAmbOnCmp\nn0kNTkREBABg+PDhUKvVSE1NRXl5ORITE3Ho0CEkJyfj+eefx7///W88evQI/fv3x6+//opr164h\nLCwMs2fPxooVK9C5c2d8+OGHuHfvHgBg0KBBWLRokSlVJ4hmiZwtk9jjYr3Ff/jhhzryy5YtY9Kv\nUY/F7969q8uD8vHxwfnz5+Hp6Ym4uDiUlJRg0qRJuHDhAgRBgLW1NW7fvo05c+YAAIqLi5GXpynt\nSblUBGGY+hocU9OoBsfd3R2nTp0CAKSlpaFbt26wsrICx3EoKSmBn58f1q9fj2HDNHEiPXr0wPz5\n8+Hq6gq1Wg2O45CcnEy5VARhBIHnIKg5SRlz0agGx9fXFwcPHkRQUBDs7e115Sa8vb1RXFwMGxsb\nWFlZ6TLGIyMjMX/+fFRWVsLa2hrr169vTHUJotkh8BwEroUaHDc3tzpFshYvXlxHbvr06br/1zw+\n7969O7Zu3aonu2rVqgbWkiAsCB4QpOxJS9lSEQRhWgSBgyBhcaQeNyUWa3DUTwC1VOUznTCbyXcZ\nac8k33lfOZM8S98ogC03CgCScs/Klp3W9XmmufMKrJnkOz5hy71SOLK99kUn2fpSlZSyNYPi77J9\neX8tMpw2UJtCRQXgyDQ1gP86jSVUajFOY4IgTIsgcJI+GlrhEATRIAiCeGCfVsZcmNXgCIKA0NBQ\nlJWV4csvv2zw9AeCaGnw1QrwEmEjPG++sBKzBrRoc60SExN1xoZypAji6dGucKRu5sKsKxxtrpW3\ntzdefvlllJeXIzIyEidPnsTx48dhY2ODVatWoUuXLli7di0uXLgALy8vlJWV0fE4QRhChg9H+tzc\ndJh1hRMREYHhw4cjOjoajo6O2LJlC9q3b4+UlBTs3r0b06dPx+bNm5Gfn49r164hMTERgwcPNqfK\nBNGk0axgOImb+fRrMjkC2vyonJwc9OnTBwDQv39/3LlzB7m5uejduzcAwMvLy2w6EkRTx9T1cOpL\nkzml0uZHde3aFdevXwcAXL16Fe7u7ujSpQtu3rwJALrHCIKoCy9w4CG+ZeLpWPwPOnToAD8/PwQE\nBMDa2hqrVq2Cq6srvLy8EBQUhD/96U9QKpuc2gTRJOB5BXiJjQsPBSRskskw6zfXUK4VAISGhiI0\nNFRvLDw8HEqlEocPH8bdu3cbS0WCaFYIAiDlohGAlmlwWFi7di0uX74MhUKBuLg4c6tDEE0TnoMg\naU04s3lvm43BmT17NpO8jasStrbynh7Xjq0vVVZiKZN8UUUrJvk8a7ZPA2vvKJb8qE05p5jmfrcj\nW1vmqptFTPI2/bowybfxYQsmrXrClvfW2qWSSX5wx8ey5H5XVwMPmKYGINOHY67lDZqRwSEIQhpB\nkF7hSK+ATAcZHIKwIGT7cMyE2eNwAgMD64ypVKo6fY23bNmCvLw8pKen45dffmks9QiiWcGD02yr\nxG4iKxyx3uKZmZkIDAxEQECArre4oTExGtXg1CdPaurUqejYsSPS09Nx7dq1BtSKICwHgQd4nhO9\niQX+aXuLDxgwoM5jcXFxWLNmDeLi4nQHN4bGxDD5liolJQU7duwAANy+fRsdOnQAz/OIiYlBly5d\noFarMW/ePGRmZiI8PBx//etfAQAff/wxrl69ijfffBMTJkzAvHnzEBYWhr179+Lhw4c4e/asriYy\nQRAatKsYURmRFY6trS1sbQ0XISsuLkbnzp0BACUlJUbHxGgUH05VVRW2bduGx48fo1WrVjh9+jT2\n7NmDyMhIFBYWYt26dXB2dsa7776rMzivvPIK5s+fj+DgYIwdO1Y3l7+/P9RqNcaPH98YqhNEs0JW\nidGndBrX3KEI/03IMjQmRqMYHG2e1NatW3HmzBlUV1ejV69eADRLuC5dNEedNevheHt7w8rKCl26\ndEFhYWFjqEkQzZ76rnDE4Gp0g9CmIhkaE6NRfDgcx+Hhw4c4d+4ckpKSMGPGDJ01LCoqwr179/D4\n8WO93sQZGRlQq9XIzc1Fu3btdONKpVJWD2OCaIkIMm9Pg5OTE+7du4e8vDzY29sbHROj0Y7FnZyc\n0Lp1a0ycOBGenp668bZt2yI+Ph7p6el4//33dePff/89Vq5ciXHjxsHGxkY3PmDAAMybNw83btxA\nVFRUY6lPEM0CQcYKR2xLJdZbPDw8XNe+W9vuydCYGJwgZ+PVjMjOzsbIkSPx1YBO6CIz0tjKoz3T\n32CNNL5fyhZpnGZtxyR/VMEWrdtVIV8f1kjjc4yRxj2HmzbSuDqrgEm+8AKTOHOkMV8tbzvzu7oa\ngQ8KcOzYMbi5uUnKaz/3q4s90V6wEZW9z1VijuN12XM3JBYb+Mc/VoOXaHmq5efNbMf1vkPYWo90\nH8rW7+ObndXSQjWIbcPWaoWllQtrqsKzeeeZ5G9mejPJX/mR7fdxoBtjC6Bn2VIhHpwT/3LXpqRY\nXhuaQlQBtmzGEgDU4KCW8NFIPW5KLNbgEERLhAfAS9hkM3b6JYNDEJaEAOnkTcqlIgiiQdCcQkkZ\nHPNhllyq7OxsnDlzRpbsihUr6BicIGTCy7yZC7MYnJycHJw9q9/f2lie1YIFC6hBHkHIRAAn62Yu\nzLKl2rt3Ly5evIjLly+D53m0bdsWL7zwAh48eICTJ0+ioqICS5cuhbe3N1QqFXbs2IGNGzfi7t27\nyM/PR9euXbFixQpzqE4QTRo5KxhzrnDMYnD8/f3h5uaG8ePHIzQ0FDt37oSVlRUeP36M0NBQZGVl\nYf369XWSM729vbF69Wq8++67KC4uhqMj23EzQVg6vIxj8RZd8c/Ly0u3ZTp06BC++eYbozkZ2t5U\nrq6uKCkpIYNDELXgIX3s3eJ8OEqlUuezqZn8lZSUhISEBCxfvtzgdTVlLSxAmiAaBP6/x+JSN3Nh\nlhVOnz59sGbNGty9e1evx5Svry+Cg4MxdChbdCtBEBrkJGea86faLAanTZs2SExMrDMeHR1dZywh\nIQGAJklMy6pVq0ynHEE0YwRIb5lanMFpDLIvt0GFIC9nyNWerTXI8YtsCW9Vl9iWsO+2fsgk3+kf\nbMmnHZ/Iz71ibePCmhvV6xe2crE7O/yVSf5StiuTvF02m4ejg428ti9a7FvLS/a0AVs+nRaek9Em\nhmthWyqCIEwDbakIgmg0qjlIro1kVsgwCWRwCMKCaOrJm2brS5WSkoK1a9cyX1dcXIwjR46YQCOC\naP6YssRoQ2D2RniskMEhCOPwnLybuTDrlurq1asICQlBZWUl1q9fjw0bNiA9PR0ODg6IiYmBnZ0d\nQkJCUF1djXbt2mHdunXYu3cvTp8+DZVKhbi4OL0C6wTR0mnquVRmXeEIgoCtW7ciICAAiYmJKC8v\nR2JiIl555RUkJydDqVRi8+bNSExMRM+ePXH27Fn4+/tj+PDhSEhIIGNDELVo6lsqs65w+vbtC0CT\nT7V27VpMmjQJAODj44Pz58+jvLwcixYtQl5eHu7fvw8PDw90797djBoTRNNGLeOUSqrU98qVK5GW\nlgZvb28sXLhQNx4ZGYn79++jsrIST548waFDhxAfH4+jR4/CyckJI0aMwDvvvCM6t1kNzvXr1wFo\nelC98cYbSEtLAwCkpaWhW7duOHXqFDw8PBAbG4u1a9dCEARYW1vXq0c5QVgy9d1S/fLLLygvL0dS\nUhIWL16M1NRU+Pr6AoDukOfo0aO67yoAzJs3D8OHD5eln1m3VEqlEpMnT0ZycjKCgoJgZ2eHoKAg\nfPvttwgICMAzzzyD48ePIzQ0FNnZ2QCA9u3bo6ioCNOnT8ejR4/MqT5BNDkETt7NGJcvX9YZj+HD\nh+Py5ct1ZI4ePYqXX35Zdz8mJgaTJk1Cenq6pH5mW+H4+fnBz89Pb6x2Iy1HR0ccPHiwzrXbtm0z\nqW4E0Vypby5VSUkJ3N3dAWhyHm/cuKH3eFVVFTIzM3Xtu1UqFcLDw/Hbb79h/vz5SEpKEv3bFhv4\n96DKFuDl9QC6xLG9DM/wbDWWB/vmMsnnXndmkueLy5jkFY7SLVm1sDaeY+0bxZobNang/zHJH273\nFyZ5Nwe2JodKJdtnwUopzx1gJQjAU5Tyru+Wqk2bNigt1bwGpaWldWpOnTt3Ds8++6zuvrOz5rPq\n4eEhS79mF4dDEIRx6ntKNWDAAF298dOnT2PAgAF6jx89ehSjRo3S3dcap8LCQlnNDsjgEIQFUd/A\nv379+sHGxgZBQUGwsrJC586dsXHjRgCaMJbLly9j8ODBOvnVq1cjICAAYWFhmDlzpqR+zWZLlZKS\ngtOnTyMyMtLcqhBEk0UNGcfiEo/XPAoHgLCwMACaiptfffWV3mPLli1j0q/ZGByCIKRp6uUpTL6l\n4nkeCxYswFtvvYWQkBCcPn0a/v7+8Pf3x+nTpwEAgYGBOnmVSgUA+PnnnxEQEACVSoXDhw8D0MQI\nTJs2DQEBASgrY3OUEkRLoMXnUh07dgwuLi5YsWIFeJ5HcHAwtm/fDgAICQkxGjC0Zs0afPbZZ2jX\nrh14nsf58+dhbW2NjRs3YuPGjThz5gz+53/+x9TqE0SzoqnnUpnc4Ny+fRsDBw4EACgUCnAcBwcH\nB939mtTsxCAIgi5XSivXp08fAEDHjh1RUlJiatUJotnR4rdUPXv21EUr8jwPnudRWlqK0tJSXYqC\nIAiorKzUpToAGgfVw4cPddfVhtrEEERdBAjgJW6CGU2OyVc4I0aMwPHjxxEcHIzWrVvjgw8+0CV4\nTZ8+HQAwbtw4BAYG4oUXXtBd9+GHHyIsLAzW1tYIDAyEi4uLqVUliGZPi99SKRQKrFy5Um/s+eef\n17uvdSLXZPDgwdi9e7femDYVYty4cSbQlCCaP2pIH3s/RQBzg0HH4gRhQQiQPoVqsfVwTIkDqtGG\nk+eiGqNky5+pFKyY5Auz5OcuAYCrG5tDXP07kziKTsqfv40P23Md6Ma2YGftG8WaG/VK4Ukm+R+5\n55jki2X2PtPy0Ere6/mIqwAccpjmBqDz00jJmAuLNTgE0RJp6qdUZHAIwoJo8U5jgiAaD9pSEQTR\nqDTlCLUmYXB4nkdUVBSysrJgZ2eHsrIyJCcnA9DkViUkJEClUqFPnz64evUq3nzzTUyYMMHMWhNE\n06MaAqolTI7U46akSdTD0eZb7dq1C1u2bDEqp20fc/DgQVRWVjaihgTRPGjqbWKahMGpnW+lpXb6\ngre3N6ysrNClSxcUFhY2qo4E0RzgZd7MRZMwOLXzrQzlVgGadjJqtRq5ubnUBI8gDCJI/jPnGqdJ\n+HBq51sZyq0CgO+//x4rV67EuHHjYGNjYyZtCaLpQsfiMjCUb1U7twoAZs+eDaWySahMEE0SjcGR\nOhY3H/TtJQgLgiKNG4iEhAQmeVtrNewEqXLSGlrZVzHN3bknW+7VvMsdmOTnFrHl85ZeZHPFlZTK\n69cFAFVPypnmdnmWLffKLpvt95a1bxRrbtSLD84wyaf38mWSv/pInu/Rlns6s6CWcSyulnjcWG/x\nefPm4ebNm7Czs4O/vz9effVV5OXlYfbs2aisrMT06dMlW/42CacxQRANg7TLWLwAV83e4lVVVUhN\nTdV7PCYmBgkJCXj11VcBAJ9//jlmzJiBbdu26drJiEEGhyAsiPoei4v1Fuc4DnPnzsW0adOQk6PJ\nZL9+/ToGDRoEe3t72Nvb6xrjGcPsBkcQBEydOhXBwcGyOvelp6fjl19+aQTNCKL5Ud8VTklJia7m\neJs2bVBcXKx7bO7cudi9ezdCQkLwySefANCEsXCcpgCPg4ODnrwhzG5w8vPzYW9vj8TERFjJqBWS\nnp6Oa9euNYJmBNH8qO8KR6y3uLaP+JAhQ1BQUABAP1DXUC/y2pjdafzpp58iJSUFH330EQoLC1Fa\nWoq+ffti4cKFKCkpwaxZs/TG9u7di4cPH+Ls2bOIjY01t/oE0aQQIICXaDAgiDikBwwYgD179uCV\nV17B6dOn9cr5lpaWwsHBAbdu3dIZFk9PT1y6dAmenp4oKyvTrY6MYXaDExERAQDo1asX/Pz88MYb\nb2DBggW4cuUKzp8/j9GjR+uN+fv7Q61WY/z48WbWnCCaHmoIkqdQYo/X7C3et29fXW/xsLAwzJo1\nC0VFReA4DkuWLAGg6S03Z84cVFRUIDw8XFI/sxscLXfu3MGLL74IAPDx8UFWVpbBMYIgjCPlo9HK\niGGst/imTZvqyHbq1AlffvmlbP3M7sPR0q1bN50zOC0tDd26dTM4plQqZTmXCaIlQsmbMvH398d3\n332HoKAg2NjYYMCAAQbHBgwYgK+//hrLly83t8oE0eRo8Y3wpHBzc0NMTAwATRBRTRwdHeuMdevW\nDUlJSY2mH0E0JzSpDVJbKvNhdoNDEETDQdniZqK0yhp2vLwSFoX5dkxzu1Ww9Y36ZFABk7zClm2n\nW1nA9hHi70p0SqtBaxe2yooPzrGVDelg85hJXqlk89+x9o1izY3qezNVWqgGl7oOkiWXD7b8Pi2C\nINQpXFdHpiVvqQiCaDgaInnTlJDBIQgLoiGOxU1Jo55SZWdnY9asWY35JwmiRSF1QiWnb5UpoRUO\nQVgQLdqHk5KSgs2bN0OhUKCyshJz585Fbm4uwsPDkZOTg88++wydOnVCdHQ00tPT4eDggJiYGBQV\nFWHOnDlwcXHRk9uwYQNSUlLAcRxWrlwJNzc3U6pPEM2Opn5KZfItlSAI2Lp1KwICAvDTTz+hvLwc\ncXFxmDRpEn744QekpqaivLwciYmJur5TAOrIZWRkID8/HwkJCVi8eLFo/yqCaLm08K4Nffv2BQB4\neXlh79696NWrFxQKBTp27Ig7d+7g7t276NevHwBNvtT58+cBoI7crVu3kJKSApVKBQDo0IGtbCdB\ntARafG9xbW+pjIwMPPfcc7hx44buMUEQ4O7ujlOnTgH4I18KgK6oj1auR48eeP755xEVFQUAqKp6\nujgFgrBk1IIAThDfNJnzWNzkWyqlUonJkycjOTkZf/7zn+s87uvrCzs7OwQFBeHbb79FQECAwXn6\n9u2L9u3bQ6VSQaVS4cCBA6ZWnSCaHfWt+GdqTL7C8fLyQmRkpO6+Nm/Kz88Pfn5+AIDFixfrXePo\n6GhQLiwsTJcqTxBEXQRBRgEuSzY4BEE0Hi26L1XN1Ulj07bVE7hAXt4Na18ql35s8llnxOu81ubh\nE7bcrs7ObLldvxY5yZYd3JEt16mkWH7PKwCwb82Wq2WlZDvUfSijTnZN5PaN0iI3N0rLwJyLsuSU\nSg4e3cTLdRqChwCuJTuNCYJoPMjgEATRaDT1SGOzV/yj/CqCaDh4CFCDF71JrXBWrlyJoKAgREdH\n640vWrQIAQEBCAwMREZGBgAgPj4er732GlQqFXbs2CGpH61wCMKCqO8Kp2ar38WLFyM1NRW+vpoa\nQVOmTIG7uzt+++03xMbGIj4+HoCm57hUT3EtZlnhXLx4EePHj4dKpcKZM2d0+VXjxo3DvXv3AADR\n0dEIDg5GaGgoSko0TtENGzZApVJh4sSJyM7ONofqBNGkqW+2uFirX3d3dwCa2LqaDfBiYmIwadIk\npKenS+pnFoNz4sQJzJo1CwkJCRg2bJis/CrKpSIIabQrHKmbMcRa/WpZs2aNLsVIG4S7ZMkSWY0N\nzLKlCgwMxMaNG7Fv3z5MnDhRVn4V5VIRhDS8jEgcsRWOWKtfANi5cyd69eqFIUOGAPij/a+Hh4cs\n/cxicJycnLBkyRLk5eVhwYIFOqUB4/lVlEtFEHKQk7rwdK1+T506hUuXLmHdunW6MW3738LCQln9\n4sxicHbv3o2jR4+ivLwco0ePRmZmpt7jvr6+OHjwIIKCgmBvb4/Y2Fg4OjrqcqkAYMyYMZgwYYI5\n1CeIJgsPAVw9eouLtfpdvnw5HBwcMHHiRPTo0QPLli3D6tWrkZmZCUEQMHPmTEn9OEHKpd3MyM7O\nxsiRI7GxqjtcIa9iv+kjjdkiRk0daXzjkbO00H8Z3Oce09wFd9meq61tNZM8a6RxykO2rbcdz/Z1\n6G1X18chBmuk8bFjx2QVmtN+7rmiNuB4cdesoOAhOJXInrshsbhjce2y7gHkf5DtBLYPfUUFm3w+\nx2agihRsvnwFY0uRQkWFbNnf1WzPtZBRFxuG9wkArBh/Hx9x8p8rANiK/PobgrWdi1Ipr0WP0koj\nx9rWWk6BLUrebEAKCjQ9oBZa58i/iNUddI1Rni29iF2eFZbUrgeMc9uy9eBihrWtvAPD56ARYM2P\nKigoQPfu3WXLy4nDgSBAfmeyhsXiDI6Pjw8SExPRoUMHWDEm7hFEU0GtVqOgoAA+Pj5M18krIUoG\np8Gws7PTHdkRRHOGZWWjhRcEQMYKx1w5TRZncAiiJSN3hWMuyOAQhAXBC7ykD0fq2NyUkMEhCAtC\n4zSWFGoUXQxBBocgLAhexqG3VIEuU0IGhyAsCFrhEATRaPAyDA75cAiCaBDkdZ0ig0MQRIMgY4VD\nBocgiIZALacRngDATLHGZHAIwoLgBQGSCe9kcAiCaAjknFKZsyANGRyCsCAECJCqGGSuxE2ADA5B\nWBS0wiEIotGQ48NhrDHWoJDBIQgLon4l1E0PGRyCsCDUvAC15BLHfF4cs/cWJwiiIREk/0mtcYz1\nFs/MzERgYCACAgJ0vcUNjYlBBocgLAgBMjpvyuwtXlVVhdTUVN1jcXFxWLNmDeLi4hAXF2d0TAza\nUhGEBaFQAFKlvMWaghjqLe7r6wsAKC4uRufOnQFoWgIbGxODDA5BWAAODg5wcnKSLe/k5KTrIV6T\nkpISuLu7A9C0/b1x44buMZ7/I8JHW1XQ0JgYZHAIwgJwdnbGkSNHdH3BpXBwcNBrsa1FrLc4V8PZ\nrPjvMsnQmBhkcAjCQnB2djZoRFgQ6y3u5OSEe/fugeM42NvbGx0TgwwOQRA6xHqLh4eHIyIiAgCw\nePFiADA4JobF9RYnCKLpQsfiBEE0GmRwCIJoNMjgEATRaJDBIQii0SCDQxBEo0EGhyCIRoMMDkEQ\njQYZHIIgGo3/D1hPu5Y4HtpBAAAAAElFTkSuQmCC\n",
      "text/plain": [
       "<matplotlib.figure.Figure at 0x7fce60bb7410>"
>>>>>>> fac34eb96cad4fe36b6758c181bd70d9c8b5b61e
      ]
     },
     "metadata": {},
     "output_type": "display_data"
    }
   ],
   "source": [
    "## get and plot sorted kid RDM collapsing across all ages\n",
    "KRDM = get_and_plot_RDM(KM, KF,'kid',sort_inds)"
   ]
  },
  {
   "cell_type": "code",
<<<<<<< HEAD
   "execution_count": 174,
=======
   "execution_count": 635,
>>>>>>> fac34eb96cad4fe36b6758c181bd70d9c8b5b61e
   "metadata": {},
   "outputs": [
    {
     "data": {
      "text/plain": [
<<<<<<< HEAD
       "<matplotlib.figure.Figure at 0x7f94862b2190>"
=======
       "<matplotlib.figure.Figure at 0x7fce60d6f9d0>"
>>>>>>> fac34eb96cad4fe36b6758c181bd70d9c8b5b61e
      ]
     },
     "metadata": {},
     "output_type": "display_data"
    },
    {
     "data": {
<<<<<<< HEAD
      "image/png": "iVBORw0KGgoAAAANSUhEUgAAAS8AAAEdCAYAAABdbOF+AAAABHNCSVQICAgIfAhkiAAAAAlwSFlz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\n",
      "text/plain": [
       "<matplotlib.figure.Figure at 0x7f9485d3a690>"
=======
      "image/png": "iVBORw0KGgoAAAANSUhEUgAAARwAAAEKCAYAAADAe+pmAAAABHNCSVQICAgIfAhkiAAAAAlwSFlz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\n",
      "text/plain": [
       "<matplotlib.figure.Figure at 0x7fce61472ed0>"
>>>>>>> fac34eb96cad4fe36b6758c181bd70d9c8b5b61e
      ]
     },
     "metadata": {},
     "output_type": "display_data"
    }
   ],
   "source": [
    "## get RDM for older kids (7,8,9,10)\n",
    "ind = KM.index[KM['coarse_age'] == 'older']\n",
    "meta = KM.loc[ind]\n",
    "feat = KF[ind.tolist()]\n",
    "ORDM = get_and_plot_RDM(meta, feat,'older',sort_inds)\n"
   ]
  },
  {
   "cell_type": "code",
<<<<<<< HEAD
   "execution_count": 175,
=======
   "execution_count": 636,
>>>>>>> fac34eb96cad4fe36b6758c181bd70d9c8b5b61e
   "metadata": {},
   "outputs": [
    {
     "data": {
      "text/plain": [
<<<<<<< HEAD
       "<matplotlib.figure.Figure at 0x7f94860c8810>"
=======
       "<matplotlib.figure.Figure at 0x7fce60c055d0>"
>>>>>>> fac34eb96cad4fe36b6758c181bd70d9c8b5b61e
      ]
     },
     "metadata": {},
     "output_type": "display_data"
    },
    {
     "data": {
<<<<<<< HEAD
      "image/png": "iVBORw0KGgoAAAANSUhEUgAAAS8AAAEdCAYAAABdbOF+AAAABHNCSVQICAgIfAhkiAAAAAlwSFlz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\n",
      "text/plain": [
       "<matplotlib.figure.Figure at 0x7f948611a190>"
=======
      "image/png": "iVBORw0KGgoAAAANSUhEUgAAARwAAAEKCAYAAADAe+pmAAAABHNCSVQICAgIfAhkiAAAAAlwSFlz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\nBNFikMEhCKLFIINDEESLQQaHIIgW4/8DVduZOSosAOkAAAAASUVORK5CYII=\n",
      "text/plain": [
       "<matplotlib.figure.Figure at 0x7fce61121b90>"
>>>>>>> fac34eb96cad4fe36b6758c181bd70d9c8b5b61e
      ]
     },
     "metadata": {},
     "output_type": "display_data"
    }
   ],
   "source": [
    "## get RDM for younger kids (3,4,5,6)\n",
    "ind = KM.index[KM['coarse_age'] == 'younger']\n",
    "meta = KM.loc[ind]\n",
    "feat = KF[ind.tolist()]\n",
    "YRDM = get_and_plot_RDM(meta, feat,'younger',sort_inds)"
   ]
  },
  {
   "cell_type": "code",
<<<<<<< HEAD
   "execution_count": 151,
=======
   "execution_count": 637,
>>>>>>> fac34eb96cad4fe36b6758c181bd70d9c8b5b61e
   "metadata": {},
   "outputs": [
    {
     "name": "stdout",
     "output_type": "stream",
     "text": [
      "Correlation between adult and overall kid RDM: 0.736771718847\n",
      " \n",
      "Correlation between adult and OLDER kid RDM: 0.686657681941\n",
      " \n",
      "Correlation between adult and YOUNGER kid RDM: 0.541810076716\n",
      " \n",
      "Correlation between OLDER and YOUNGER kid RDM: 0.39349989633\n"
     ]
    }
   ],
   "source": [
    "## print fc7 cross-cohort correlations\n",
    "\n",
    "dim = KRDM.shape[0]\n",
    "cor = stats.spearmanr(np.ravel(KRDM[np.triu_indices(dim,k=1)]),np.ravel(ARDM[np.triu_indices(dim,k=1)]))[0]\n",
    "print 'Correlation between adult and overall kid RDM: {}'.format(cor)\n",
    "print ' '\n",
    "dim = ORDM.shape[0]\n",
    "cor = stats.spearmanr(np.ravel(ORDM[np.triu_indices(dim,k=1)]),np.ravel(ARDM[np.triu_indices(dim,k=1)]))[0]\n",
    "print 'Correlation between adult and OLDER kid RDM: {}'.format(cor)\n",
    "print ' '\n",
    "dim = YRDM.shape[0]\n",
    "cor = stats.spearmanr(np.ravel(YRDM[np.triu_indices(dim,k=1)]),np.ravel(ARDM[np.triu_indices(dim,k=1)]))[0]\n",
    "print 'Correlation between adult and YOUNGER kid RDM: {}'.format(cor)\n",
    "print ' '\n",
    "dim = YRDM.shape[0]\n",
    "cor = stats.spearmanr(np.ravel(YRDM[np.triu_indices(dim,k=1)]),np.ravel(ORDM[np.triu_indices(dim,k=1)]))[0]\n",
    "print 'Correlation between OLDER and YOUNGER kid RDM: {}'.format(cor)"
   ]
  },
  {
   "cell_type": "code",
   "execution_count": null,
   "metadata": {
    "collapsed": true
   },
   "outputs": [],
   "source": []
  },
  {
   "cell_type": "code",
   "execution_count": null,
   "metadata": {
    "collapsed": true
   },
   "outputs": [],
   "source": []
  },
  {
   "cell_type": "code",
   "execution_count": null,
   "metadata": {
    "collapsed": true
   },
   "outputs": [],
   "source": []
  },
  {
   "cell_type": "code",
   "execution_count": null,
   "metadata": {
    "collapsed": true
   },
   "outputs": [],
   "source": []
  },
  {
   "cell_type": "code",
   "execution_count": null,
   "metadata": {
    "collapsed": true
   },
   "outputs": [],
   "source": []
  },
  {
   "cell_type": "markdown",
   "metadata": {},
   "source": [
    "### generalize across layers"
   ]
  },
  {
   "cell_type": "code",
   "execution_count": 638,
   "metadata": {
    "collapsed": true
   },
   "outputs": [],
   "source": [
    "## which label set are we using? common_labels or sufficient_data_labels\n",
    "these_labels = sufficient_data_labels\n",
    "\n",
    "## function to apply various cleanup operations to adult feat/meta, including deborkifying and subsetting by appropriate labelset\n",
    "def adult_preproc(AF, AM, these_labels):\n",
    "    ## set up lookup table to cover discrepancies in category label assignments\n",
    "    lookup = dict(zip(these_labels,these_labels))\n",
    "    if 'bike' in lookup.keys():\n",
    "        lookup['bike'] = 'bicycle'\n",
    "\n",
    "    ## subset adult feature matrix and metadata matrix by appropriate labelset\n",
    "    AF, AM = subset_labels(AF, AM, [lookup[i] for i in these_labels])\n",
    "    AM = AM.reset_index(drop=True)    \n",
    "    return AF, AM\n",
    "\n",
    "## function to add coarse grain age and subset according to proper labelset\n",
    "def preproc_kid(KF, KM,these_labels):    \n",
    "    KM['coarse_age'] = KM.apply(coarse_grain_age, axis=1)\n",
    "    ## subset labels that have at least some drawings of them from each age category\n",
    "    younger_labels = KM[KM['coarse_age'] == 'younger']['label'].values\n",
    "    older_labels = KM[KM['coarse_age'] == 'older']['label'].values\n",
    "    \n",
    "    ## subset to only use the labels with either COMMON LABELS or SUFFICIENT DATA (see cell above)\n",
    "    KF, KM = subset_labels(KF, KM, these_labels)\n",
    "    KM = KM.reset_index(drop=True)    \n",
    "    return KF, KM\n",
    "\n",
    "## make sure directory for RDM exists\n",
    "if not os.path.exists('./rdm'):\n",
    "    os.makedirs('./rdm')"
   ]
  },
  {
   "cell_type": "markdown",
   "metadata": {},
   "source": [
    "##### generate and save out RDMs as separate npy files"
   ]
  },
  {
   "cell_type": "code",
   "execution_count": null,
   "metadata": {},
   "outputs": [
    {
     "name": "stdout",
     "output_type": "stream",
     "text": [
      "Loading in adult features for layer 0...\n"
     ]
    }
   ],
   "source": [
    "## subsampling on or off?\n",
    "subsample_on = 1\n",
    "\n",
    "## load in adult features\n",
    "really_run = 1\n",
    "if really_run:\n",
    "    for layer_num in np.arange(7):\n",
    "        print 'Loading in adult features for layer {}...'.format(layer_num)\n",
    "        AF, AM = load_features('adult',layer_num)\n",
    "        AF, AM = remove_practice_trials(AF, AM)\n",
    "        AM = AM.reset_index(drop=True)\n",
    "        AF, AM = adult_preproc(AF, AM, these_labels)\n",
    "        ## subsample features especially for lower layers\n",
    "        if subsample_on:\n",
    "            num_features = AF.shape[1]\n",
    "            size_subsample = 100000\n",
    "            if num_features>size_subsample:\n",
    "                feat_inds = np.random.RandomState(0).permutation(num_features)[:size_subsample]\n",
    "                AF = AF[:,feat_inds]         \n",
    "        \n",
    "        print 'Shape of adult feature tensor: {}'.format(np.shape(AF))\n",
    "\n",
    "        ## get RDM\n",
    "        cohort = 'adult'\n",
    "        print 'Getting and saving RDM...'\n",
    "        RDM = get_RDM(AM, AF,sort_inds)\n",
    "        ## save out RDM as npy\n",
    "        np.save('./rdm/RDM_{}_{}.npy'.format(cohort,layer_num),ARDM)\n",
    "        \n",
    "    print 'All done!'"
   ]
  },
  {
   "cell_type": "code",
   "execution_count": null,
   "metadata": {},
   "outputs": [],
   "source": [
    "## subsampling on or off?\n",
    "subsample_on = 1\n",
    "\n",
    "really_run = 1\n",
    "lb = 0\n",
    "ub = 7\n",
    "if really_run:\n",
    "    ## loop through all kid layers and save out their RDM\n",
    "    for layer_num in np.arange(lb,ub):\n",
    "        ## load in kid features\n",
    "        KF, KM = load_features('kid',layer_num)\n",
    "        KF, KM = remove_practice_trials(KF, KM)\n",
    "        KM = KM.reset_index(drop=True)\n",
    "        KF, KM = preproc_kid(KF, KM, these_labels)\n",
    "        print 'Shape of kid feature tensor: {}'.format(np.shape(KF))\n",
    "        ## subsample features especially for lower layers\n",
    "        if subsample_on:        \n",
    "            num_features = KF.shape[1]\n",
    "            size_subsample = 100000\n",
    "            if num_features>size_subsample:\n",
    "                feat_inds = np.random.RandomState(0).permutation(num_features)[:size_subsample]\n",
    "                KF = KF[:,feat_inds]           \n",
    "        \n",
    "        ## get RDM\n",
    "        print 'Getting and saving RDM...'\n",
    "        cohort = 'kid'\n",
    "        KRDM = get_RDM(KM, KF,sort_inds)\n",
    "        ## save out RDM as npy\n",
    "        np.save('./rdm/RDM_{}_{}.npy'.format(cohort,layer_num),KRDM)\n",
    "        \n",
    "        print 'Saved OVERALL KID RDMs for layer {}!'.format(layer_num)        \n",
    "                \n",
    "    ## loop through all kid layers and save out their RDM\n",
    "    for layer_num in np.arange(lb,ub):\n",
    "        ## load in kid features\n",
    "        KF, KM = load_features('kid',layer_num)\n",
    "        KF, KM = remove_practice_trials(KF, KM)\n",
    "        KM = KM.reset_index(drop=True)\n",
    "        KF, KM = preproc_kid(KF, KM, these_labels)\n",
    "        ## subsample features especially for lower layers\n",
    "        if subsample_on:\n",
    "            num_features = KF.shape[1]\n",
    "            size_subsample = 100000\n",
    "            if num_features>size_subsample:\n",
    "                feat_inds = np.random.RandomState(0).permutation(num_features)[:size_subsample]\n",
    "                KF = KF[:,feat_inds]              \n",
    "        \n",
    "        ## get RDM for older kids (7,8,9,10)\n",
    "        ind = KM.index[KM['coarse_age'] == 'older']\n",
    "        meta = KM.loc[ind]\n",
    "        feat = KF[ind.tolist()]\n",
    "        print 'Shape of older kid feature tensor: {}'.format(np.shape(feat))        \n",
    "        ORDM = get_RDM(meta, feat,sort_inds)\n",
    "        np.save('./rdm/RDM_{}_{}.npy'.format('older',layer_num),ORDM)            \n",
    "        print 'Saved OLDER KID RDMs for layer {}!'.format(layer_num)        \n",
    "            \n",
    "    for layer_num in np.arange(lb,ub):\n",
    "        ## load in kid features\n",
    "        KF, KM = load_features('kid',layer_num)\n",
    "        KF, KM = remove_practice_trials(KF, KM)\n",
    "        KM = KM.reset_index(drop=True)\n",
    "        KF, KM = preproc_kid(KF, KM, these_labels)\n",
    "        ## subsample features especially for lower layers\n",
    "        if subsample_on:\n",
    "            num_features = KF.shape[1]\n",
    "            size_subsample = 50000\n",
    "            if num_features>size_subsample:\n",
    "                feat_inds = np.random.RandomState(0).permutation(num_features)[:size_subsample]\n",
    "                KF = KF[:,feat_inds]         \n",
    "                        \n",
    "        ## get RDM for younger kids (3,4,5,6)            \n",
    "        ind = KM.index[KM['coarse_age'] == 'younger']\n",
    "        meta = KM.loc[ind]\n",
    "        feat = KF[ind.tolist()]\n",
    "        print 'Shape of younger kid feature tensor: {}'.format(np.shape(feat))                \n",
    "        YRDM = get_RDM(meta, feat,sort_inds)\n",
    "        np.save('./rdm/RDM_{}_{}.npy'.format('younger',layer_num),YRDM)             \n",
    "        print 'Saved YOUNGER KID RDMs for layer {}!'.format(layer_num)\n",
    "                "
   ]
  },
  {
   "cell_type": "markdown",
   "metadata": {},
   "source": [
    "##### plot layer-wise cross-cohort similarity"
   ]
  },
  {
   "cell_type": "code",
   "execution_count": null,
   "metadata": {},
   "outputs": [],
   "source": [
    "corOA = []\n",
    "corYA = []\n",
    "\n",
    "for layer_num in np.arange(7):\n",
    "    Y = np.load('./rdm/RDM_younger_{}.npy'.format(layer_num))\n",
    "    O = np.load('./rdm/RDM_older_{}.npy'.format(layer_num))\n",
    "    A = np.load('./rdm/RDM_adult_{}.npy'.format(layer_num))\n",
    "\n",
    "    dim = O.shape[0]\n",
    "    rOA = stats.spearmanr(np.ravel(O[np.triu_indices(dim,k=1)]),np.ravel(A[np.triu_indices(dim,k=1)]))[0]\n",
    "    rYA = stats.spearmanr(np.ravel(Y[np.triu_indices(dim,k=1)]),np.ravel(A[np.triu_indices(dim,k=1)]))[0]\n",
    "\n",
    "    corOA.append(rOA)\n",
    "    corYA.append(rYA)\n",
    "\n",
    "import seaborn as sns\n",
    "sns.set_context('talk')\n",
    "sns.set_style('white')\n",
    "plt.figure(figsize=(6,6))\n",
    "plt.plot(np.arange(1,8),corYA,label='younger vs. adult',color=(0.6,0.6,0.6))\n",
    "plt.plot(np.arange(1,8),corOA,label='older vs. adult',color=(0.2,0.2,0.2))\n",
    "plt.xlabel('model layer')\n",
    "plt.ylabel('between-cohort similarity')\n",
    "plt.legend()\n",
    "# plt.savefig('./plots/btw_cohort_similarity.pdf')"
   ]
  },
  {
   "cell_type": "markdown",
   "metadata": {
    "collapsed": true
   },
   "source": [
    "### get errorbars for cross-cohort similarity plot (jackknife resampling over classes)"
   ]
  },
  {
   "cell_type": "code",
   "execution_count": null,
   "metadata": {
    "collapsed": true
   },
   "outputs": [],
   "source": [
    "def get_RDM_resampled(M,F,sort_inds,iteration):\n",
    "    ## sorted adult RDMs\n",
    "    labels = M.label.values\n",
    "    means = get_class_means(F, labels)\n",
    "    ordered_means = means[sort_inds,:] \n",
    "    ### JACKKNIFE RESAMPLING OVER CLASSES (https://en.wikipedia.org/wiki/Jackknife_resampling)    \n",
    "    # 1: exhaustively subset 15 of 16 categories, and compute cross-domain similarity in each case\n",
    "    # 2: variance estimate = (n-1)/n  *   Sum([xi - x.i]^2)\n",
    "    #          where x.i = (1/n) * Sum(xi), the average of all subsamples    \n",
    "    jacks = np.roll(range(ordered_means.shape[0]),iteration)[:ordered_means.shape[0]-1]\n",
    "    ordered_means = ordered_means[jacks,:]\n",
    "    RDM = np.corrcoef(ordered_means)\n",
    "    return RDM\n",
    "\n",
    "def get_rdm_similarity(A,B):\n",
    "    '''\n",
    "    A is RDM for one population\n",
    "    B is RDM for another population, of same dimensionality\n",
    "    '''\n",
    "    dim = A.shape[0]\n",
    "    return stats.spearmanr(np.ravel(A[np.triu_indices(dim,k=1)]),np.ravel(B[np.triu_indices(dim,k=1)]))[0]"
   ]
  },
  {
   "cell_type": "code",
   "execution_count": null,
   "metadata": {
    "collapsed": true
   },
   "outputs": [],
   "source": []
  },
  {
   "cell_type": "code",
   "execution_count": null,
   "metadata": {},
   "outputs": [],
   "source": [
    "lb = 0\n",
    "ub = 7\n",
    "nIter = len(these_labels)\n",
    "\n",
    "cohorts = ['younger','older']\n",
    "CORMAT = []\n",
    "for cohort in cohorts:\n",
    "    ## loop through all kid layers and save out their RDM\n",
    "    Cormat = [] ## cohort-level grouping of cross-cohort similarity\n",
    "    for layer_num in np.arange(lb,ub):\n",
    "        print 'Loading in kid features for layer {}...'.format(layer_num)    \n",
    "        ## load in kid features\n",
    "        KF, KM = load_features('kid',layer_num)\n",
    "        KF, KM = remove_practice_trials(KF, KM)\n",
    "        KM = KM.reset_index(drop=True)\n",
    "        KF, KM = preproc_kid(KF, KM, these_labels)\n",
    "        print 'Shape of kid feature tensor: {}'.format(np.shape(KF))    \n",
    "\n",
    "        print 'Loading in adult features for layer {}...'.format(layer_num)\n",
    "        AF, AM = load_features('adult',layer_num)\n",
    "        AF, AM = remove_practice_trials(AF, AM)\n",
    "        AM = AM.reset_index(drop=True)\n",
    "        AF, AM = adult_preproc(AF, AM, these_labels)\n",
    "        print 'Shape of adult feature tensor: {}'.format(np.shape(AF)) \n",
    "\n",
    "        ## get older kid RDM\n",
    "        print 'Getting and saving kid and adult RDMs ...'\n",
    "        KRDM = []\n",
    "        ARDM = []\n",
    "        cormat = [] ## layer-level grouping of cross-cohort similarity\n",
    "        for i in range(nIter):\n",
    "            if i%4==0:\n",
    "                print 'Iteration {} of {}'.format(i,nIter)\n",
    "            ## get RDM for this cohort, i.e., {'older', 'younger'}\n",
    "            ind = KM.index[KM['coarse_age'] == cohort]\n",
    "            meta = KM.loc[ind]\n",
    "            feat = KF[ind.tolist()]                    \n",
    "            krdm = get_RDM_resampled(meta, feat,sort_inds,i)\n",
    "            ## get RDM adult for adults, aggregate across iterations\n",
    "            ardm = get_RDM_resampled(AM, AF,sort_inds,i)        \n",
    "            if len(KRDM)==0:\n",
    "                KRDM = krdm\n",
    "                ARDM = ardm\n",
    "            else:\n",
    "                KRDM = np.dstack((KRDM,krdm))\n",
    "                ARDM = np.dstack((ARDM,ardm))                                  \n",
    "            ## compute similarity between RDMs\n",
    "            cormat.append(get_rdm_similarity(krdm,ardm))\n",
    "        ## layer level aggregation    \n",
    "        Cormat.append(cormat)\n",
    "        KRDM = np.array(KRDM)\n",
    "        ARDM = np.array(ARDM)\n",
    "        np.save('./rdm/RDM_jackknife_{}_{}.npy'.format(cohort,layer_num),KRDM)             \n",
    "        np.save('./rdm/RDM_jackknife_{}_{}.npy'.format('adult',layer_num),ARDM)         \n",
    "    ## cohort level aggregation    \n",
    "    CORMAT.append(Cormat)\n",
    "                      "
   ]
  },
  {
   "cell_type": "code",
   "execution_count": null,
   "metadata": {
    "collapsed": true
   },
   "outputs": [],
   "source": [
    "## save CORMAT \n",
    "CORMAT = np.array(CORMAT)\n",
    "np.save('./rdm/CORMAT.npy',CORMAT)"
   ]
  },
  {
   "cell_type": "code",
   "execution_count": null,
   "metadata": {
    "collapsed": true
   },
   "outputs": [],
   "source": [
    "## CORMAT has dimensionality: num_cohorts x num_layers x num_objects\n",
    "np.shape(np.array(CORMAT))\n",
    "### JACKKNIFE RESAMPLING OVER CLASSES (https://en.wikipedia.org/wiki/Jackknife_resampling)    \n",
    "# 1: exhaustively subset 15 of 16 categories, and compute cross-domain similarity in each case\n",
    "# 2: variance estimate = (n-1)/n  *   Sum([xi - x.i]^2)\n",
    "#          where x.i = (1/n) * Sum(xi), the average of all subsamples \n",
    "cohorts = ['younger','older']\n",
    "SEM_JACK = []\n",
    "for c,cohort in enumerate(cohorts):\n",
    "    sem_jack = []\n",
    "    for layer_num in np.arange(7):\n",
    "        jackvals = CORMAT[c,layer_num,:]\n",
    "        jackmean = np.mean(jackvals)\n",
    "        sem_jack.append(np.sqrt((15/16) * np.array([(i-jackmean)**2 for i in jackvals]).sum()))\n",
    "    SEM_JACK.append(sem_jack)\n",
    "SEM_JACK = np.array(SEM_JACK)"
   ]
  },
  {
   "cell_type": "code",
   "execution_count": null,
   "metadata": {},
   "outputs": [],
   "source": [
    "## dimensionality of SEM_JACK is num_cohorts x num_layers\n",
    "sem_ya = SEM_JACK[0,:]\n",
    "sem_oa = SEM_JACK[1,:]\n",
    "import seaborn as sns\n",
    "sns.set_context('talk')\n",
    "sns.set_style('white')\n",
    "plt.figure(figsize=(6,6))\n",
    "h = plt.errorbar(np.arange(1,8),corYA,yerr=[sem_ya,sem_ya], color=[0.6, 0.6, 0.6], ecolor=[0.6, 0.6, 0.6],label='younger vs. adult')\n",
    "h = plt.errorbar(np.arange(1,8),corOA,yerr=[sem_oa,sem_oa], color=[0.2, 0.2, 0.2], ecolor=[0.2, 0.2, 0.2],label='older vs. adult')\n",
    "plt.xlabel('model layer')\n",
    "plt.ylabel('between-cohort similarity')\n",
    "plt.legend()\n",
    "plt.savefig('./plots/btw_cohort_similarity.pdf')"
   ]
  },
  {
   "cell_type": "code",
   "execution_count": null,
   "metadata": {
    "collapsed": true
   },
   "outputs": [],
   "source": []
  },
  {
   "cell_type": "code",
   "execution_count": null,
   "metadata": {
    "collapsed": true
   },
   "outputs": [],
   "source": []
  },
  {
   "cell_type": "code",
   "execution_count": null,
   "metadata": {
    "collapsed": true
   },
   "outputs": [],
   "source": [
    "## save out cohort similarity csv\n",
    "df = pd.DataFrame({\n",
    "    'CorrYoungAdult':  corYA,\n",
    "    'SEMYoungAdult':sem_ya,\n",
    "    'CorrOldAdult':  corOA,\n",
    "    'SEMOldAdult':  sem_oa,\n",
    "})\n",
    "df.to_csv('./rdm/CohortSimilarity.csv') "
   ]
  },
  {
   "cell_type": "code",
   "execution_count": null,
   "metadata": {
    "collapsed": true
   },
   "outputs": [],
   "source": []
  },
  {
   "cell_type": "code",
   "execution_count": null,
   "metadata": {
    "collapsed": true
   },
   "outputs": [],
   "source": [
    "### notes 1/22/18:\n",
    "## preprocessing -- bounding box, remove drawings that have 0 mean pixel intensity, have text in them\n",
    "  ## make invalid sketches file\n",
    "## make human vs. model confusion matrix?\n",
    "## make adult -- grab 5 per class \"split-half\" reliability -- but can actually just take two wholes, and correlate them\n",
    "## estimate kids' variability -- within-class as well as across class."
   ]
  },
  {
   "cell_type": "code",
   "execution_count": 462,
   "metadata": {
    "collapsed": true
   },
   "outputs": [],
   "source": []
  },
  {
   "cell_type": "code",
   "execution_count": null,
   "metadata": {
    "collapsed": true
   },
   "outputs": [],
   "source": []
  },
  {
   "cell_type": "code",
   "execution_count": null,
   "metadata": {
    "collapsed": true
   },
   "outputs": [],
   "source": []
  },
  {
   "cell_type": "code",
   "execution_count": null,
   "metadata": {
    "collapsed": true
   },
   "outputs": [],
   "source": []
  },
  {
   "cell_type": "code",
   "execution_count": 564,
   "metadata": {},
   "outputs": [
    {
     "name": "stdout",
     "output_type": "stream",
     "text": [
      "Layer 0 of 7\n",
      "Iteration 0 of 50\n",
      "Iteration 5 of 50\n",
      "Iteration 10 of 50\n",
      "Iteration 15 of 50\n",
      "Iteration 20 of 50\n",
      "Iteration 25 of 50\n",
      "Iteration 30 of 50\n",
      "Iteration 35 of 50\n",
      "Iteration 40 of 50\n",
      "Iteration 45 of 50\n",
      "Layer 1 of 7\n",
      "Iteration 0 of 50\n",
      "Iteration 5 of 50\n",
      "Iteration 10 of 50\n",
      "Iteration 15 of 50\n",
      "Iteration 20 of 50\n",
      "Iteration 25 of 50\n",
      "Iteration 30 of 50\n",
      "Iteration 35 of 50\n",
      "Iteration 40 of 50\n",
      "Iteration 45 of 50\n",
      "Layer 2 of 7\n",
      "Iteration 0 of 50\n",
      "Iteration 5 of 50\n",
      "Iteration 10 of 50\n",
      "Iteration 15 of 50\n",
      "Iteration 20 of 50\n",
      "Iteration 25 of 50\n",
      "Iteration 30 of 50\n",
      "Iteration 35 of 50\n",
      "Iteration 40 of 50\n",
      "Iteration 45 of 50\n",
      "Layer 3 of 7\n",
      "Iteration 0 of 50\n",
      "Iteration 5 of 50\n",
      "Iteration 10 of 50\n",
      "Iteration 15 of 50\n",
      "Iteration 20 of 50\n",
      "Iteration 25 of 50\n",
      "Iteration 30 of 50\n",
      "Iteration 35 of 50\n",
      "Iteration 40 of 50\n",
      "Iteration 45 of 50\n",
      "Layer 4 of 7\n",
      "Iteration 0 of 50\n",
      "Iteration 5 of 50\n",
      "Iteration 10 of 50\n",
      "Iteration 15 of 50\n",
      "Iteration 20 of 50\n",
      "Iteration 25 of 50\n",
      "Iteration 30 of 50\n",
      "Iteration 35 of 50\n",
      "Iteration 40 of 50\n",
      "Iteration 45 of 50\n",
      "Layer 5 of 7\n",
      "Iteration 0 of 50\n",
      "Iteration 5 of 50\n",
      "Iteration 10 of 50\n",
      "Iteration 15 of 50\n",
      "Iteration 20 of 50\n",
      "Iteration 25 of 50\n",
      "Iteration 30 of 50\n",
      "Iteration 35 of 50\n",
      "Iteration 40 of 50\n",
      "Iteration 45 of 50\n",
      "Layer 6 of 7\n",
      "Iteration 0 of 50\n",
      "Iteration 5 of 50\n",
      "Iteration 10 of 50\n",
      "Iteration 15 of 50\n",
      "Iteration 20 of 50\n",
      "Iteration 25 of 50\n",
      "Iteration 30 of 50\n",
      "Iteration 35 of 50\n",
      "Iteration 40 of 50\n",
      "Iteration 45 of 50\n"
     ]
    }
   ],
   "source": [
    "## How many sketches do we have from each class in kids? Take this number, divide by 2, to get approx number \n",
    "## in adults for consistency analysis. Divide by 2, because we already are dividing kid drawing dataset\n",
    "## into younger and older subcategories.\n",
    "\n",
    "## edit Jan 30 2018: Bria asked about estimating adult-adult consistency in a way that is \n",
    "## directly comparable in terms of dataset size to the kid-adult RDM correlations.\n",
    "## so to do this, we will estimate an RDM based on correlating noisy sub-sampled adult with \n",
    "## same rock-solid adult RDM on every go.\n",
    "\n",
    "## load in rock-solid RDM estimated on 1000 drawings per class\n",
    "adult_rock_RDM = np.load('./rdm/RDM_adult_6.npy') \n",
    "\n",
    "## load in kid dataset in order to get num kid drawings per class\n",
    "YF, YM = load_features('kid',6)\n",
    "kid_num_per_class = zip(np.unique(YM.label.values),np.round(YM.groupby('label').count()['age'].values/2))\n",
    "knpc = dict(kid_num_per_class)\n",
    "\n",
    "## load in adult features by layer and get internal consistency\n",
    "CORR = [] ## overall \n",
    "CORR2 = []\n",
    "first_layer = 0\n",
    "num_layers = 7\n",
    "for layer_num in np.arange(first_layer,num_layers):\n",
    "    print('Layer {} of {}'.format(layer_num,num_layers))\n",
    "    AF, AM = load_features('adult',layer_num)\n",
    "    \n",
    "    ## subsample features especially for lower layers\n",
    "    num_features = AF.shape[1]\n",
    "    size_subsample = 50000\n",
    "    if num_features>size_subsample:\n",
    "        feat_inds = np.random.RandomState(0).permutation(num_features)[:size_subsample]\n",
    "        AF = AF[:,feat_inds]    \n",
    "\n",
    "    qats = np.unique(AM.label.values)\n",
    "    nIter = 50\n",
    "\n",
    "    Cor = [] ## correlation between split RDM's\n",
    "    Cor2 = []\n",
    "    for it in np.arange(nIter):\n",
    "        Meta = [] # initialize adult subsampled metadata csv -- same for both halves\n",
    "        Feat1 = [] # initialize adult subsampled feature matrix -- constitutes first half\n",
    "        Feat2 = [] # initialize adult subsampled feature matrix -- constitutes second half\n",
    "        if it%5==0:\n",
    "            print('Iteration {} of {}'.format(it,nIter))\n",
    "        for q in qats:\n",
    "            ind = AM.index[AM['label'] == q]\n",
    "            meta = AM.loc[ind]\n",
    "            meta = meta.reset_index(drop=True)\n",
    "            feat = AF[ind.tolist()]\n",
    "\n",
    "            how_many = int(knpc[q]) ## look up approx(!) how many younger/older kid sketches we have from this class\n",
    "            row_inds = np.random.RandomState(it).permutation(meta.shape[0])[:how_many]\n",
    "            metasamp = meta.loc[row_inds]\n",
    "            featsamp = feat[row_inds.tolist()] ## subsample first \"split-half\" feature mat\n",
    "\n",
    "            row_inds_2 = np.random.RandomState(it).permutation(meta.shape[0])[how_many*2:how_many*3] ## get the next drawings in the permuted list\n",
    "            featsamp2 = feat[row_inds_2.tolist()] ## subsample second \"split-half\" feature mat\n",
    "\n",
    "            if len(Meta)==0:        \n",
    "                Meta = metasamp\n",
    "                Feat1 = featsamp\n",
    "                Feat2 = featsamp2\n",
    "            else:\n",
    "                Meta = pd.concat((Meta,metasamp))\n",
    "                Feat1 = np.vstack((Feat1,featsamp)) \n",
    "                Feat2 = np.vstack((Feat2,featsamp2))\n",
    "\n",
    "        ## get class means        \n",
    "        Meta = Meta.reset_index(drop=True)\n",
    "        means1 = get_class_means(Feat1, Meta.label.values)\n",
    "        means2 = get_class_means(Feat2, Meta.label.values)\n",
    "\n",
    "        ## get RDM for each half\n",
    "        rdm1 = get_RDM(Meta,Feat1,sort_inds)\n",
    "        rdm2 = get_RDM(Meta,Feat2,sort_inds)\n",
    "                \n",
    "        dim = rdm1.shape[0]\n",
    "        cor = stats.spearmanr(np.ravel(rdm1[np.triu_indices(dim,k=1)]), \\\n",
    "                              np.ravel(adult_rock_RDM[np.triu_indices(dim,k=1)]))[0]\n",
    "        cor2 = stats.spearmanr(np.ravel(rdm1[np.triu_indices(dim,k=1)]), \\\n",
    "                              np.ravel(rdm2[np.triu_indices(dim,k=1)]))[0]\n",
    "        Cor.append(cor)\n",
    "        Cor2.append(cor2)\n",
    "    CORR.append(Cor)\n",
    "    CORR2.append(Cor2)"
   ]
  },
  {
   "cell_type": "code",
   "execution_count": 565,
   "metadata": {
    "collapsed": true
   },
   "outputs": [],
   "source": [
    "CORR2 = np.array(CORR2)\n",
    "np.save('./rdm/adult_split_reliability_by_layer_nIter50.npy',CORR2)"
   ]
  },
  {
   "cell_type": "code",
   "execution_count": 566,
   "metadata": {
    "collapsed": true
   },
   "outputs": [],
   "source": [
    "CORR = np.array(CORR)\n",
    "np.save('./rdm/adult_noisy-vs-rock_reliability_by_layer_nIter50.npy',CORR)"
   ]
  },
  {
   "cell_type": "code",
   "execution_count": 567,
   "metadata": {},
   "outputs": [
    {
     "data": {
      "text/plain": [
       "array([ 0.39874491,  0.43497382,  0.44523647,  0.52166678,  0.60330551,\n",
       "        0.62480381,  0.64736579])"
      ]
     },
     "execution_count": 567,
     "metadata": {},
     "output_type": "execute_result"
    }
   ],
   "source": [
    "CORR2.mean(1)"
   ]
  },
  {
   "cell_type": "code",
   "execution_count": 568,
   "metadata": {},
   "outputs": [
    {
     "data": {
      "text/plain": [
       "array([ 0.1454201 ,  0.16539968,  0.20519897,  0.33762497,  0.51146982,\n",
       "        0.67240697,  0.70965234])"
      ]
     },
     "execution_count": 568,
     "metadata": {},
     "output_type": "execute_result"
    }
   ],
   "source": [
    "CORR.mean(1)"
   ]
  },
  {
   "cell_type": "code",
   "execution_count": 563,
   "metadata": {},
   "outputs": [
    {
     "data": {
      "text/plain": [
       "<matplotlib.legend.Legend at 0x7fce61b4ca10>"
      ]
     },
     "execution_count": 563,
     "metadata": {},
     "output_type": "execute_result"
    },
    {
     "data": {
      "image/png": "iVBORw0KGgoAAAANSUhEUgAAAZcAAAF8CAYAAAAD5fZMAAAABHNCSVQICAgIfAhkiAAAAAlwSFlz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\nixBCCIOT5iKEEMLg/g+6FsaLcIb0YQAAAABJRU5ErkJggg==\n",
      "text/plain": [
       "<matplotlib.figure.Figure at 0x7fce61d39e90>"
      ]
     },
     "metadata": {},
     "output_type": "display_data"
    }
   ],
   "source": [
    "## dimensionality of SEM_JACK is num_cohorts x num_layers\n",
    "sem_ya = SEM_JACK[0,:]\n",
    "sem_oa = SEM_JACK[1,:]\n",
    "import seaborn as sns\n",
    "sns.set_context('talk')\n",
    "sns.set_style('white')\n",
    "plt.figure(figsize=(6,6))\n",
    "h = plt.errorbar(np.arange(1,8),corYA,yerr=[sem_ya,sem_ya], color=[0.6, 0.6, 0.6], ecolor=[0.6, 0.6, 0.6],label='younger vs. rock-solid adult')\n",
    "h = plt.errorbar(np.arange(1,8),corOA,yerr=[sem_oa,sem_oa], color=[0.2, 0.2, 0.2], ecolor=[0.2, 0.2, 0.2],label='older vs. rock-solid adult')\n",
    "h = plt.errorbar(np.arange(1,8),np.mean(CORR2,1),yerr=np.std(CORR2,1),linewidth=5,label='noisy adult vs. noisy-adult')\n",
    "plt.xlabel('model layer')\n",
    "plt.ylabel('between-cohort similarity')\n",
    "plt.legend()"
   ]
  },
  {
   "cell_type": "markdown",
   "metadata": {},
   "source": [
    "### Jackknife resampling on class for noisy adult"
   ]
  },
  {
   "cell_type": "code",
   "execution_count": 546,
   "metadata": {},
   "outputs": [
    {
     "name": "stdout",
     "output_type": "stream",
     "text": [
      "Loading in adult features for layer 0...\n",
      "Shape of adult feature tensor: (1600, 802816)\n",
      "Iteration 0 of 1\n",
      "Shape of adult feature tensor: (136, 50000)\n",
      "Performing jackknife resampling ...\n",
      "Iteration 0 of 16\n",
      "Iteration 4 of 16\n",
      "Iteration 8 of 16\n",
      "Iteration 12 of 16\n",
      "Loading in adult features for layer 1...\n",
      "Shape of adult feature tensor: (1600, 401408)\n",
      "Iteration 0 of 1\n",
      "Shape of adult feature tensor: (136, 50000)\n",
      "Performing jackknife resampling ...\n",
      "Iteration 0 of 16\n",
      "Iteration 4 of 16\n",
      "Iteration 8 of 16\n",
      "Iteration 12 of 16\n",
      "Loading in adult features for layer 2...\n",
      "Shape of adult feature tensor: (1600, 200704)\n",
      "Iteration 0 of 1\n",
      "Shape of adult feature tensor: (136, 50000)\n",
      "Performing jackknife resampling ...\n",
      "Iteration 0 of 16\n",
      "Iteration 4 of 16\n",
      "Iteration 8 of 16\n",
      "Iteration 12 of 16\n",
      "Loading in adult features for layer 3...\n",
      "Shape of adult feature tensor: (1600, 100352)\n",
      "Iteration 0 of 1\n",
      "Shape of adult feature tensor: (136, 50000)\n",
      "Performing jackknife resampling ...\n",
      "Iteration 0 of 16\n",
      "Iteration 4 of 16\n",
      "Iteration 8 of 16\n",
      "Iteration 12 of 16\n",
      "Loading in adult features for layer 4...\n",
      "Shape of adult feature tensor: (1600, 25088)\n",
      "Iteration 0 of 1\n",
      "Shape of adult feature tensor: (136, 25088)\n",
      "Performing jackknife resampling ...\n",
      "Iteration 0 of 16\n",
      "Iteration 4 of 16\n",
      "Iteration 8 of 16\n",
      "Iteration 12 of 16\n",
      "Loading in adult features for layer 5...\n",
      "Shape of adult feature tensor: (1600, 4096)\n",
      "Iteration 0 of 1\n",
      "Shape of adult feature tensor: (136, 4096)\n",
      "Performing jackknife resampling ...\n",
      "Iteration 0 of 16\n",
      "Iteration 4 of 16\n",
      "Iteration 8 of 16\n",
      "Iteration 12 of 16\n",
      "Loading in adult features for layer 6...\n",
      "Shape of adult feature tensor: (1600, 4096)\n",
      "Iteration 0 of 1\n",
      "Shape of adult feature tensor: (136, 4096)\n",
      "Performing jackknife resampling ...\n",
      "Iteration 0 of 16\n",
      "Iteration 4 of 16\n",
      "Iteration 8 of 16\n",
      "Iteration 12 of 16\n"
     ]
    }
   ],
   "source": [
    "###### jackknife resampling on class for noisy adult -- rock-solid adult RDM similarity\n",
    "\n",
    "## load in rock-solid RDM estimated on 1000 drawings per class\n",
    "adult_rock_RDM = np.load('./rdm/RDM_adult_6.npy') \n",
    "\n",
    "lb = 0\n",
    "ub = 7\n",
    "nIter = len(these_labels)\n",
    "\n",
    "\n",
    "\n",
    "## loop through all kid layers and save out their RDM\n",
    "Cormat = [] ## cohort-level grouping of cross-cohort similarity\n",
    "for layer_num in np.arange(lb,ub):\n",
    "\n",
    "    ### loading in all adult features\n",
    "    print 'Loading in adult features for layer {}...'.format(layer_num)\n",
    "    AF, AM = load_features('adult',layer_num)\n",
    "    AF, AM = remove_practice_trials(AF, AM)\n",
    "    AM = AM.reset_index(drop=True)\n",
    "    AF, AM = adult_preproc(AF, AM, these_labels)\n",
    "    print 'Shape of adult feature tensor: {}'.format(np.shape(AF)) \n",
    "    \n",
    "    ## subsample features especially for lower layers\n",
    "    num_features = AF.shape[1]\n",
    "    size_subsample = 50000\n",
    "    if num_features>size_subsample:\n",
    "        feat_inds = np.random.RandomState(0).permutation(num_features)[:size_subsample]\n",
    "        AF = AF[:,feat_inds]\n",
    "\n",
    "    qats = np.unique(AM.label.values)\n",
    "    nIter = 1\n",
    "\n",
    "    ## getting subsampled noisy adult features\n",
    "    Cor = [] ## correlation between split RDM's\n",
    "    for it in np.arange(nIter):\n",
    "        Meta = [] # initialize adult subsampled metadata csv -- same for both halves\n",
    "        Feat1 = [] # initialize adult subsampled feature matrix -- constitutes first half\n",
    "        Feat2 = [] # initialize adult subsampled feature matrix -- constitutes second half\n",
    "        if it%5==0:\n",
    "            print('Iteration {} of {}'.format(it,nIter))\n",
    "        for q in qats:\n",
    "            ind = AM.index[AM['label'] == q]\n",
    "            meta = AM.loc[ind]\n",
    "            meta = meta.reset_index(drop=True)\n",
    "            feat = AF[ind.tolist()]\n",
    "\n",
    "            how_many = int(knpc[q]) ## look up approx(!) how many younger/older kid sketches we have from this class\n",
    "            row_inds = np.random.RandomState(it).permutation(meta.shape[0])[:how_many]\n",
    "            metasamp = meta.loc[row_inds]\n",
    "            featsamp = feat[row_inds.tolist()] ## subsample first \"split-half\" feature mat\n",
    "\n",
    "            if len(Meta)==0:\n",
    "                Meta = metasamp\n",
    "                Feat1 = featsamp\n",
    "            else:\n",
    "                Meta = pd.concat((Meta,metasamp))\n",
    "                Feat1 = np.vstack((Feat1,featsamp)) \n",
    "\n",
    "        ## define feature matrix and metadata         \n",
    "        NAM = Meta.reset_index(drop=True)\n",
    "        NAF = Feat1\n",
    "        print 'Shape of adult feature tensor: {}'.format(np.shape(NAF)) \n",
    "\n",
    "        ## jackknife resample through classes\n",
    "        print 'Performing jackknife resampling ...'\n",
    "        ARDM = []\n",
    "        NARDM = []\n",
    "        cormat = [] ## layer-level grouping of cross-cohort similarity\n",
    "        num_cats = 16\n",
    "        for i in range(num_cats):\n",
    "            if i%4==0:\n",
    "                print 'Iteration {} of {}'.format(i,num_cats)\n",
    "\n",
    "            ## get RDM adult for adults, aggregate across iterations\n",
    "            nardm = get_RDM_resampled(NAM, NAF,sort_inds,i) \n",
    "            ardm = get_RDM_resampled(AM,AF,sort_inds,i)\n",
    "            if len(ARDM)==0:\n",
    "                ARDM = ardm\n",
    "                NARDM = nardm\n",
    "            else:\n",
    "                ARDM = np.dstack((ARDM,ardm))   \n",
    "                NARDM = np.dstack((NARDM,nardm)) \n",
    "            ## compute similarity between noisy-adult RDM and rock-solid RDM                                                \n",
    "            cormat.append(get_rdm_similarity(nardm,ardm))\n",
    "        ## layer level aggregation    \n",
    "        Cormat.append(cormat)\n",
    "        ARDM = np.array(ARDM)  \n",
    "        NARDM = np.array(NARDM)            \n",
    "        ## save out jackknifed RDM        \n",
    "        np.save('./rdm/RDM_jackknife_{}_{}.npy'.format('noisy_adult',layer_num),NARDM)  \n",
    "        np.save('./rdm/RDM_jackknife_{}_{}.npy'.format('adult_micro',layer_num),ARDM)\n",
    "\n",
    "Cormat = np.array(Cormat)                      "
   ]
  },
  {
   "cell_type": "code",
   "execution_count": 550,
   "metadata": {},
   "outputs": [
    {
     "data": {
      "text/plain": [
       "array([ 0.65594417,  0.68178908,  0.64083364,  0.68397198,  0.77387   ,\n",
       "        0.83208843,  0.82904572])"
      ]
     },
     "execution_count": 550,
     "metadata": {},
     "output_type": "execute_result"
    }
   ],
   "source": [
    "Cormat.mean(1)"
   ]
  },
  {
   "cell_type": "code",
   "execution_count": null,
   "metadata": {
    "collapsed": true
   },
   "outputs": [],
   "source": []
  },
  {
   "cell_type": "code",
   "execution_count": null,
   "metadata": {
    "collapsed": true
   },
   "outputs": [],
   "source": []
  },
  {
   "cell_type": "code",
   "execution_count": 505,
   "metadata": {
    "collapsed": true
   },
   "outputs": [],
   "source": []
  },
  {
   "cell_type": "code",
   "execution_count": 508,
   "metadata": {
    "collapsed": true
   },
   "outputs": [],
   "source": [
    "noisy_adult_6 = np.load('./rdm/RDM_jackknife_noisy_adult_6.npy')"
   ]
  },
  {
   "cell_type": "code",
   "execution_count": null,
   "metadata": {
    "collapsed": true
   },
   "outputs": [],
   "source": []
  },
  {
   "cell_type": "code",
   "execution_count": 511,
   "metadata": {},
   "outputs": [
    {
     "data": {
      "text/plain": [
       "16"
      ]
     },
     "execution_count": 511,
     "metadata": {},
     "output_type": "execute_result"
    }
   ],
   "source": []
  },
  {
   "cell_type": "code",
   "execution_count": null,
   "metadata": {
    "collapsed": true
   },
   "outputs": [],
   "source": [
    "def subsample_rdm(RDM,i):\n",
    "    '''\n",
    "    If you have a 16 objects x 16 objects RDM, and want to remove one of the objects,\n",
    "    yielding a 15x15 RDM, in order to compare to a jackknife RDM, apply this function.\n",
    "    \n",
    "    Generally speaking, it removes the i-th colum and row from the RDM.\n",
    "\n",
    "    '''\n",
    "    num_obj = RDM.shape[0]\n",
    "    keep = sorted(np.roll(range(num_obj),i)[:num_obj-1])\n",
    "    tmp = RDM[keep,:]\n",
    "    tmp = tmp[:,keep]   \n",
    "    return tmp\n",
    "\n"
   ]
  },
  {
   "cell_type": "code",
<<<<<<< HEAD
=======
   "execution_count": 531,
   "metadata": {
    "collapsed": true
   },
   "outputs": [],
   "source": []
  },
  {
   "cell_type": "code",
   "execution_count": 544,
   "metadata": {
    "collapsed": true
   },
   "outputs": [],
   "source": [
    "\n"
   ]
  },
  {
   "cell_type": "code",
   "execution_count": 545,
   "metadata": {},
   "outputs": [
    {
     "data": {
      "text/plain": [
       "802816"
      ]
     },
     "execution_count": 545,
     "metadata": {},
     "output_type": "execute_result"
    }
   ],
   "source": []
  },
  {
   "cell_type": "code",
   "execution_count": 542,
   "metadata": {},
   "outputs": [
    {
     "data": {
      "text/plain": [
       "(15, 15)"
      ]
     },
     "execution_count": 542,
     "metadata": {},
     "output_type": "execute_result"
    }
   ],
   "source": [
    "nardm.shape"
   ]
  },
  {
   "cell_type": "code",
   "execution_count": null,
   "metadata": {
    "collapsed": true
   },
   "outputs": [],
   "source": []
  },
  {
   "cell_type": "code",
   "execution_count": null,
   "metadata": {
    "collapsed": true
   },
   "outputs": [],
   "source": []
  },
  {
   "cell_type": "code",
   "execution_count": null,
   "metadata": {
    "collapsed": true
   },
   "outputs": [],
   "source": []
  },
  {
   "cell_type": "code",
   "execution_count": null,
   "metadata": {
    "collapsed": true
   },
   "outputs": [],
   "source": []
  },
  {
   "cell_type": "code",
   "execution_count": null,
   "metadata": {
    "collapsed": true
   },
   "outputs": [],
   "source": []
  },
  {
   "cell_type": "code",
   "execution_count": null,
   "metadata": {
    "collapsed": true
   },
   "outputs": [],
   "source": []
  },
  {
   "cell_type": "code",
   "execution_count": null,
   "metadata": {
    "collapsed": true
   },
   "outputs": [],
   "source": []
  },
  {
   "cell_type": "code",
   "execution_count": 414,
   "metadata": {
    "collapsed": true
   },
   "outputs": [],
   "source": [
    "# ## load in kid features by layer and get consistency\n",
    "# CORR = [] ## overall \n",
    "# first_layer = 0\n",
    "# num_layers = 7\n",
    "# cohorts = ['younger','older']\n",
    "\n",
    "# for cohort in cohorts:\n",
    "#     for layer_num in np.arange(first_layer,num_layers):\n",
    "#         print('Layer {} of {}'.format(layer_num,num_layers))\n",
    "#         KF, KM = load_features('kid',layer_num)\n",
    "\n",
    "#         qats = np.unique(KM.label.values)\n",
    "#         Meta = [] # initialize adult subsampled metadata csv -- same for both halves\n",
    "#         Feat1 = [] # initialize adult subsampled feature matrix -- constitutes first half\n",
    "#         Feat2 = [] # initialize adult subsampled feature matrix -- constitutes second half\n",
    "\n",
    "#         nIter = 10\n",
    "\n",
    "#         Cor = [] ## correlation between split RDM's\n",
    "#         for it in np.arange(nIter):\n",
    "#             if it%5==0:\n",
    "#                 print('Iteration {} of {}'.format(it,nIter))\n",
    "#             for q in qats:\n",
    "#                 ind = KM.index[(KM['label'] == q) & (KM['coarse_age']==cohort)]\n",
    "#                 meta = KM.loc[ind]\n",
    "#                 meta = meta.reset_index(drop=True)\n",
    "#                 feat = KF[ind.tolist()]\n",
    "\n",
    "#                 how_many = np.floor(meta.shape[0]/2)\n",
    "\n",
    "#                 row_inds = np.random.RandomState(it).permutation(meta.shape[0])[:how_many]\n",
    "#                 metasamp = meta.loc[row_inds]\n",
    "#                 featsamp = feat[row_inds.tolist()] ## subsample first \"split-half\" feature mat\n",
    "\n",
    "#                 row_inds_2 = np.random.RandomState(it).permutation(meta.shape[0])[how_many:how_many*2] ## get the next drawings in the permuted list\n",
    "#                 featsamp2 = feat[row_inds_2.tolist()] ## subsample second \"split-half\" feature mat\n",
    "\n",
    "#                 if len(Meta)==0:\n",
    "#                     Meta = metasamp\n",
    "#                     Feat1 = featsamp\n",
    "#                     Feat2 = featsamp2\n",
    "#                 else:\n",
    "#                     Meta = pd.concat((Meta,metasamp))\n",
    "#                     Feat1 = np.vstack((Feat1,featsamp)) \n",
    "#                     Feat2 = np.vstack((Feat2,featsamp2))\n",
    "\n",
    "#             ## get class means        \n",
    "#             Meta = Meta.reset_index(drop=True)\n",
    "#             means1 = get_class_means(Feat1, Meta.label.values)\n",
    "#             means2 = get_class_means(Feat2, Meta.label.values)\n",
    "\n",
    "#             ## get RDM for each half\n",
    "#             rdm1 = get_RDM(Meta,Feat1,sort_inds)\n",
    "#             rdm2 = get_RDM(Meta,Feat2,sort_inds)\n",
    "\n",
    "#             dim = rdm1.shape[0]\n",
    "#             cor = stats.spearmanr(np.ravel(rdm1[np.triu_indices(dim,k=1)]),np.ravel(rdm2[np.triu_indices(dim,k=1)]))[0]\n",
    "#             Cor.append(cor)\n",
    "#         CORR.append(Cor)"
   ]
  },
  {
   "cell_type": "code",
   "execution_count": null,
   "metadata": {
    "collapsed": true
   },
   "outputs": [],
   "source": [
    "# CORR = np.array(CORR)\n",
    "# np.save('./rdm/kid_split_reliability_by_layer.npy',CORR)"
   ]
  },
  {
   "cell_type": "code",
>>>>>>> fac34eb96cad4fe36b6758c181bd70d9c8b5b61e
   "execution_count": null,
   "metadata": {
    "collapsed": true
   },
   "outputs": [],
   "source": []
  },
  {
   "cell_type": "code",
   "execution_count": 415,
   "metadata": {
    "collapsed": true
   },
   "outputs": [],
   "source": [
    "## this is a (7,10) matrix that is num_layers x numIterations\n",
    "x = np.load('./rdm/adult_split_reliability_by_layer.npy')"
   ]
  },
  {
   "cell_type": "code",
   "execution_count": 432,
   "metadata": {
    "collapsed": true
   },
   "outputs": [],
   "source": [
    "y = x.mean(1)"
   ]
  },
  {
   "cell_type": "code",
   "execution_count": null,
   "metadata": {
    "collapsed": true
   },
   "outputs": [],
   "source": []
  },
  {
   "cell_type": "code",
   "execution_count": null,
   "metadata": {
    "collapsed": true
   },
   "outputs": [],
   "source": [
    "### check preprocessing on images\n",
    "### older-younger consistency\n",
    "### pixel rdm similarity\n",
    "### variance within classes \n"
   ]
  }
 ],
 "metadata": {
  "kernelspec": {
   "display_name": "Python 2",
   "language": "python",
   "name": "python2"
  },
  "language_info": {
   "codemirror_mode": {
    "name": "ipython",
    "version": 2
   },
   "file_extension": ".py",
   "mimetype": "text/x-python",
   "name": "python",
   "nbconvert_exporter": "python",
   "pygments_lexer": "ipython2",
   "version": "2.7.12"
  }
 },
 "nbformat": 4,
 "nbformat_minor": 1
}
